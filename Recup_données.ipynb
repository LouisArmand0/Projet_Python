{
 "cells": [
  {
   "cell_type": "markdown",
   "metadata": {},
   "source": [
    "###  Notebook pour la récupération des données"
   ]
  },
  {
   "cell_type": "code",
   "execution_count": 14,
   "metadata": {},
   "outputs": [],
   "source": [
    "!pip install -q lxml \n",
    "#!pip install selenium"
   ]
  },
  {
   "cell_type": "code",
   "execution_count": 8,
   "metadata": {},
   "outputs": [],
   "source": [
    "# Librairies\n",
    "\n",
    "\n",
    "import bs4 \n",
    "import lxml\n",
    "import pandas as pd \n",
    "import urllib\n",
    "from urllib import request\n",
    "import time\n",
    "import requests\n",
    "import numpy as np\n",
    "\n",
    "#Selenium\n",
    "from selenium import webdriver\n",
    "from selenium.webdriver.common.keys import Keys\n",
    "from selenium.webdriver.common.by import By\n",
    "from selenium.webdriver.support.ui import WebDriverWait\n",
    "from selenium.webdriver.support import expected_conditions as EC"
   ]
  },
  {
   "cell_type": "markdown",
   "metadata": {},
   "source": [
    "# 1. Recupération des données\n",
    "## A. Les gros succcès au box-office"
   ]
  },
  {
   "cell_type": "code",
   "execution_count": 12,
   "metadata": {},
   "outputs": [],
   "source": [
    "url_bo = \"https://fr.wikipedia.org/wiki/Liste_des_plus_gros_succ%C3%A8s_du_box-office_mondial\"\n",
    "request_text = request.urlopen(url_bo).read()"
   ]
  },
  {
   "cell_type": "code",
   "execution_count": 15,
   "metadata": {},
   "outputs": [
    {
     "ename": "FeatureNotFound",
     "evalue": "Couldn't find a tree builder with the features you requested: lxml. Do you need to install a parser library?",
     "output_type": "error",
     "traceback": [
      "\u001b[1;31m---------------------------------------------------------------------------\u001b[0m",
      "\u001b[1;31mFeatureNotFound\u001b[0m                           Traceback (most recent call last)",
      "Cell \u001b[1;32mIn[15], line 2\u001b[0m\n\u001b[0;32m      1\u001b[0m \u001b[38;5;66;03m# Recherche des balises HTML\u001b[39;00m\n\u001b[1;32m----> 2\u001b[0m page \u001b[38;5;241m=\u001b[39m \u001b[43mbs4\u001b[49m\u001b[38;5;241;43m.\u001b[39;49m\u001b[43mBeautifulSoup\u001b[49m\u001b[43m(\u001b[49m\u001b[43mrequest_text\u001b[49m\u001b[43m,\u001b[49m\u001b[43m \u001b[49m\u001b[38;5;124;43m\"\u001b[39;49m\u001b[38;5;124;43mlxml\u001b[39;49m\u001b[38;5;124;43m\"\u001b[39;49m\u001b[43m)\u001b[49m\n",
      "File \u001b[1;32m~\\anaconda3\\envs\\tensorflow\\lib\\site-packages\\bs4\\__init__.py:250\u001b[0m, in \u001b[0;36mBeautifulSoup.__init__\u001b[1;34m(self, markup, features, builder, parse_only, from_encoding, exclude_encodings, element_classes, **kwargs)\u001b[0m\n\u001b[0;32m    248\u001b[0m     builder_class \u001b[38;5;241m=\u001b[39m builder_registry\u001b[38;5;241m.\u001b[39mlookup(\u001b[38;5;241m*\u001b[39mfeatures)\n\u001b[0;32m    249\u001b[0m     \u001b[38;5;28;01mif\u001b[39;00m builder_class \u001b[38;5;129;01mis\u001b[39;00m \u001b[38;5;28;01mNone\u001b[39;00m:\n\u001b[1;32m--> 250\u001b[0m         \u001b[38;5;28;01mraise\u001b[39;00m FeatureNotFound(\n\u001b[0;32m    251\u001b[0m             \u001b[38;5;124m\"\u001b[39m\u001b[38;5;124mCouldn\u001b[39m\u001b[38;5;124m'\u001b[39m\u001b[38;5;124mt find a tree builder with the features you \u001b[39m\u001b[38;5;124m\"\u001b[39m\n\u001b[0;32m    252\u001b[0m             \u001b[38;5;124m\"\u001b[39m\u001b[38;5;124mrequested: \u001b[39m\u001b[38;5;132;01m%s\u001b[39;00m\u001b[38;5;124m. Do you need to install a parser library?\u001b[39m\u001b[38;5;124m\"\u001b[39m\n\u001b[0;32m    253\u001b[0m             \u001b[38;5;241m%\u001b[39m \u001b[38;5;124m\"\u001b[39m\u001b[38;5;124m,\u001b[39m\u001b[38;5;124m\"\u001b[39m\u001b[38;5;241m.\u001b[39mjoin(features))\n\u001b[0;32m    255\u001b[0m \u001b[38;5;66;03m# At this point either we have a TreeBuilder instance in\u001b[39;00m\n\u001b[0;32m    256\u001b[0m \u001b[38;5;66;03m# builder, or we have a builder_class that we can instantiate\u001b[39;00m\n\u001b[0;32m    257\u001b[0m \u001b[38;5;66;03m# with the remaining **kwargs.\u001b[39;00m\n\u001b[0;32m    258\u001b[0m \u001b[38;5;28;01mif\u001b[39;00m builder \u001b[38;5;129;01mis\u001b[39;00m \u001b[38;5;28;01mNone\u001b[39;00m:\n",
      "\u001b[1;31mFeatureNotFound\u001b[0m: Couldn't find a tree builder with the features you requested: lxml. Do you need to install a parser library?"
     ]
    }
   ],
   "source": [
    "# Recherche des balises HTML\n",
    "page = bs4.BeautifulSoup(request_text, \"lxml\")"
   ]
  },
  {
   "cell_type": "code",
   "execution_count": 16,
   "metadata": {},
   "outputs": [
    {
     "ename": "NameError",
     "evalue": "name 'page' is not defined",
     "output_type": "error",
     "traceback": [
      "\u001b[1;31m---------------------------------------------------------------------------\u001b[0m",
      "\u001b[1;31mNameError\u001b[0m                                 Traceback (most recent call last)",
      "Cell \u001b[1;32mIn[16], line 2\u001b[0m\n\u001b[0;32m      1\u001b[0m \u001b[38;5;66;03m# Récupération du tableau Box-Office\u001b[39;00m\n\u001b[1;32m----> 2\u001b[0m tableau_bo \u001b[38;5;241m=\u001b[39m \u001b[43mpage\u001b[49m\u001b[38;5;241m.\u001b[39mfind(\u001b[38;5;124m'\u001b[39m\u001b[38;5;124mtable\u001b[39m\u001b[38;5;124m'\u001b[39m, {\u001b[38;5;124m'\u001b[39m\u001b[38;5;124mclass\u001b[39m\u001b[38;5;124m'\u001b[39m, \u001b[38;5;124m\"\u001b[39m\u001b[38;5;124mwikitable sortable centre\u001b[39m\u001b[38;5;124m\"\u001b[39m})\n\u001b[0;32m      4\u001b[0m \u001b[38;5;66;03m# Recupération de chaque ligne du tableau\u001b[39;00m\n\u001b[0;32m      5\u001b[0m table_body \u001b[38;5;241m=\u001b[39m tableau_bo\u001b[38;5;241m.\u001b[39mfind(\u001b[38;5;124m'\u001b[39m\u001b[38;5;124mtbody\u001b[39m\u001b[38;5;124m'\u001b[39m)\n",
      "\u001b[1;31mNameError\u001b[0m: name 'page' is not defined"
     ]
    }
   ],
   "source": [
    "# Récupération du tableau Box-Office\n",
    "tableau_bo = page.find('table', {'class', \"wikitable sortable centre\"})\n",
    "\n",
    "# Recupération de chaque ligne du tableau\n",
    "table_body = tableau_bo.find('tbody')\n",
    "rows = table_body.find_all('tr')"
   ]
  },
  {
   "cell_type": "code",
   "execution_count": 6,
   "metadata": {},
   "outputs": [
    {
     "name": "stdout",
     "output_type": "stream",
     "text": [
      "[]\n",
      "['1', '1', 'Avatar', 'James Cameron', '2009', 'États-Unis', '2\\xa0923\\xa0706\\xa0026\\xa0$[a 2]']\n",
      "['2', '1', 'Avengers: Endgame', 'Anthony etJoe Russo', '2019', 'États-Unis', '2\\xa0799\\xa0439\\xa0100\\xa0$[a 3]']\n",
      "['3', '3', \"Avatar\\xa0: La Voie de l'eau\", 'James Cameron', '2022', 'États-Unis', '2\\xa0320\\xa0250\\xa0281\\xa0$[a 4]']\n",
      "['4', '1', 'Titanic', 'James Cameron', '1997', 'États-Unis', '2\\xa0264\\xa0743\\xa0305\\xa0$[a 5]']\n",
      "['5', '3', 'Star Wars, épisode VII\\xa0: Le Réveil de la Force', 'J. J. Abrams', '2015', 'États-Unis', '2\\xa0071\\xa0310\\xa0218\\xa0$[a 6]']\n",
      "['6', '4', 'Avengers: Infinity War', 'Anthony etJoe Russo', '2018', 'États-Unis', '2\\xa0052\\xa0415\\xa0039\\xa0$[a 7]']\n",
      "['7', '6', 'Spider-Man: No Way Home', 'Jon Watts', '2021', 'États-Unis', '1\\xa0921\\xa0847\\xa0111\\xa0$[a 8]']\n",
      "['8', '3', 'Jurassic World', 'Colin Trevorrow', '2015', 'États-Unis', '1\\xa0671\\xa0537\\xa0444\\xa0$[a 9]']\n",
      "['9', '7', 'Le Roi lion', 'Jon Favreau', '2019', 'États-Unis', '1\\xa0663\\xa0075\\xa0401\\xa0$[a 10]']\n",
      "['10', '3', 'Avengers', 'Joss Whedon', '2012', 'États-Unis', '1\\xa0520\\xa0538\\xa0536\\xa0$[a 11]']\n",
      "['11', '4', 'Fast and Furious 7', 'James Wan', '2015', 'États-Unis', '1\\xa0515\\xa0341\\xa0399\\xa0$[a 12]']\n",
      "['12', '11', 'Top Gun\\xa0: Maverick', 'Joseph Kosinski', '2022', 'États-Unis', '1\\xa0495\\xa0696\\xa0292\\xa0$[a 13]']\n",
      "['13', '10', 'La Reine des neiges 2', 'Chris BuckJennifer Lee', '2019', 'États-Unis', '1\\xa0453\\xa0683\\xa0476\\xa0$[a 14]']\n",
      "['14', '14', 'Barbie', 'Greta Gerwig', '2023', 'États-Unis Royaume-Uni', '1\\xa0441\\xa0730\\xa0965\\xa0$[a 15]']\n",
      "['15', '5', \"Avengers\\xa0: L'Ère d'Ultron\", 'Joss Whedon', '2015', 'États-Unis', '1\\xa0405\\xa0018\\xa0048\\xa0$[a 16]']\n",
      "['16', '15', 'Super Mario Bros. le film', 'Aaron HorvathMichael Jelenic\\xa0(en)', '2023', 'États-Unis Japon', '1\\xa0361\\xa0990\\xa0276\\xa0$[a 17]']\n",
      "['17', '9', 'Black Panther', 'Ryan Coogler', '2018', 'États-Unis', '1\\xa0349\\xa0926\\xa0083\\xa0$[a 18]']\n",
      "['18', '3', 'Harry Potter et les Reliques de la Mort\\xa0: Partie 2', 'David Yates', '2011', 'États-Unis Royaume-Uni', '1\\xa0342\\xa0360\\xa0114\\xa0$[a 19]']\n",
      "['19', '9', 'Star Wars, épisode VIII\\xa0: Les Derniers Jedi', 'Rian Johnson', '2017', 'États-Unis', '1\\xa0334\\xa0407\\xa0706\\xa0$[a 20]']\n",
      "['20', '5', 'La Reine des neiges', 'Chris BuckJennifer Lee', '2013', 'États-Unis', '1\\xa0334\\xa0291\\xa0571\\xa0$[a 21]']\n",
      "['21', '12', 'Jurassic World: Fallen Kingdom', 'J.A. Bayona', '2018', 'États-Unis', '1\\xa0310\\xa0466\\xa0296\\xa0$[a 22]']\n",
      "['22', '10', 'La Belle et la Bête', 'Bill Condon', '2017', 'États-Unis', '1\\xa0266\\xa0115\\xa0964\\xa0$[a 23]']\n",
      "['23', '15', 'Les Indestructibles 2', 'Brad Bird', '2018', 'États-Unis', '1\\xa0243\\xa0225\\xa0667\\xa0$[a 24]']\n",
      "['24', '11', 'Fast and Furious 8', 'F. Gary Gray', '2017', 'États-Unis', '1\\xa0236\\xa0005\\xa0118\\xa0$[a 25]']\n",
      "['25', '5', 'Iron Man 3', 'Shane Black', '2013', 'États-Unis', '1\\xa0215\\xa0577\\xa0205\\xa0$[a 26]']\n",
      "['26', '10', 'Les Minions', 'Kyle BaldaPierre Coffin', '2015', 'États-Unis France Japon', '1\\xa0159\\xa0444\\xa0662\\xa0$[a 27]']\n",
      "['27', '2', 'Le Seigneur des anneaux\\xa0: Le Retour du roi', 'Peter Jackson', '2003', 'États-Unis Nouvelle-Zélande', '1\\xa0155\\xa0870\\xa0721\\xa0$[a 28]']\n",
      "['28', '12', 'Captain America: Civil War', 'Anthony etJoe Russo', '2016', 'États-Unis', '1\\xa0155\\xa0046\\xa0416\\xa0$[a 29]']\n",
      "['29', '20', 'Aquaman', 'James Wan', '2018', 'États-Unis', '1\\xa0152\\xa0028\\xa0393\\xa0$[a 30]']\n",
      "['30', '7', 'Skyfall', 'Sam Mendes', '2012', 'États-Unis Royaume-Uni', '1\\xa0142\\xa0471\\xa0295\\xa0$[a 31]']\n",
      "['31', '24', 'Spider-Man: Far From Home', 'Jon Watts', '2019', 'États-Unis', '1\\xa0131\\xa0927\\xa0996\\xa0$[a 32]']\n",
      "['32', '23', 'Captain Marvel', 'Anna BodenRyan Fleck', '2019', 'États-Unis', '1\\xa0131\\xa0416\\xa0446\\xa0$[a 33]']\n",
      "['33', '5', 'Transformers 3\\xa0: La Face cachée de la Lune', 'Michael Bay', '2011', 'États-Unis', '1\\xa0123\\xa0794\\xa0079\\xa0$[a 34]']\n",
      "['34', '1', 'Jurassic Park', 'Steven Spielberg', '1993', 'États-Unis', '1\\xa0113\\xa0138\\xa0548\\xa0$[a 35]']\n",
      "['35', '10', \"Transformers\\xa0: L'Âge de l'extinction\", 'Michael Bay', '2014', 'États-Unis', '1\\xa0104\\xa0054\\xa0072\\xa0$[a 36]']\n",
      "['36', '7', 'The Dark Knight Rises', 'Christopher Nolan', '2012', 'États-Unis Royaume-Uni', '1\\xa0085\\xa0067\\xa0637\\xa0$[a 37]']\n",
      "['37', '31', 'Joker', 'Todd Phillips', '2019', 'États-Unis', '1\\xa0078\\xa0958\\xa0282\\xa0$[a 38]']\n",
      "['38', '32', \"Star Wars, épisode IX\\xa0: L'Ascension de Skywalker\", 'J. J. Abrams', '2019', 'États-Unis', '1\\xa0077\\xa0022\\xa0372\\xa0$[a 39]']\n",
      "['39', '30', 'Toy Story 4', 'Josh Cooley', '2019', 'États-Unis', '1\\xa0073\\xa0841\\xa0394\\xa0$[a 40]']\n",
      "['40', '4', 'Toy Story 3', 'Lee Unkrich', '2010', 'États-Unis', '1\\xa0067\\xa0316\\xa0101\\xa0$[a 41]']\n",
      "['41', '3', 'Pirates des Caraïbes\\xa0: Le Secret du coffre maudit', 'Gore Verbinski', '2006', 'États-Unis', '1\\xa0066\\xa0179\\xa0747\\xa0$[a 42]']\n",
      "['42', '20', 'Rogue One: A Star Wars Story', 'Gareth Edwards', '2016', 'États-Unis', '1\\xa0058\\xa0682\\xa0142\\xa0$[a 43]']\n",
      "['43', '34', 'Aladdin', 'Guy Ritchie', '2019', 'États-Unis', '1\\xa0054\\xa0304\\xa0000\\xa0$[a 44]']\n",
      "['44', '6', 'Pirates des Caraïbes\\xa0: La Fontaine de Jouvence', 'Rob Marshall', '2011', 'États-Unis', '1\\xa0046\\xa0721\\xa0266\\xa0$[a 45]']\n",
      "['45', '24', 'Moi, moche et méchant 3', 'Kyle BaldaPierre Coffin', '2017', 'États-Unis', '1\\xa0034\\xa0800\\xa0131\\xa0$[a 46]']\n",
      "['46', '22', 'Le Monde de Dory', 'Andrew Stanton', '2016', 'États-Unis', '1\\xa0029\\xa0266\\xa0989\\xa0$[a 47]']\n",
      "['47', '2', 'Star Wars, épisode I\\xa0: La Menace fantôme', 'George Lucas', '1999', 'États-Unis', '1\\xa0027\\xa0082\\xa0707\\xa0$[a 48]']\n",
      "['48', '24', 'Zootopie', 'Byron HowardRich Moore', '2016', 'États-Unis', '1\\xa0025\\xa0521\\xa0689\\xa0$[a 49]']\n",
      "['49', '5', 'Alice au pays des merveilles', 'Tim Burton', '2010', 'États-Unis', '1\\xa0025\\xa0468\\xa0216\\xa0$[a 50]']\n",
      "['50', '2', \"Harry Potter à l'école des sorciers\", 'Chris Columbus', '2001', 'États-Unis Royaume-Uni', '1\\xa0024\\xa0254\\xa0401\\xa0$[a 51]']\n"
     ]
    }
   ],
   "source": [
    "# Nettoyage de la couche HTML pour ne garder qye le texte utile sur une ligne\n",
    "for row in rows:\n",
    "    cols = row.find_all('td')\n",
    "    cols = [ele.text.strip() for ele in cols]\n",
    "    print(cols)"
   ]
  },
  {
   "cell_type": "code",
   "execution_count": 7,
   "metadata": {},
   "outputs": [
    {
     "data": {
      "text/html": [
       "<div>\n",
       "<style scoped>\n",
       "    .dataframe tbody tr th:only-of-type {\n",
       "        vertical-align: middle;\n",
       "    }\n",
       "\n",
       "    .dataframe tbody tr th {\n",
       "        vertical-align: top;\n",
       "    }\n",
       "\n",
       "    .dataframe thead th {\n",
       "        text-align: right;\n",
       "    }\n",
       "</style>\n",
       "<table border=\"1\" class=\"dataframe\">\n",
       "  <thead>\n",
       "    <tr style=\"text-align: right;\">\n",
       "      <th></th>\n",
       "      <th>0</th>\n",
       "      <th>1</th>\n",
       "      <th>2</th>\n",
       "      <th>3</th>\n",
       "      <th>4</th>\n",
       "      <th>5</th>\n",
       "    </tr>\n",
       "  </thead>\n",
       "  <tbody>\n",
       "    <tr>\n",
       "      <th>1</th>\n",
       "      <td>1</td>\n",
       "      <td>Avatar</td>\n",
       "      <td>James Cameron</td>\n",
       "      <td>2009</td>\n",
       "      <td>États-Unis</td>\n",
       "      <td>2 923 706 026 $[a 2]</td>\n",
       "    </tr>\n",
       "    <tr>\n",
       "      <th>2</th>\n",
       "      <td>1</td>\n",
       "      <td>Avengers: Endgame</td>\n",
       "      <td>Anthony etJoe Russo</td>\n",
       "      <td>2019</td>\n",
       "      <td>États-Unis</td>\n",
       "      <td>2 799 439 100 $[a 3]</td>\n",
       "    </tr>\n",
       "    <tr>\n",
       "      <th>3</th>\n",
       "      <td>3</td>\n",
       "      <td>Avatar : La Voie de l'eau</td>\n",
       "      <td>James Cameron</td>\n",
       "      <td>2022</td>\n",
       "      <td>États-Unis</td>\n",
       "      <td>2 320 250 281 $[a 4]</td>\n",
       "    </tr>\n",
       "    <tr>\n",
       "      <th>4</th>\n",
       "      <td>1</td>\n",
       "      <td>Titanic</td>\n",
       "      <td>James Cameron</td>\n",
       "      <td>1997</td>\n",
       "      <td>États-Unis</td>\n",
       "      <td>2 264 743 305 $[a 5]</td>\n",
       "    </tr>\n",
       "    <tr>\n",
       "      <th>5</th>\n",
       "      <td>3</td>\n",
       "      <td>Star Wars, épisode VII : Le Réveil de la Force</td>\n",
       "      <td>J. J. Abrams</td>\n",
       "      <td>2015</td>\n",
       "      <td>États-Unis</td>\n",
       "      <td>2 071 310 218 $[a 6]</td>\n",
       "    </tr>\n",
       "  </tbody>\n",
       "</table>\n",
       "</div>"
      ],
      "text/plain": [
       "   0                                               1                    2  \\\n",
       "1  1                                          Avatar        James Cameron   \n",
       "2  1                               Avengers: Endgame  Anthony etJoe Russo   \n",
       "3  3                       Avatar : La Voie de l'eau        James Cameron   \n",
       "4  1                                         Titanic        James Cameron   \n",
       "5  3  Star Wars, épisode VII : Le Réveil de la Force         J. J. Abrams   \n",
       "\n",
       "      3           4                     5  \n",
       "1  2009  États-Unis  2 923 706 026 $[a 2]  \n",
       "2  2019  États-Unis  2 799 439 100 $[a 3]  \n",
       "3  2022  États-Unis  2 320 250 281 $[a 4]  \n",
       "4  1997  États-Unis  2 264 743 305 $[a 5]  \n",
       "5  2015  États-Unis  2 071 310 218 $[a 6]  "
      ]
     },
     "execution_count": 7,
     "metadata": {},
     "output_type": "execute_result"
    }
   ],
   "source": [
    "# Création d'un dictionnaire avec les infos obtenues \n",
    "dico_bo = dict()\n",
    "for row in rows:\n",
    "    cols = row.find_all('td')\n",
    "    cols = [ele.text.strip() for ele in cols]\n",
    "    if len(cols) > 0 : \n",
    "        dico_bo[cols[0]] = cols[1:]\n",
    "#print(dico_bo)\n",
    "\n",
    "# Création d'un DataFrame avec les infos scrappées sur Wikipédia\n",
    "data_bo = pd.DataFrame.from_dict(dico_bo, orient = 'index')\n",
    "data_bo.head()"
   ]
  },
  {
   "cell_type": "code",
   "execution_count": 8,
   "metadata": {},
   "outputs": [
    {
     "name": "stdout",
     "output_type": "stream",
     "text": [
      "['Rang', 'Meilleur Rang', 'Titre', 'Réalisateur', 'Année', 'Pays De Production', 'Recettes']\n"
     ]
    }
   ],
   "source": [
    "# Récupértion des en-têtes de tableau\n",
    "for row in rows:\n",
    "    cols = row.find_all('th')\n",
    "    if len(cols) > 0:\n",
    "        cols = [ele.get_text(separator= ' ').strip().title() for ele in cols]\n",
    "        columns_bo = cols\n",
    "print(columns_bo)"
   ]
  },
  {
   "cell_type": "code",
   "execution_count": 9,
   "metadata": {},
   "outputs": [
    {
     "data": {
      "text/html": [
       "<div>\n",
       "<style scoped>\n",
       "    .dataframe tbody tr th:only-of-type {\n",
       "        vertical-align: middle;\n",
       "    }\n",
       "\n",
       "    .dataframe tbody tr th {\n",
       "        vertical-align: top;\n",
       "    }\n",
       "\n",
       "    .dataframe thead th {\n",
       "        text-align: right;\n",
       "    }\n",
       "</style>\n",
       "<table border=\"1\" class=\"dataframe\">\n",
       "  <thead>\n",
       "    <tr style=\"text-align: right;\">\n",
       "      <th></th>\n",
       "      <th>Meilleur Rang</th>\n",
       "      <th>Titre</th>\n",
       "      <th>Réalisateur</th>\n",
       "      <th>Année</th>\n",
       "      <th>Pays De Production</th>\n",
       "      <th>Recettes</th>\n",
       "    </tr>\n",
       "  </thead>\n",
       "  <tbody>\n",
       "    <tr>\n",
       "      <th>1</th>\n",
       "      <td>1</td>\n",
       "      <td>Avatar</td>\n",
       "      <td>James Cameron</td>\n",
       "      <td>2009</td>\n",
       "      <td>États-Unis</td>\n",
       "      <td>2 923 706 026 $[a 2]</td>\n",
       "    </tr>\n",
       "    <tr>\n",
       "      <th>2</th>\n",
       "      <td>1</td>\n",
       "      <td>Avengers: Endgame</td>\n",
       "      <td>Anthony etJoe Russo</td>\n",
       "      <td>2019</td>\n",
       "      <td>États-Unis</td>\n",
       "      <td>2 799 439 100 $[a 3]</td>\n",
       "    </tr>\n",
       "    <tr>\n",
       "      <th>3</th>\n",
       "      <td>3</td>\n",
       "      <td>Avatar : La Voie de l'eau</td>\n",
       "      <td>James Cameron</td>\n",
       "      <td>2022</td>\n",
       "      <td>États-Unis</td>\n",
       "      <td>2 320 250 281 $[a 4]</td>\n",
       "    </tr>\n",
       "    <tr>\n",
       "      <th>4</th>\n",
       "      <td>1</td>\n",
       "      <td>Titanic</td>\n",
       "      <td>James Cameron</td>\n",
       "      <td>1997</td>\n",
       "      <td>États-Unis</td>\n",
       "      <td>2 264 743 305 $[a 5]</td>\n",
       "    </tr>\n",
       "    <tr>\n",
       "      <th>5</th>\n",
       "      <td>3</td>\n",
       "      <td>Star Wars, épisode VII : Le Réveil de la Force</td>\n",
       "      <td>J. J. Abrams</td>\n",
       "      <td>2015</td>\n",
       "      <td>États-Unis</td>\n",
       "      <td>2 071 310 218 $[a 6]</td>\n",
       "    </tr>\n",
       "  </tbody>\n",
       "</table>\n",
       "</div>"
      ],
      "text/plain": [
       "  Meilleur Rang                                           Titre  \\\n",
       "1             1                                          Avatar   \n",
       "2             1                               Avengers: Endgame   \n",
       "3             3                       Avatar : La Voie de l'eau   \n",
       "4             1                                         Titanic   \n",
       "5             3  Star Wars, épisode VII : Le Réveil de la Force   \n",
       "\n",
       "           Réalisateur Année Pays De Production              Recettes  \n",
       "1        James Cameron  2009         États-Unis  2 923 706 026 $[a 2]  \n",
       "2  Anthony etJoe Russo  2019         États-Unis  2 799 439 100 $[a 3]  \n",
       "3        James Cameron  2022         États-Unis  2 320 250 281 $[a 4]  \n",
       "4        James Cameron  1997         États-Unis  2 264 743 305 $[a 5]  \n",
       "5         J. J. Abrams  2015         États-Unis  2 071 310 218 $[a 6]  "
      ]
     },
     "execution_count": 9,
     "metadata": {},
     "output_type": "execute_result"
    }
   ],
   "source": [
    "data_bo.columns = columns_bo[1:]\n",
    "data_bo.head()"
   ]
  },
  {
   "cell_type": "code",
   "execution_count": 10,
   "metadata": {},
   "outputs": [
    {
     "data": {
      "text/html": [
       "<div>\n",
       "<style scoped>\n",
       "    .dataframe tbody tr th:only-of-type {\n",
       "        vertical-align: middle;\n",
       "    }\n",
       "\n",
       "    .dataframe tbody tr th {\n",
       "        vertical-align: top;\n",
       "    }\n",
       "\n",
       "    .dataframe thead th {\n",
       "        text-align: right;\n",
       "    }\n",
       "</style>\n",
       "<table border=\"1\" class=\"dataframe\">\n",
       "  <thead>\n",
       "    <tr style=\"text-align: right;\">\n",
       "      <th></th>\n",
       "      <th>Meilleur Rang</th>\n",
       "      <th>Titre</th>\n",
       "      <th>Réalisateur</th>\n",
       "      <th>Année</th>\n",
       "      <th>Pays De Production</th>\n",
       "      <th>Recettes</th>\n",
       "    </tr>\n",
       "  </thead>\n",
       "  <tbody>\n",
       "    <tr>\n",
       "      <th>1</th>\n",
       "      <td>1</td>\n",
       "      <td>Avatar</td>\n",
       "      <td>James Cameron</td>\n",
       "      <td>2009</td>\n",
       "      <td>États-Unis</td>\n",
       "      <td>2 923 706 026</td>\n",
       "    </tr>\n",
       "    <tr>\n",
       "      <th>2</th>\n",
       "      <td>1</td>\n",
       "      <td>Avengers: Endgame</td>\n",
       "      <td>Anthony etJoe Russo</td>\n",
       "      <td>2019</td>\n",
       "      <td>États-Unis</td>\n",
       "      <td>2 799 439 100</td>\n",
       "    </tr>\n",
       "    <tr>\n",
       "      <th>3</th>\n",
       "      <td>3</td>\n",
       "      <td>Avatar : La Voie de l'eau</td>\n",
       "      <td>James Cameron</td>\n",
       "      <td>2022</td>\n",
       "      <td>États-Unis</td>\n",
       "      <td>2 320 250 281</td>\n",
       "    </tr>\n",
       "    <tr>\n",
       "      <th>4</th>\n",
       "      <td>1</td>\n",
       "      <td>Titanic</td>\n",
       "      <td>James Cameron</td>\n",
       "      <td>1997</td>\n",
       "      <td>États-Unis</td>\n",
       "      <td>2 264 743 305</td>\n",
       "    </tr>\n",
       "    <tr>\n",
       "      <th>5</th>\n",
       "      <td>3</td>\n",
       "      <td>Star Wars, épisode VII : Le Réveil de la Force</td>\n",
       "      <td>J. J. Abrams</td>\n",
       "      <td>2015</td>\n",
       "      <td>États-Unis</td>\n",
       "      <td>2 071 310 218</td>\n",
       "    </tr>\n",
       "  </tbody>\n",
       "</table>\n",
       "</div>"
      ],
      "text/plain": [
       "  Meilleur Rang                                           Titre  \\\n",
       "1             1                                          Avatar   \n",
       "2             1                               Avengers: Endgame   \n",
       "3             3                       Avatar : La Voie de l'eau   \n",
       "4             1                                         Titanic   \n",
       "5             3  Star Wars, épisode VII : Le Réveil de la Force   \n",
       "\n",
       "           Réalisateur Année Pays De Production        Recettes  \n",
       "1        James Cameron  2009         États-Unis  2 923 706 026   \n",
       "2  Anthony etJoe Russo  2019         États-Unis  2 799 439 100   \n",
       "3        James Cameron  2022         États-Unis  2 320 250 281   \n",
       "4        James Cameron  1997         États-Unis  2 264 743 305   \n",
       "5         J. J. Abrams  2015         États-Unis  2 071 310 218   "
      ]
     },
     "execution_count": 10,
     "metadata": {},
     "output_type": "execute_result"
    }
   ],
   "source": [
    "# Nettoyage de la colonne Recettes pour ne garder que le revenu brut\n",
    "# Et passer d'un str à un int\n",
    "for i in range(len(data_bo['Recettes'])):\n",
    "    data_bo['Recettes'][i] = data_bo['Recettes'][i][:14]\n",
    "data_bo.head()\n"
   ]
  },
  {
   "cell_type": "markdown",
   "metadata": {},
   "source": [
    "Les recettes des films sont dans un format particulier (str) ce qui ne colle pas avec la possibilité de faire des opérations arithmétiques. On va donc changer le format des élèments de la colonnes 'Recettes' pour ne faire des entiers (int)"
   ]
  },
  {
   "cell_type": "code",
   "execution_count": 11,
   "metadata": {},
   "outputs": [],
   "source": [
    "# int type dans la colonne Recettes\n",
    "for i in range(len(data_bo['Recettes'])):\n",
    "    L = [ele for ele in data_bo['Recettes'][i] if ele!='\\xa0']\n",
    "    data_bo['Recettes'][i] = int(''.join(L))"
   ]
  },
  {
   "cell_type": "code",
   "execution_count": 12,
   "metadata": {},
   "outputs": [],
   "source": [
    "data_bo = data_bo[['Titre', 'Réalisateur', 'Année', 'Pays De Production', 'Recettes', 'Meilleur Rang']]"
   ]
  },
  {
   "cell_type": "markdown",
   "metadata": {},
   "source": [
    "## B. Les oscars attribués à ces films"
   ]
  },
  {
   "cell_type": "markdown",
   "metadata": {},
   "source": [
    "Allez sur la page de chaque film et récupérer les récompenses puis en tirer les oscars. Prendre exemple sur cours du prof"
   ]
  },
  {
   "cell_type": "code",
   "execution_count": 13,
   "metadata": {},
   "outputs": [],
   "source": [
    "sock = urllib.request.urlopen(url_bo).read()\n",
    "page_test = bs4.BeautifulSoup(sock)"
   ]
  },
  {
   "cell_type": "code",
   "execution_count": 14,
   "metadata": {},
   "outputs": [],
   "source": [
    "test = list()\n",
    "for film in page_test.findAll('i'):\n",
    "    test.append(film)\n",
    "test = test[14:64] # On ne garde que les 50 titres de films dans le tableau "
   ]
  },
  {
   "cell_type": "code",
   "execution_count": 15,
   "metadata": {},
   "outputs": [
    {
     "name": "stdout",
     "output_type": "stream",
     "text": [
      "[189]\n",
      "Meilleure direction artistique pour Rick Carter, Robert Stromberg et Kim Sinclair\n",
      "Meilleure photographie pour Mauro Fiore\n",
      "Meilleurs effets visuels pour Joe Letteri, Stephen Rosenbaum, Richard Baneham et Andy Jones\n",
      "--- * NEXT MOVIE * ---\n",
      "Meilleurs effets visuels\n",
      "--- * NEXT MOVIE * ---\n",
      "meilleur film\n",
      "décembre 2025\n",
      "--- * NEXT MOVIE * ---\n",
      "1998\n",
      "meilleur film\n",
      "meilleur réalisateur\n",
      "[1]\n",
      "box-office français de tous les temps\n",
      "[2]\n",
      "--- * NEXT MOVIE * ---\n",
      "\n",
      "Harrison Ford\n",
      "\n",
      "Carrie Fisher\n",
      "--- * NEXT MOVIE * ---\n",
      "61e cérémonie des Grammy Awards\n",
      "Saturn Award\n",
      "Josh Brolin\n",
      "--- * NEXT MOVIE * ---\n",
      "meilleurs effets visuels\n",
      "--- * NEXT MOVIE * ---\n",
      "Section des récompenses non trouvée sur la page.\n",
      "--- * NEXT MOVIE * ---\n",
      "Meilleurs effets visuels\n",
      "--- * NEXT MOVIE * ---\n",
      "--- * NEXT MOVIE * ---\n",
      "Section des récompenses non trouvée sur la page.\n",
      "--- * NEXT MOVIE * ---\n",
      "meilleur son\n",
      "--- * NEXT MOVIE * ---\n",
      "Meilleure chanson originale\n",
      "Into the Unknown\n",
      "Kristen Anderson-Lopez\n",
      "Robert Lopez\n",
      "--- * NEXT MOVIE * ---\n",
      "Section des récompenses non trouvée sur la page.\n",
      "--- * NEXT MOVIE * ---\n",
      "Section des récompenses non trouvée sur la page.\n",
      "--- * NEXT MOVIE * ---\n",
      "Section des récompenses non trouvée sur la page.\n",
      "--- * NEXT MOVIE * ---\n",
      "--- * NEXT MOVIE * ---\n",
      "Meilleurs effets visuels\n",
      "Meilleure direction artistique\n",
      "Meilleurs maquillages\n",
      "--- * NEXT MOVIE * ---\n",
      "--- * NEXT MOVIE * ---\n",
      "Golden Globes 2014\n",
      "Let It Go\n",
      "Libérée, délivrée\n",
      "Anaïs Delva\n",
      "--- * NEXT MOVIE * ---\n",
      "Section des récompenses non trouvée sur la page.\n",
      "--- * NEXT MOVIE * ---\n",
      "Section des récompenses non trouvée sur la page.\n",
      "--- * NEXT MOVIE * ---\n",
      "Section des récompenses non trouvée sur la page.\n",
      "--- * NEXT MOVIE * ---\n",
      "Section des récompenses non trouvée sur la page.\n",
      "--- * NEXT MOVIE * ---\n",
      "meilleurs effets visuels\n",
      "--- * NEXT MOVIE * ---\n",
      "Section des récompenses non trouvée sur la page.\n",
      "--- * NEXT MOVIE * ---\n",
      "nommé\n",
      "Titanic\n",
      "Ben-Hur\n",
      "DVD\n",
      "14 décembre 2004\n",
      "--- * NEXT MOVIE * ---\n",
      "Section des récompenses non trouvée sur la page.\n",
      "--- * NEXT MOVIE * ---\n",
      "Section des récompenses non trouvée sur la page.\n",
      "--- * NEXT MOVIE * ---\n",
      "85e cérémonie des Oscars\n",
      "24 février 2013\n",
      "Golden Globe de la meilleure chanson originale\n",
      "[4]\n",
      "--- * NEXT MOVIE * ---\n",
      "Section des récompenses non trouvée sur la page.\n",
      "--- * NEXT MOVIE * ---\n",
      "Section des récompenses non trouvée sur la page.\n",
      "--- * NEXT MOVIE * ---\n",
      "[31]\n",
      ",\n",
      "[32]\n",
      "--- * NEXT MOVIE * ---\n",
      "saga cinématographique\n",
      "Le Monde perdu : Jurassic Park\n",
      "1997\n",
      "2018\n",
      "National Film Registry\n",
      "Bibliothèque du Congrès\n",
      "États-Unis\n",
      "--- * NEXT MOVIE * ---\n",
      "Section des récompenses non trouvée sur la page.\n",
      "--- * NEXT MOVIE * ---\n",
      "Section des récompenses non trouvée sur la page.\n",
      "--- * NEXT MOVIE * ---\n",
      "Golden Globes\n",
      "British Academy Film Awards\n",
      "César du meilleur film étranger\n",
      "etc.\n",
      "Joaquin Phoenix\n",
      "Golden Globe du meilleur acteur dans un film dramatique\n",
      "Oscar du meilleur acteur\n",
      "Hildur Guðnadóttir\n",
      "Golden Globe\n",
      "Oscar de la meilleure musique de film\n",
      "--- * NEXT MOVIE * ---\n",
      "\n",
      "Ian McDiarmid\n",
      "--- * NEXT MOVIE * ---\n",
      "2020\n",
      "Oscar du meilleur film d'animation\n",
      "--- * NEXT MOVIE * ---\n",
      "février 2011\n",
      "Le Discours d'un Roi\n",
      "Tom Hooper\n",
      "--- * NEXT MOVIE * ---\n",
      "2007\n",
      "--- * NEXT MOVIE * ---\n",
      "effets visuels\n",
      "mixage sonore\n",
      "gros succès du box-office mondial\n",
      "box-office\n",
      "Le Réveil de la Force\n",
      "La Menace fantôme\n",
      "--- * NEXT MOVIE * ---\n",
      "Section des récompenses non trouvée sur la page.\n",
      "--- * NEXT MOVIE * ---\n",
      "--- * NEXT MOVIE * ---\n",
      "Section des récompenses non trouvée sur la page.\n",
      "--- * NEXT MOVIE * ---\n",
      "Section des récompenses non trouvée sur la page.\n",
      "--- * NEXT MOVIE * ---\n",
      "Saturn Awards\n",
      "Razzie Awards\n",
      "--- * NEXT MOVIE * ---\n",
      "2017\n",
      "--- * NEXT MOVIE * ---\n",
      "2011\n",
      "--- * NEXT MOVIE * ---\n",
      "meilleure musique originale\n",
      "meilleure direction artistique\n",
      "meilleure création de costumes\n",
      "Harry Potter et la Chambre des secrets\n",
      "Harry Potter et les Reliques de la Mort, partie 2\n",
      "--- * NEXT MOVIE * ---\n"
     ]
    }
   ],
   "source": [
    "# Récupérer le titre du film (pour après concat les df) et des urls des pages pour les oscars\n",
    "import re\n",
    "film = list()\n",
    "oscar_temp = list()\n",
    "for ele in test:\n",
    "    film_url = ele.find('a').get('href')\n",
    "    film_name = ele.find('a').get('title')\n",
    "    film.append(film_name)\n",
    "    url_get_info = 'http://fr.wikipedia.org' + film_url\n",
    "    #print(url_get_info)\n",
    "\n",
    "    # Aller sur la page du film\n",
    "    search = urllib.request.urlopen(url_get_info).read()\n",
    "    search_film = bs4.BeautifulSoup(search)\n",
    "\n",
    "    #Trouver les oscars gagnés\n",
    "    #rec = search_film.findAll('a', {'title' : 'Oscar'})\n",
    "    awards_section = search_film.find(title=re.compile(\"Oscar\"))\n",
    "    awards = list()\n",
    "    if awards_section:\n",
    "        # Parcourir les éléments suivants pour extraire les récompenses\n",
    "        for sibling in awards_section.find_next_siblings():\n",
    "            # Vérifier si nous avons atteint une nouvelle section\n",
    "            if sibling.name and sibling.name.startswith('h'):\n",
    "                break\n",
    "            # Imprimer le texte de l'élément\n",
    "            awards.append(sibling.get_text().strip())\n",
    "            print(sibling.get_text().strip())\n",
    "            \n",
    "    else:\n",
    "        awards.append('Empty')\n",
    "        print(\"Section des récompenses non trouvée sur la page.\")\n",
    "    #print(awards_section)\n",
    "    oscar_temp.append(awards)\n",
    "    print('--- * NEXT MOVIE * ---')\n"
   ]
  },
  {
   "cell_type": "code",
   "execution_count": 16,
   "metadata": {},
   "outputs": [],
   "source": [
    "oscar = list()\n",
    "for movie in oscar_temp:\n",
    "    awards = list()\n",
    "    for ele in movie:\n",
    "        if \"meilleur\" in ele.lower():\n",
    "            awards.append(ele)\n",
    "        #else: \n",
    "            #awards.append('NO')\n",
    "    oscar.append(awards)"
   ]
  },
  {
   "cell_type": "code",
   "execution_count": 17,
   "metadata": {},
   "outputs": [],
   "source": [
    "# Création d'un dictionnaire avec les films et leurs oscars respectifs\n",
    "dico_oscar = dict()\n",
    "for movie, awards in zip(film, oscar):\n",
    "        if awards == []:\n",
    "                dico_oscar[movie] = ['Aucun oscar']\n",
    "        else: \n",
    "                dico_oscar[movie] = awards"
   ]
  },
  {
   "cell_type": "code",
   "execution_count": 18,
   "metadata": {},
   "outputs": [
    {
     "data": {
      "text/plain": [
       "{'Avatar (film, 2009)': ['Meilleure direction artistique pour Rick Carter, Robert Stromberg et Kim Sinclair\\nMeilleure photographie pour Mauro Fiore\\nMeilleurs effets visuels pour Joe Letteri, Stephen Rosenbaum, Richard Baneham et Andy Jones'],\n",
       " 'Avengers: Endgame': ['Meilleurs effets visuels'],\n",
       " \"Avatar : La Voie de l'eau\": ['meilleur film'],\n",
       " 'Titanic (film, 1997)': ['meilleur film', 'meilleur réalisateur'],\n",
       " 'Star Wars, épisode VII : Le Réveil de la Force': ['Aucun oscar'],\n",
       " 'Avengers: Infinity War': ['Aucun oscar'],\n",
       " 'Spider-Man: No Way Home': ['meilleurs effets visuels'],\n",
       " 'Jurassic World': ['Aucun oscar'],\n",
       " 'Le Roi lion (film, 2019)': ['Meilleurs effets visuels'],\n",
       " 'Avengers (film)': ['Aucun oscar'],\n",
       " 'Fast and Furious 7': ['Aucun oscar'],\n",
       " 'Top Gun : Maverick': ['meilleur son'],\n",
       " 'La Reine des neiges 2': ['Meilleure chanson originale'],\n",
       " 'Barbie (film)': ['Aucun oscar'],\n",
       " \"Avengers : L'Ère d'Ultron\": ['Aucun oscar'],\n",
       " 'Super Mario Bros. le film': ['Aucun oscar'],\n",
       " 'Black Panther (film)': ['Aucun oscar'],\n",
       " 'Harry Potter et les Reliques de la Mort : Partie 2': ['Meilleurs effets visuels\\nMeilleure direction artistique\\nMeilleurs maquillages'],\n",
       " 'Star Wars, épisode VIII : Les Derniers Jedi': ['Aucun oscar'],\n",
       " 'La Reine des neiges (film, 2013)': ['Aucun oscar'],\n",
       " 'Jurassic World: Fallen Kingdom': ['Aucun oscar'],\n",
       " 'La Belle et la Bête (film, 2017)': ['Aucun oscar'],\n",
       " 'Les Indestructibles 2': ['Aucun oscar'],\n",
       " 'Fast and Furious 8': ['Aucun oscar'],\n",
       " 'Iron Man 3': ['meilleurs effets visuels'],\n",
       " 'Les Minions': ['Aucun oscar'],\n",
       " 'Le Seigneur des anneaux : Le Retour du roi': ['Aucun oscar'],\n",
       " 'Captain America: Civil War': ['Aucun oscar'],\n",
       " 'Aquaman (film)': ['Aucun oscar'],\n",
       " 'Skyfall': ['Golden Globe de la meilleure chanson originale'],\n",
       " 'Spider-Man: Far From Home': ['Aucun oscar'],\n",
       " 'Captain Marvel (film)': ['Aucun oscar'],\n",
       " 'Transformers 3 : La Face cachée de la Lune': ['Aucun oscar'],\n",
       " 'Jurassic Park': ['Aucun oscar'],\n",
       " \"Transformers : L'Âge de l'extinction\": ['Aucun oscar'],\n",
       " 'The Dark Knight Rises': ['Aucun oscar'],\n",
       " 'Joker (film, 2019)': ['César du meilleur film étranger',\n",
       "  'Golden Globe du meilleur acteur dans un film dramatique',\n",
       "  'Oscar du meilleur acteur',\n",
       "  'Oscar de la meilleure musique de film'],\n",
       " \"Star Wars, épisode IX : L'Ascension de Skywalker\": ['Aucun oscar'],\n",
       " 'Toy Story 4': [\"Oscar du meilleur film d'animation\"],\n",
       " 'Toy Story 3': ['Aucun oscar'],\n",
       " 'Pirates des Caraïbes : Le Secret du coffre maudit': ['Aucun oscar'],\n",
       " 'Rogue One: A Star Wars Story': ['Aucun oscar'],\n",
       " 'Aladdin (film, 2019)': ['Aucun oscar'],\n",
       " 'Pirates des Caraïbes : La Fontaine de Jouvence': ['Aucun oscar'],\n",
       " 'Moi, moche et méchant 3': ['Aucun oscar'],\n",
       " 'Le Monde de Dory': ['Aucun oscar'],\n",
       " 'Star Wars, épisode I : La Menace fantôme': ['Aucun oscar'],\n",
       " 'Zootopie': ['Aucun oscar'],\n",
       " 'Alice au pays des merveilles (film, 2010)': ['Aucun oscar'],\n",
       " \"Harry Potter à l'école des sorciers (film)\": ['meilleure musique originale',\n",
       "  'meilleure direction artistique',\n",
       "  'meilleure création de costumes']}"
      ]
     },
     "execution_count": 18,
     "metadata": {},
     "output_type": "execute_result"
    }
   ],
   "source": [
    "dico_oscar"
   ]
  },
  {
   "cell_type": "code",
   "execution_count": 19,
   "metadata": {},
   "outputs": [
    {
     "data": {
      "text/html": [
       "<div>\n",
       "<style scoped>\n",
       "    .dataframe tbody tr th:only-of-type {\n",
       "        vertical-align: middle;\n",
       "    }\n",
       "\n",
       "    .dataframe tbody tr th {\n",
       "        vertical-align: top;\n",
       "    }\n",
       "\n",
       "    .dataframe thead th {\n",
       "        text-align: right;\n",
       "    }\n",
       "</style>\n",
       "<table border=\"1\" class=\"dataframe\">\n",
       "  <thead>\n",
       "    <tr style=\"text-align: right;\">\n",
       "      <th></th>\n",
       "      <th>0</th>\n",
       "      <th>1</th>\n",
       "      <th>2</th>\n",
       "      <th>3</th>\n",
       "    </tr>\n",
       "  </thead>\n",
       "  <tbody>\n",
       "    <tr>\n",
       "      <th>Avatar (film, 2009)</th>\n",
       "      <td>Meilleure direction artistique pour Rick Carte...</td>\n",
       "      <td>None</td>\n",
       "      <td>None</td>\n",
       "      <td>None</td>\n",
       "    </tr>\n",
       "    <tr>\n",
       "      <th>Avengers: Endgame</th>\n",
       "      <td>Meilleurs effets visuels</td>\n",
       "      <td>None</td>\n",
       "      <td>None</td>\n",
       "      <td>None</td>\n",
       "    </tr>\n",
       "    <tr>\n",
       "      <th>Avatar : La Voie de l'eau</th>\n",
       "      <td>meilleur film</td>\n",
       "      <td>None</td>\n",
       "      <td>None</td>\n",
       "      <td>None</td>\n",
       "    </tr>\n",
       "    <tr>\n",
       "      <th>Titanic (film, 1997)</th>\n",
       "      <td>meilleur film</td>\n",
       "      <td>meilleur réalisateur</td>\n",
       "      <td>None</td>\n",
       "      <td>None</td>\n",
       "    </tr>\n",
       "    <tr>\n",
       "      <th>Star Wars, épisode VII : Le Réveil de la Force</th>\n",
       "      <td>Aucun oscar</td>\n",
       "      <td>None</td>\n",
       "      <td>None</td>\n",
       "      <td>None</td>\n",
       "    </tr>\n",
       "  </tbody>\n",
       "</table>\n",
       "</div>"
      ],
      "text/plain": [
       "                                                                                                0  \\\n",
       "Avatar (film, 2009)                             Meilleure direction artistique pour Rick Carte...   \n",
       "Avengers: Endgame                                                        Meilleurs effets visuels   \n",
       "Avatar : La Voie de l'eau                                                           meilleur film   \n",
       "Titanic (film, 1997)                                                                meilleur film   \n",
       "Star Wars, épisode VII : Le Réveil de la Force                                        Aucun oscar   \n",
       "\n",
       "                                                                   1     2  \\\n",
       "Avatar (film, 2009)                                             None  None   \n",
       "Avengers: Endgame                                               None  None   \n",
       "Avatar : La Voie de l'eau                                       None  None   \n",
       "Titanic (film, 1997)                            meilleur réalisateur  None   \n",
       "Star Wars, épisode VII : Le Réveil de la Force                  None  None   \n",
       "\n",
       "                                                   3  \n",
       "Avatar (film, 2009)                             None  \n",
       "Avengers: Endgame                               None  \n",
       "Avatar : La Voie de l'eau                       None  \n",
       "Titanic (film, 1997)                            None  \n",
       "Star Wars, épisode VII : Le Réveil de la Force  None  "
      ]
     },
     "execution_count": 19,
     "metadata": {},
     "output_type": "execute_result"
    }
   ],
   "source": [
    "data_oscar = pd.DataFrame.from_dict(dico_oscar, orient = 'index')\n",
    "data_oscar.head()"
   ]
  },
  {
   "cell_type": "markdown",
   "metadata": {},
   "source": [
    "## C. Utilisation de l'API TMDB pour avoir plus d'infos et récupérer les commentaires"
   ]
  },
  {
   "cell_type": "markdown",
   "metadata": {},
   "source": [
    "# 2. Analyse des données"
   ]
  },
  {
   "cell_type": "markdown",
   "metadata": {},
   "source": [
    "## A. Etude descriptive des données en présence\n",
    "\n",
    "### Idées pour brève description des films en présence\n",
    "- comparer CA en prenant en compte inflation\n",
    "- Sur représentation d'un réalisateur, pays origine\n",
    "- nb d'oscar par film \n",
    "- corrélation entre bonnes critiques et nb oscar\n",
    "- différence entre critique populaire et critique spécialisées ? "
   ]
  },
  {
   "cell_type": "code",
   "execution_count": 15,
   "metadata": {},
   "outputs": [
    {
     "data": {
      "text/plain": [
       "39"
      ]
     },
     "execution_count": 15,
     "metadata": {},
     "output_type": "execute_result"
    }
   ],
   "source": [
    "data_bo['Réalisateur'].nunique()"
   ]
  },
  {
   "cell_type": "code",
   "execution_count": 88,
   "metadata": {},
   "outputs": [
    {
     "data": {
      "text/plain": [
       "Réalisateur\n",
       "Aaron HorvathMichael Jelenic (en)    1\n",
       "Andrew Stanton                       1\n",
       "Anna BodenRyan Fleck                 1\n",
       "Anthony etJoe Russo                  3\n",
       "Bill Condon                          1\n",
       "Brad Bird                            1\n",
       "Byron HowardRich Moore               1\n",
       "Chris BuckJennifer Lee               2\n",
       "Chris Columbus                       1\n",
       "Christopher Nolan                    1\n",
       "Colin Trevorrow                      1\n",
       "David Yates                          1\n",
       "F. Gary Gray                         1\n",
       "Gareth Edwards                       1\n",
       "George Lucas                         1\n",
       "Gore Verbinski                       1\n",
       "Greta Gerwig                         1\n",
       "Guy Ritchie                          1\n",
       "J. J. Abrams                         2\n",
       "J.A. Bayona                          1\n",
       "James Cameron                        3\n",
       "James Wan                            2\n",
       "Jon Favreau                          1\n",
       "Jon Watts                            2\n",
       "Joseph Kosinski                      1\n",
       "Josh Cooley                          1\n",
       "Joss Whedon                          2\n",
       "Kyle BaldaPierre Coffin              2\n",
       "Lee Unkrich                          1\n",
       "Michael Bay                          2\n",
       "Peter Jackson                        1\n",
       "Rian Johnson                         1\n",
       "Rob Marshall                         1\n",
       "Ryan Coogler                         1\n",
       "Sam Mendes                           1\n",
       "Shane Black                          1\n",
       "Steven Spielberg                     1\n",
       "Tim Burton                           1\n",
       "Todd Phillips                        1\n",
       "Name: Titre, dtype: int64"
      ]
     },
     "execution_count": 88,
     "metadata": {},
     "output_type": "execute_result"
    }
   ],
   "source": [
    "data_bo.groupby('Réalisateur')['Titre'].count()"
   ]
  },
  {
   "cell_type": "code",
   "execution_count": 16,
   "metadata": {
    "scrolled": true
   },
   "outputs": [
    {
     "data": {
      "text/html": [
       "<div>\n",
       "<style scoped>\n",
       "    .dataframe tbody tr th:only-of-type {\n",
       "        vertical-align: middle;\n",
       "    }\n",
       "\n",
       "    .dataframe tbody tr th {\n",
       "        vertical-align: top;\n",
       "    }\n",
       "\n",
       "    .dataframe thead th {\n",
       "        text-align: right;\n",
       "    }\n",
       "</style>\n",
       "<table border=\"1\" class=\"dataframe\">\n",
       "  <thead>\n",
       "    <tr style=\"text-align: right;\">\n",
       "      <th></th>\n",
       "      <th>Titre</th>\n",
       "      <th>Réalisateur</th>\n",
       "      <th>Année</th>\n",
       "      <th>Pays De Production</th>\n",
       "      <th>Recettes</th>\n",
       "      <th>Meilleur Rang</th>\n",
       "    </tr>\n",
       "  </thead>\n",
       "  <tbody>\n",
       "    <tr>\n",
       "      <th>5</th>\n",
       "      <td>Star Wars, épisode VII : Le Réveil de la Force</td>\n",
       "      <td>J. J. Abrams</td>\n",
       "      <td>2015</td>\n",
       "      <td>États-Unis</td>\n",
       "      <td>2071310218</td>\n",
       "      <td>3</td>\n",
       "    </tr>\n",
       "    <tr>\n",
       "      <th>38</th>\n",
       "      <td>Star Wars, épisode IX : L'Ascension de Skywalker</td>\n",
       "      <td>J. J. Abrams</td>\n",
       "      <td>2019</td>\n",
       "      <td>États-Unis</td>\n",
       "      <td>1077022372</td>\n",
       "      <td>32</td>\n",
       "    </tr>\n",
       "  </tbody>\n",
       "</table>\n",
       "</div>"
      ],
      "text/plain": [
       "                                               Titre   Réalisateur Année  \\\n",
       "5     Star Wars, épisode VII : Le Réveil de la Force  J. J. Abrams  2015   \n",
       "38  Star Wars, épisode IX : L'Ascension de Skywalker  J. J. Abrams  2019   \n",
       "\n",
       "   Pays De Production    Recettes Meilleur Rang  \n",
       "5          États-Unis  2071310218             3  \n",
       "38         États-Unis  1077022372            32  "
      ]
     },
     "execution_count": 16,
     "metadata": {},
     "output_type": "execute_result"
    }
   ],
   "source": [
    "data_bo[data_bo['Réalisateur'] == 'J. J. Abrams']"
   ]
  },
  {
   "cell_type": "markdown",
   "metadata": {},
   "source": []
  },
  {
   "cell_type": "code",
   "execution_count": 31,
   "metadata": {},
   "outputs": [],
   "source": [
    "#créer un fichier CSV à partir du dataframe\n",
    "data_bo.to_csv('data_bo.csv', index=False)"
   ]
  },
  {
   "cell_type": "markdown",
   "metadata": {},
   "source": [
    "## Je \"colle\" le notebook recup_reviews_selenium en dessous"
   ]
  },
  {
   "cell_type": "code",
   "execution_count": 11,
   "metadata": {},
   "outputs": [
    {
     "ename": "NameError",
     "evalue": "name 'data_bo' is not defined",
     "output_type": "error",
     "traceback": [
      "\u001b[1;31m---------------------------------------------------------------------------\u001b[0m",
      "\u001b[1;31mNameError\u001b[0m                                 Traceback (most recent call last)",
      "Cell \u001b[1;32mIn[11], line 1\u001b[0m\n\u001b[1;32m----> 1\u001b[0m data_bo[\u001b[38;5;124m'\u001b[39m\u001b[38;5;124mTitre\u001b[39m\u001b[38;5;124m'\u001b[39m] \u001b[38;5;241m=\u001b[39m \u001b[43mdata_bo\u001b[49m[\u001b[38;5;124m\"\u001b[39m\u001b[38;5;124mTitre\u001b[39m\u001b[38;5;124m\"\u001b[39m]\u001b[38;5;241m.\u001b[39mstrip()\u001b[38;5;241m.\u001b[39mreplace(\u001b[38;5;124m\"\u001b[39m\u001b[38;5;130;01m\\xa0\u001b[39;00m\u001b[38;5;124m\"\u001b[39m, \u001b[38;5;124m\"\u001b[39m\u001b[38;5;124m \u001b[39m\u001b[38;5;124m\"\u001b[39m)\n",
      "\u001b[1;31mNameError\u001b[0m: name 'data_bo' is not defined"
     ]
    }
   ],
   "source": [
    "data_bo['Titre'] = data_bo[\"Titre\"].strip().replace(\"\\xa0\", \" \")"
   ]
  },
  {
   "cell_type": "markdown",
   "metadata": {},
   "source": [
    "!!! attention !!! Il faut télécharger un \"chromedriver\" de la même version que votre version chrome, et le mettre à coté de ce fichier jupyter dans les fichiers."
   ]
  },
  {
   "cell_type": "code",
   "execution_count": 9,
   "metadata": {},
   "outputs": [],
   "source": [
    "#Fonction\n",
    "def scrape_imdb_reviews(url, num_iterations=3, wait_time=20):\n",
    "    # Initialise le navigateur\n",
    "    driver = webdriver.Chrome()\n",
    "    driver.get(url)\n",
    "\n",
    "    wait = WebDriverWait(driver, wait_time)\n",
    "    \n",
    "    # Locate the span element with the specified class\n",
    "    span_element = wait.until(EC.presence_of_element_located((By.CLASS_NAME, \"sc-bde20123-1\")))\n",
    "\n",
    "    # Get the text content of the span element\n",
    "    note = span_element.text\n",
    "\n",
    "    #  Print or use the extracted text\n",
    "    print(note)\n",
    "    \n",
    "    time.sleep(4)\n",
    "\n",
    "    # Get the current scroll position\n",
    "    current_scroll_position = driver.execute_script(\"return window.scrollY;\")\n",
    "\n",
    "    # Scroll down by 200 pixels from the current position\n",
    "    scroll_by_pixels = 400\n",
    "    new_scroll_position = current_scroll_position + scroll_by_pixels\n",
    "    driver.execute_script(f\"window.scrollTo(0, {new_scroll_position});\")\n",
    "    \n",
    "    time.sleep(2)\n",
    "    \n",
    "    user_comments_button = WebDriverWait(driver, 10).until(EC.presence_of_element_located((By.CSS_SELECTOR, \"span.three-Elements > span.label\")))\n",
    "\n",
    "    # Cliquez sur le bouton\n",
    "    user_comments_button.click()\n",
    "    wait = WebDriverWait(driver, wait_time)\n",
    "    \n",
    "    \n",
    "    #cherche le bouton \"Hide Spoilers\"\n",
    "    spoiler_button = wait.until(EC.element_to_be_clickable((By.CLASS_NAME, \"faceter-facets-text\")))\n",
    "    # Cliquez sur le bouton\n",
    "    spoiler_button.click()\n",
    "    \n",
    "    # Clique sur le bouton \"Load More\" plusieurs fois\n",
    "    for i in range(num_iterations):\n",
    "        load_more_button = wait.until(EC.element_to_be_clickable((By.ID, \"load-more-trigger\")))\n",
    "        load_more_button.click()\n",
    "        driver.implicitly_wait(3)\n",
    "\n",
    "    time.sleep(3)\n",
    "\n",
    "    # Trouve les commentaires par classe CSS\n",
    "    reviews = driver.find_elements(By.CSS_SELECTOR, \".text.show-more__control\")\n",
    "\n",
    "    # Imprime les commentaires pour débugger (les trois premiers commentaires)\n",
    "    \n",
    "    reviews_txt = []\n",
    "    for review in reviews:\n",
    "        reviews_txt.append(review.text) \n",
    "\n",
    "    # Imprime le nombre total de commentaires récupérés\n",
    "    print(f\"Nombre total de commentaires : {len(reviews)}\")\n",
    "\n",
    "    time.sleep(2)\n",
    "\n",
    "    # Ferme le navigateur\n",
    "    driver.quit()\n",
    "    \n",
    "    return reviews_txt, note"
   ]
  },
  {
   "cell_type": "markdown",
   "metadata": {},
   "source": [
    "Test sur ce lien: https://www.imdb.com/title/tt0499549/"
   ]
  },
  {
   "cell_type": "code",
   "execution_count": null,
   "metadata": {},
   "outputs": [],
   "source": [
    "url_avatar = \"https://www.imdb.com/title/tt0499549/\"\n",
    "reviews_avatar = scrape_imdb_reviews(url_avatar, num_iterations=3, wait_time=20)"
   ]
  },
  {
   "cell_type": "code",
   "execution_count": null,
   "metadata": {},
   "outputs": [],
   "source": [
    "#vérification que nous avons pas de commentaire \"vide\"\n",
    "X = np.array([len(review) for review in reviews_avatar])\n",
    "len(X)\n",
    "X"
   ]
  },
  {
   "cell_type": "markdown",
   "metadata": {},
   "source": [
    "Nouveau Test sur ce lien sur lequel je n'ai pas travaillé: https://www.imdb.com/title/tt0317219/?ref_=nv_sr_srsg_0_tt_8_nm_0_q_cars"
   ]
  },
  {
   "cell_type": "code",
   "execution_count": 10,
   "metadata": {},
   "outputs": [
    {
     "name": "stdout",
     "output_type": "stream",
     "text": [
      "7,2\n",
      "Nombre total de commentaires : 100\n"
     ]
    }
   ],
   "source": [
    "#Test pour un autre film\n",
    "url_cars = \"https://www.imdb.com/title/tt0317219/?ref_=nv_sr_srsg_0_tt_8_nm_0_q_cars\"\n",
    "reviews_cars = scrape_imdb_reviews(url_cars, num_iterations=3, wait_time=20)"
   ]
  },
  {
   "cell_type": "code",
   "execution_count": null,
   "metadata": {},
   "outputs": [],
   "source": [
    "def scrap_review_all(movie_titles, release_year, wait_time=10, num_iterations=3, browser=\"chrome\"):\n",
    "    if browser == \"chrome\":\n",
    "        driver = webdriver.Chrome()\n",
    "    else:\n",
    "        # Add support for other browsers if needed\n",
    "        raise ValueError(\"Unsupported browser\")\n",
    "    \n",
    "    dico_all_comments = {}\n",
    "    driver.get(\"https://www.google.com\")\n",
    "    wait = WebDriverWait(driver, wait_time)\n",
    "    # Attendre que le bouton soit présent\n",
    "    button = wait.until(EC.presence_of_element_located((By.XPATH, \"//div[@class='QS5gu sy4vM' and text()='Tout refuser']\")))\n",
    "        \n",
    "    # Cliquez sur le bouton\n",
    "    button.click()\n",
    "    \n",
    "    for i in range(len(movie_titles)):\n",
    "        # Ouvrir Google\n",
    "        \n",
    "        cleaned_title = movie_titles[i].strip().replace(\"\\xa0\", \" \")\n",
    "        driver.get(\"https://www.google.com\")\n",
    "        wait = WebDriverWait(driver, wait_time)\n",
    "        \n",
    "        \n",
    "        \n",
    "        search_box = driver.find_element(By.NAME, \"q\")\n",
    "        search_box.send_keys(\"imdb title \" + cleaned_title + \" \" + str(release_year[i]))\n",
    "        print(\"imdb title \" + cleaned_title + \" \" + str(release_year[i]))\n",
    "        search_box.send_keys(Keys.RETURN)\n",
    "        \n",
    "        # Attente que les résultats de recherche soient chargés\n",
    "        wait.until(EC.presence_of_element_located((By.ID, \"search\")))\n",
    "        \n",
    "        time.sleep(1.5)\n",
    "        \n",
    "        # Trouver le premier lien dans les résultats de recherche et cliquer dessus\n",
    "        first_link = driver.find_element(By.CSS_SELECTOR, \"h3\")\n",
    "        first_link.click()\n",
    "        \n",
    "        time.sleep(1)\n",
    "        \n",
    "        # Locate the span element with the specified class\n",
    "        span_element = wait.until(EC.presence_of_element_located((By.CLASS_NAME, \"sc-bde20123-1\")))\n",
    "\n",
    "        # Get the text content of the span element\n",
    "        note = span_element.text\n",
    "\n",
    "        #  Print or use the extracted text\n",
    "        print(note)\n",
    "    \n",
    "        time.sleep(1.5)\n",
    "\n",
    "        # Get the current scroll position\n",
    "        current_scroll_position = driver.execute_script(\"return window.scrollY;\")\n",
    "\n",
    "           # Scroll down by 200 pixels from the current position\n",
    "        scroll_by_pixels = 400\n",
    "        new_scroll_position = current_scroll_position + scroll_by_pixels\n",
    "        driver.execute_script(f\"window.scrollTo(0, {new_scroll_position});\")\n",
    "    \n",
    "        time.sleep(2)\n",
    "    \n",
    "        user_comments_button = WebDriverWait(driver, 10).until(EC.presence_of_element_located((By.CSS_SELECTOR, \"span.three-Elements > span.label\")))\n",
    "\n",
    "         # Cliquez sur le bouton\n",
    "        user_comments_button.click()\n",
    "        wait = WebDriverWait(driver, wait_time)\n",
    "        \n",
    "        time.sleep(1)\n",
    "    \n",
    "    \n",
    "         #cherche le bouton \"Hide Spoilers\"\n",
    "        spoiler_button = wait.until(EC.element_to_be_clickable((By.CLASS_NAME, \"faceter-facets-text\")))\n",
    "        # Cliquez sur le bouton\n",
    "        spoiler_button.click()\n",
    "        \n",
    " \n",
    "        # Clique sur le bouton \"Load More\" plusieurs fois\n",
    "        for i in range(num_iterations):\n",
    "            load_more_button = wait.until(EC.element_to_be_clickable((By.ID, \"load-more-trigger\")))\n",
    "            load_more_button.click()\n",
    "            time.sleep(2)\n",
    "\n",
    "        time.sleep(3)\n",
    "\n",
    "        # Trouve les commentaires par classe CSS\n",
    "        reviews = driver.find_elements(By.CSS_SELECTOR, \".text.show-more__control\")\n",
    "\n",
    "        print( cleaned_title)\n",
    "        reviews_txt = [review.text for review in reviews]\n",
    "        dico_all_comments[cleaned_title] = [reviews_txt, note]\n",
    "        time.sleep(3)\n",
    "    \n",
    "    driver.quit()\n",
    "    return dico_all_comments"
   ]
  },
  {
   "cell_type": "code",
   "execution_count": null,
   "metadata": {},
   "outputs": [],
   "source": [
    "comments_all_1 = scrap_review_all(list(data_bo.iloc[:25,0]), list(data_bo.iloc[:25,2]), wait_time=20)"
   ]
  },
  {
   "cell_type": "code",
   "execution_count": null,
   "metadata": {},
   "outputs": [],
   "source": [
    "print(comments_all_1.keys())\n",
    "print(len(comments_all_1.keys()))\n",
    "for i in comments_all_1.keys():\n",
    "    print( len(comments_all_1[i][0]))"
   ]
  },
  {
   "cell_type": "code",
   "execution_count": null,
   "metadata": {},
   "outputs": [],
   "source": [
    "comments_all_1['Les Indestructibles 2'][0][:2]"
   ]
  },
  {
   "cell_type": "code",
   "execution_count": null,
   "metadata": {},
   "outputs": [],
   "source": [
    "comments_all_2 = scrap_review_all(list(data_bo.iloc[25:40,0]), list(data_bo.iloc[25:40,2]), wait_time=20)"
   ]
  },
  {
   "cell_type": "code",
   "execution_count": null,
   "metadata": {},
   "outputs": [],
   "source": [
    "print(comments_all_2.keys())\n",
    "print(len(comments_all_2.keys()))\n",
    "for i in comments_all_2.keys():\n",
    "    print( len(comments_all_2[i][0]))"
   ]
  },
  {
   "cell_type": "code",
   "execution_count": null,
   "metadata": {},
   "outputs": [],
   "source": [
    "comments_all_3 =  scrap_review_all(list(data_bo.iloc[41:,0]), list(data_bo.iloc[41:,2]), wait_time=20)"
   ]
  },
  {
   "cell_type": "code",
   "execution_count": null,
   "metadata": {},
   "outputs": [],
   "source": [
    "print(comments_all_3.keys())\n",
    "print(len(comments_all_3.keys()))\n",
    "for i in comments_all_3.keys():\n",
    "    print( len(comments_all_3[i][0]))"
   ]
  },
  {
   "cell_type": "code",
   "execution_count": null,
   "metadata": {},
   "outputs": [],
   "source": [
    "pirate_caraibe_NA = {'Pirates des Caraïbes : Le Secret du coffre maudit': [np.nan, np.nan]}\n",
    "pirate_caraibe_NA"
   ]
  },
  {
   "cell_type": "code",
   "execution_count": null,
   "metadata": {},
   "outputs": [],
   "source": [
    "comments_all_1.update(comments_all_2)\n",
    "comments_all_1.update(comments_all_3)\n",
    "comments_all_1.update(pirate_caraibe_NA)\n",
    "data_comments = pd.DataFrame(comments_all_1)"
   ]
  },
  {
   "cell_type": "code",
   "execution_count": null,
   "metadata": {},
   "outputs": [],
   "source": [
    "data_comments.to_json('data_reviews.json')"
   ]
  }
 ],
 "metadata": {
  "kernelspec": {
   "display_name": "Python 3 (ipykernel)",
   "language": "python",
   "name": "python3"
  },
  "language_info": {
   "codemirror_mode": {
    "name": "ipython",
    "version": 3
   },
   "file_extension": ".py",
   "mimetype": "text/x-python",
   "name": "python",
   "nbconvert_exporter": "python",
   "pygments_lexer": "ipython3",
   "version": "3.9.18"
  }
 },
 "nbformat": 4,
 "nbformat_minor": 2
}

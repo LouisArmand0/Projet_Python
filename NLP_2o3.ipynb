{
 "cells": [
  {
   "cell_type": "markdown",
   "metadata": {},
   "source": [
    "# **Analyse de sentiments sur les films du TOP 100 box office (Notebook pour le processing des données) 2/3**\n",
    "**Projet Python - 2A ENSAE**\n",
    "\n",
    "AUMONT Louis-Armand, KHAIRALDIN Ahmed, GIMENES Vincent"
   ]
  },
  {
   "cell_type": "markdown",
   "metadata": {},
   "source": [
    "## Introduction"
   ]
  },
  {
   "cell_type": "markdown",
   "metadata": {},
   "source": [
    "L'objectif de ce Notebook va être de charger la base de données, puis nettoyer les commentaires pour les \"tokenisés\" et enfin les \"lemmatisés\"\n",
    "et appliquer des algorithmes de NLP sur nos commentaires \"lemmatisés\" afin de déduire pour chaque commentaire un score de polarité et afin former un nouveau dataset final où chaque observation sera un film."
   ]
  },
  {
   "cell_type": "markdown",
   "metadata": {},
   "source": [
    "Avant de pouvoir faire de l'analyse de sentiment pour chaque commentaire, il faut d'abord les nettoyer pour les rendre lisibles pour l'ordinateur. Premièrement, nous allons transformer le fichier data_reviews en une base de données où chaque observation est un commentaire. Puis, nous allons nettoyer chaque commentaire en utilisant des fonctions permettant de supprimer la ponctuation, les stop-words et la lemmatisation.\n",
    "\n"
   ]
  },
  {
   "cell_type": "markdown",
   "metadata": {},
   "source": [
    "####  Download Library ⚙️"
   ]
  },
  {
   "cell_type": "code",
   "execution_count": 1,
   "metadata": {},
   "outputs": [
    {
     "name": "stdout",
     "output_type": "stream",
     "text": [
      "Requirement already satisfied: spacy in /opt/mamba/lib/python3.10/site-packages (3.7.2)\n",
      "Requirement already satisfied: spacy-legacy<3.1.0,>=3.0.11 in /opt/mamba/lib/python3.10/site-packages (from spacy) (3.0.12)\n",
      "Requirement already satisfied: spacy-loggers<2.0.0,>=1.0.0 in /opt/mamba/lib/python3.10/site-packages (from spacy) (1.0.5)\n",
      "Requirement already satisfied: murmurhash<1.1.0,>=0.28.0 in /opt/mamba/lib/python3.10/site-packages (from spacy) (1.0.10)\n",
      "Requirement already satisfied: cymem<2.1.0,>=2.0.2 in /opt/mamba/lib/python3.10/site-packages (from spacy) (2.0.8)\n",
      "Requirement already satisfied: preshed<3.1.0,>=3.0.2 in /opt/mamba/lib/python3.10/site-packages (from spacy) (3.0.9)\n",
      "Requirement already satisfied: thinc<8.3.0,>=8.1.8 in /opt/mamba/lib/python3.10/site-packages (from spacy) (8.2.1)\n",
      "Requirement already satisfied: wasabi<1.2.0,>=0.9.1 in /opt/mamba/lib/python3.10/site-packages (from spacy) (1.1.2)\n",
      "Requirement already satisfied: srsly<3.0.0,>=2.4.3 in /opt/mamba/lib/python3.10/site-packages (from spacy) (2.4.8)\n",
      "Requirement already satisfied: catalogue<2.1.0,>=2.0.6 in /opt/mamba/lib/python3.10/site-packages (from spacy) (2.0.10)\n",
      "Requirement already satisfied: weasel<0.4.0,>=0.1.0 in /opt/mamba/lib/python3.10/site-packages (from spacy) (0.3.4)\n",
      "Requirement already satisfied: typer<0.10.0,>=0.3.0 in /opt/mamba/lib/python3.10/site-packages (from spacy) (0.9.0)\n",
      "Requirement already satisfied: smart-open<7.0.0,>=5.2.1 in /opt/mamba/lib/python3.10/site-packages (from spacy) (6.4.0)\n",
      "Requirement already satisfied: tqdm<5.0.0,>=4.38.0 in /opt/mamba/lib/python3.10/site-packages (from spacy) (4.66.1)\n",
      "Requirement already satisfied: requests<3.0.0,>=2.13.0 in /opt/mamba/lib/python3.10/site-packages (from spacy) (2.31.0)\n",
      "Requirement already satisfied: pydantic!=1.8,!=1.8.1,<3.0.0,>=1.7.4 in /opt/mamba/lib/python3.10/site-packages (from spacy) (2.5.2)\n",
      "Requirement already satisfied: jinja2 in /opt/mamba/lib/python3.10/site-packages (from spacy) (3.1.2)\n",
      "Requirement already satisfied: setuptools in /opt/mamba/lib/python3.10/site-packages (from spacy) (68.1.2)\n",
      "Requirement already satisfied: packaging>=20.0 in /opt/mamba/lib/python3.10/site-packages (from spacy) (23.1)\n",
      "Requirement already satisfied: langcodes<4.0.0,>=3.2.0 in /opt/mamba/lib/python3.10/site-packages (from spacy) (3.3.0)\n",
      "Requirement already satisfied: numpy>=1.19.0 in /opt/mamba/lib/python3.10/site-packages (from spacy) (1.26.2)\n",
      "Requirement already satisfied: annotated-types>=0.4.0 in /opt/mamba/lib/python3.10/site-packages (from pydantic!=1.8,!=1.8.1,<3.0.0,>=1.7.4->spacy) (0.6.0)\n",
      "Requirement already satisfied: pydantic-core==2.14.5 in /opt/mamba/lib/python3.10/site-packages (from pydantic!=1.8,!=1.8.1,<3.0.0,>=1.7.4->spacy) (2.14.5)\n",
      "Requirement already satisfied: typing-extensions>=4.6.1 in /opt/mamba/lib/python3.10/site-packages (from pydantic!=1.8,!=1.8.1,<3.0.0,>=1.7.4->spacy) (4.8.0)\n",
      "Requirement already satisfied: charset-normalizer<4,>=2 in /opt/mamba/lib/python3.10/site-packages (from requests<3.0.0,>=2.13.0->spacy) (3.2.0)\n",
      "Requirement already satisfied: idna<4,>=2.5 in /opt/mamba/lib/python3.10/site-packages (from requests<3.0.0,>=2.13.0->spacy) (3.4)\n",
      "Requirement already satisfied: urllib3<3,>=1.21.1 in /opt/mamba/lib/python3.10/site-packages (from requests<3.0.0,>=2.13.0->spacy) (1.26.18)\n",
      "Requirement already satisfied: certifi>=2017.4.17 in /opt/mamba/lib/python3.10/site-packages (from requests<3.0.0,>=2.13.0->spacy) (2023.11.17)\n",
      "Requirement already satisfied: blis<0.8.0,>=0.7.8 in /opt/mamba/lib/python3.10/site-packages (from thinc<8.3.0,>=8.1.8->spacy) (0.7.11)\n",
      "Requirement already satisfied: confection<1.0.0,>=0.0.1 in /opt/mamba/lib/python3.10/site-packages (from thinc<8.3.0,>=8.1.8->spacy) (0.1.4)\n",
      "Requirement already satisfied: click<9.0.0,>=7.1.1 in /opt/mamba/lib/python3.10/site-packages (from typer<0.10.0,>=0.3.0->spacy) (8.1.7)\n",
      "Requirement already satisfied: cloudpathlib<0.17.0,>=0.7.0 in /opt/mamba/lib/python3.10/site-packages (from weasel<0.4.0,>=0.1.0->spacy) (0.16.0)\n",
      "Requirement already satisfied: MarkupSafe>=2.0 in /opt/mamba/lib/python3.10/site-packages (from jinja2->spacy) (2.1.3)\n",
      "Requirement already satisfied: wordcloud in /opt/mamba/lib/python3.10/site-packages (1.9.3)\n",
      "Requirement already satisfied: numpy>=1.6.1 in /opt/mamba/lib/python3.10/site-packages (from wordcloud) (1.26.2)\n",
      "Requirement already satisfied: pillow in /opt/mamba/lib/python3.10/site-packages (from wordcloud) (10.1.0)\n",
      "Requirement already satisfied: matplotlib in /opt/mamba/lib/python3.10/site-packages (from wordcloud) (3.8.2)\n",
      "Requirement already satisfied: contourpy>=1.0.1 in /opt/mamba/lib/python3.10/site-packages (from matplotlib->wordcloud) (1.2.0)\n",
      "Requirement already satisfied: cycler>=0.10 in /opt/mamba/lib/python3.10/site-packages (from matplotlib->wordcloud) (0.12.1)\n",
      "Requirement already satisfied: fonttools>=4.22.0 in /opt/mamba/lib/python3.10/site-packages (from matplotlib->wordcloud) (4.46.0)\n",
      "Requirement already satisfied: kiwisolver>=1.3.1 in /opt/mamba/lib/python3.10/site-packages (from matplotlib->wordcloud) (1.4.5)\n",
      "Requirement already satisfied: packaging>=20.0 in /opt/mamba/lib/python3.10/site-packages (from matplotlib->wordcloud) (23.1)\n",
      "Requirement already satisfied: pyparsing>=2.3.1 in /opt/mamba/lib/python3.10/site-packages (from matplotlib->wordcloud) (3.1.1)\n",
      "Requirement already satisfied: python-dateutil>=2.7 in /opt/mamba/lib/python3.10/site-packages (from matplotlib->wordcloud) (2.8.2)\n",
      "Requirement already satisfied: six>=1.5 in /opt/mamba/lib/python3.10/site-packages (from python-dateutil>=2.7->matplotlib->wordcloud) (1.16.0)\n",
      "Requirement already satisfied: textblob in /opt/mamba/lib/python3.10/site-packages (0.17.1)\n",
      "Requirement already satisfied: nltk>=3.1 in /opt/mamba/lib/python3.10/site-packages (from textblob) (3.8.1)\n",
      "Requirement already satisfied: click in /opt/mamba/lib/python3.10/site-packages (from nltk>=3.1->textblob) (8.1.7)\n",
      "Requirement already satisfied: joblib in /opt/mamba/lib/python3.10/site-packages (from nltk>=3.1->textblob) (1.3.2)\n",
      "Requirement already satisfied: regex>=2021.8.3 in /opt/mamba/lib/python3.10/site-packages (from nltk>=3.1->textblob) (2023.10.3)\n",
      "Requirement already satisfied: tqdm in /opt/mamba/lib/python3.10/site-packages (from nltk>=3.1->textblob) (4.66.1)\n"
     ]
    }
   ],
   "source": [
    "#!pip install spacy\n",
    "#!pip install wordcloud\n",
    "#!pip install textblob"
   ]
  },
  {
   "cell_type": "markdown",
   "metadata": {},
   "source": [
    "Il faut également télécharger une fois ces sortes de sous packages:"
   ]
  },
  {
   "cell_type": "code",
   "execution_count": null,
   "metadata": {},
   "outputs": [],
   "source": [
    "# Téléchargement d'éléments nécessaires à la tokenisation\n",
    "nltk.download('punkt')\n",
    "nltk.download('stopwords')\n",
    "nltk.download('wordnet')\n",
    "\n",
    "# Download the VADER lexicon for sentiment analysis\n",
    "nltk.download('vader_lexicon')"
   ]
  },
  {
   "cell_type": "code",
   "execution_count": null,
   "metadata": {},
   "outputs": [],
   "source": [
    "!python3 -m spacy download en_core_web_sm"
   ]
  },
  {
   "cell_type": "markdown",
   "metadata": {},
   "source": [
    "####  Import Library 📦"
   ]
  },
  {
   "cell_type": "code",
   "execution_count": 2,
   "metadata": {},
   "outputs": [],
   "source": [
    "# Importation de packages nécessaires\n",
    "\n",
    "import pandas as pd\n",
    "import json\n",
    "import nltk\n",
    "import spacy\n",
    "import matplotlib.pyplot as plt\n",
    "\n",
    "\n",
    "from nltk.sentiment import SentimentIntensityAnalyzer\n",
    "from textblob import TextBlob\n",
    "from wordcloud import WordCloud\n",
    "from nltk.stem import WordNetLemmatizer"
   ]
  },
  {
   "cell_type": "markdown",
   "metadata": {},
   "source": [
    "## **1.** Création de la base de données des commentaires, tokenisation et lemmatisation"
   ]
  },
  {
   "cell_type": "markdown",
   "metadata": {},
   "source": [
    "### **1.1** Création du DataFrame"
   ]
  },
  {
   "cell_type": "markdown",
   "metadata": {},
   "source": [
    "Nous allons ouvrir le dataset de telle façon qu'une observation est un commentaire sur un film"
   ]
  },
  {
   "cell_type": "code",
   "execution_count": 4,
   "metadata": {},
   "outputs": [],
   "source": [
    "# Transformation du fichier json en un Dataframe Pandas\n",
    "\n",
    "# Charger le fichier JSON\n",
    "with open(\"data_reviews.json\", 'r') as file:\n",
    "    data = json.load(file)"
   ]
  },
  {
   "cell_type": "code",
   "execution_count": 5,
   "metadata": {},
   "outputs": [
    {
     "data": {
      "text/html": [
       "<div>\n",
       "<style scoped>\n",
       "    .dataframe tbody tr th:only-of-type {\n",
       "        vertical-align: middle;\n",
       "    }\n",
       "\n",
       "    .dataframe tbody tr th {\n",
       "        vertical-align: top;\n",
       "    }\n",
       "\n",
       "    .dataframe thead th {\n",
       "        text-align: right;\n",
       "    }\n",
       "</style>\n",
       "<table border=\"1\" class=\"dataframe\">\n",
       "  <thead>\n",
       "    <tr style=\"text-align: right;\">\n",
       "      <th></th>\n",
       "      <th>Film</th>\n",
       "      <th>Commentaire</th>\n",
       "      <th>Annee</th>\n",
       "      <th>Note imdb</th>\n",
       "      <th>Budget</th>\n",
       "      <th>Box office</th>\n",
       "      <th>duree</th>\n",
       "    </tr>\n",
       "  </thead>\n",
       "  <tbody>\n",
       "    <tr>\n",
       "      <th>8539</th>\n",
       "      <td>Star Wars: Épisode I - La menace fantôme (1999)</td>\n",
       "      <td>Well, after waiting 16 years for his next inst...</td>\n",
       "      <td>1999</td>\n",
       "      <td>6,5</td>\n",
       "      <td>115000000</td>\n",
       "      <td>1027082707</td>\n",
       "      <td>2h 16m</td>\n",
       "    </tr>\n",
       "    <tr>\n",
       "      <th>5061</th>\n",
       "      <td>Captain America: Civil War (2016)</td>\n",
       "      <td>I like the what the makers of the Marvel movie...</td>\n",
       "      <td>2016</td>\n",
       "      <td>7,8</td>\n",
       "      <td>250000000</td>\n",
       "      <td>1155046416</td>\n",
       "      <td>2h 27m</td>\n",
       "    </tr>\n",
       "    <tr>\n",
       "      <th>5951</th>\n",
       "      <td>Transformers 3 : La Face cachée de la Lune (2011)</td>\n",
       "      <td>\"Dark Of The Moon\" is the first Transformers m...</td>\n",
       "      <td>2011</td>\n",
       "      <td>6,2</td>\n",
       "      <td>195000000</td>\n",
       "      <td>1123794079</td>\n",
       "      <td>2h 34m</td>\n",
       "    </tr>\n",
       "    <tr>\n",
       "      <th>1755</th>\n",
       "      <td>Avengers (2012)</td>\n",
       "      <td>This is the best superhero movie I have ever s...</td>\n",
       "      <td>2012</td>\n",
       "      <td>8,0</td>\n",
       "      <td>220000000</td>\n",
       "      <td>1520538536</td>\n",
       "      <td>2h 23m</td>\n",
       "    </tr>\n",
       "    <tr>\n",
       "      <th>11677</th>\n",
       "      <td>Le Seigneur des anneaux : Les Deux Tours (2002)</td>\n",
       "      <td>Literary no words. Perfection. Bravo to the ca...</td>\n",
       "      <td>2002</td>\n",
       "      <td>8,8</td>\n",
       "      <td>94000000</td>\n",
       "      <td>948893109</td>\n",
       "      <td>2h 59m</td>\n",
       "    </tr>\n",
       "  </tbody>\n",
       "</table>\n",
       "</div>"
      ],
      "text/plain": [
       "                                                    Film  \\\n",
       "8539     Star Wars: Épisode I - La menace fantôme (1999)   \n",
       "5061                   Captain America: Civil War (2016)   \n",
       "5951   Transformers 3 : La Face cachée de la Lune (2011)   \n",
       "1755                                     Avengers (2012)   \n",
       "11677    Le Seigneur des anneaux : Les Deux Tours (2002)   \n",
       "\n",
       "                                             Commentaire Annee Note imdb  \\\n",
       "8539   Well, after waiting 16 years for his next inst...  1999       6,5   \n",
       "5061   I like the what the makers of the Marvel movie...  2016       7,8   \n",
       "5951   \"Dark Of The Moon\" is the first Transformers m...  2011       6,2   \n",
       "1755   This is the best superhero movie I have ever s...  2012       8,0   \n",
       "11677  Literary no words. Perfection. Bravo to the ca...  2002       8,8   \n",
       "\n",
       "          Budget  Box office   duree  \n",
       "8539   115000000  1027082707  2h 16m  \n",
       "5061   250000000  1155046416  2h 27m  \n",
       "5951   195000000  1123794079  2h 34m  \n",
       "1755   220000000  1520538536  2h 23m  \n",
       "11677   94000000   948893109  2h 59m  "
      ]
     },
     "execution_count": 5,
     "metadata": {},
     "output_type": "execute_result"
    }
   ],
   "source": [
    "movie_name = []\n",
    "comments = []\n",
    "notes = []\n",
    "year= []\n",
    "budget=[]\n",
    "recette=[]\n",
    "duree=[]\n",
    "\n",
    "for movie, dico in data.items():\n",
    "    if '0' in dico and isinstance(dico['0'], list):  # Vérifier si la clé '0' est une liste\n",
    "        for comment in dico['0']:\n",
    "            movie_name.append(movie)\n",
    "            comments.append(comment)\n",
    "            year.append(dico['1'])\n",
    "            notes.append(dico['2'])\n",
    "            budget.append(dico['3'])\n",
    "            recette.append(dico['4'])\n",
    "            duree.append(dico['5'])\n",
    "\n",
    "df = pd.DataFrame({\n",
    "    'Film': movie_name,\n",
    "    'Commentaire': comments,\n",
    "    'Annee':year,\n",
    "    'Note imdb': notes,\n",
    "    'Budget':budget,\n",
    "    'Box office':recette,\n",
    "    'duree':duree\n",
    "})\n",
    "\n",
    "df.sample(5)"
   ]
  },
  {
   "cell_type": "markdown",
   "metadata": {},
   "source": [
    "### **1.2** Nettoyage des commentaires"
   ]
  },
  {
   "cell_type": "markdown",
   "metadata": {},
   "source": [
    "#### **1.2.1** Tokenisation et suppression de la ponctuation"
   ]
  },
  {
   "cell_type": "markdown",
   "metadata": {},
   "source": [
    "Il faut executer la cellule ci-dessous pour pouvoir charger le modèle de la langue anglaise de scapy."
   ]
  },
  {
   "cell_type": "code",
   "execution_count": 6,
   "metadata": {},
   "outputs": [],
   "source": [
    "# permet d'afficher un commentaire même si il est très long\n",
    "pd.set_option('display.max_colwidth', None)"
   ]
  },
  {
   "cell_type": "code",
   "execution_count": 7,
   "metadata": {
    "scrolled": true
   },
   "outputs": [
    {
     "data": {
      "text/plain": [
       "8461    If we look back just a few years ago, Pixar really still was the company that seemed to be able to do no wrong but in these last few years for whatever reason the Pixar brand has taken a little bit of a hit.Sure there's still the great original films like Inside Out but there's also been miscued films like Brave, Monster's University, the tiresome Good Dinosaur and now the long talked about and hyped Finding Dory.2003's Finding Nemo is a film fondly remembered by many, I know I for one still very much remember witnessing the film for the first time at the cinema and enjoy every minute of it, but taking a character that was fine as a support to the films leads and turning them into the figurehead of this return to the sea really brings down the chances Finding Dory had of being much more than a pretty animated adventure that leaves nothing of a lasting impression.The forgetful fish Dory, once more voiced here by comedian Ellen DeGeneres, on a journey to find her parents that she's somehow remembered doesn't make for much of an engaging tale even with her quest taking her all the way to a sea life park where she meets colourful characters like Hank the octopus (stealing most of the films best scenes), Destiny the whale shark or Bailey the beluga whale.Finding Nemo won audiences over with its great voice acting, memorable characters and simple yet effective central idea, Finding Dory feels tired as it tries to pay its respect's to the original whilst paving its own path out through the open storytelling waters but as has sadly become the case with Pixar's reliance now of bringing back past properties, this feels like a cash grab rather than a genuine attempt to create something fresh to wow audiences of all ages with. It's a problem the animation power house never use to have but with expectations come great pressure's Pixar currently aren't living up to.Finding Dory looks great (as do all Pixar films) and there are some inventive scenarios at play here but this sequel which has taken too long to come to surface fails to live up to the name we've come to expect from its classic forefather and with an annoying forgetful fish as our main point of contact, Finding Dory is more arduous for adults than we'd have liked and is one for the kiddies only.2 learning on the job truck drivers out of 5\n",
       "Name: Commentaire, dtype: object"
      ]
     },
     "execution_count": 7,
     "metadata": {},
     "output_type": "execute_result"
    }
   ],
   "source": [
    "#oOn retire les \"\\n\" dans les commentaires\n",
    "df[\"Commentaire\"] = df[\"Commentaire\"].str.replace('\\n','')\n",
    "df[\"Commentaire\"].sample()"
   ]
  },
  {
   "cell_type": "code",
   "execution_count": 8,
   "metadata": {},
   "outputs": [],
   "source": [
    "pd.set_option('display.max_colwidth', 100)"
   ]
  },
  {
   "cell_type": "code",
   "execution_count": 12,
   "metadata": {},
   "outputs": [],
   "source": [
    "# On commence par charger le modèle de la langue anglaise de Spacy (les commentaires sont en anglais)\n",
    "nlp = spacy.load('en_core_web_sm')\n",
    "\n",
    "# Fonction qui prend en argument un commentaire (chaîne de caractère) et qui retourne une liste des tokens sans les stopwords et la ponctuation\n",
    "def tokenize(text):\n",
    "    doc = nlp(text)\n",
    "    tokens = [token.text for token in doc if not token.is_stop and not token.is_punct]\n",
    "    return tokens"
   ]
  },
  {
   "cell_type": "code",
   "execution_count": 13,
   "metadata": {},
   "outputs": [
    {
     "name": "stdout",
     "output_type": "stream",
     "text": [
      "CPU times: user 11min 22s, sys: 3.43 s, total: 11min 25s\n",
      "Wall time: 11min 25s\n"
     ]
    },
    {
     "data": {
      "text/html": [
       "<div>\n",
       "<style scoped>\n",
       "    .dataframe tbody tr th:only-of-type {\n",
       "        vertical-align: middle;\n",
       "    }\n",
       "\n",
       "    .dataframe tbody tr th {\n",
       "        vertical-align: top;\n",
       "    }\n",
       "\n",
       "    .dataframe thead th {\n",
       "        text-align: right;\n",
       "    }\n",
       "</style>\n",
       "<table border=\"1\" class=\"dataframe\">\n",
       "  <thead>\n",
       "    <tr style=\"text-align: right;\">\n",
       "      <th></th>\n",
       "      <th>Film</th>\n",
       "      <th>Commentaire</th>\n",
       "      <th>Annee</th>\n",
       "      <th>Note imdb</th>\n",
       "      <th>Budget</th>\n",
       "      <th>Box office</th>\n",
       "      <th>duree</th>\n",
       "      <th>Tokens</th>\n",
       "    </tr>\n",
       "  </thead>\n",
       "  <tbody>\n",
       "    <tr>\n",
       "      <th>4808</th>\n",
       "      <td>Le Seigneur des anneaux : Le Retour du roi (2003)</td>\n",
       "      <td>Just as Peter Jackson felt that LOTR had to be made as one large, three-part, cinematic piece, I...</td>\n",
       "      <td>2003</td>\n",
       "      <td>9,0</td>\n",
       "      <td>94000000</td>\n",
       "      <td>1155870721</td>\n",
       "      <td>3h 21m</td>\n",
       "      <td>[Peter, Jackson, felt, LOTR, large, cinematic, piece, decided, write, IMDb, review, movies, sing...</td>\n",
       "    </tr>\n",
       "    <tr>\n",
       "      <th>9551</th>\n",
       "      <td>The Dark Knight : Le Chevalier noir (2008)</td>\n",
       "      <td>In short, The Dark Knight is everything any Batfan could have dreamed of. It is the best of 2008...</td>\n",
       "      <td>2008</td>\n",
       "      <td>9,0</td>\n",
       "      <td>185000000</td>\n",
       "      <td>1029266147</td>\n",
       "      <td>2h 32m</td>\n",
       "      <td>[short, Dark, Knight, Batfan, dreamed, best, 2008, best, comic, book, film, time, greatest, acti...</td>\n",
       "    </tr>\n",
       "    <tr>\n",
       "      <th>6214</th>\n",
       "      <td>Jurassic Park (1993)</td>\n",
       "      <td>Jurassic Park is, without a doubt, one of my favorite movies of all time. If I made a list of my...</td>\n",
       "      <td>1993</td>\n",
       "      <td>8,2</td>\n",
       "      <td>63000000</td>\n",
       "      <td>1113138548</td>\n",
       "      <td>2h 7m</td>\n",
       "      <td>[Jurassic, Park, doubt, favorite, movies, time, list, favorite, movies, Jurassic, Park, amazing,...</td>\n",
       "    </tr>\n",
       "    <tr>\n",
       "      <th>1196</th>\n",
       "      <td>Spider-Man: No Way Home (2021)</td>\n",
       "      <td>\"Spider-Man: No Way Home\" is an entertaining film for fans of the spider and Marvel, highlightin...</td>\n",
       "      <td>2021</td>\n",
       "      <td>8,2</td>\n",
       "      <td>200000000</td>\n",
       "      <td>1921847111</td>\n",
       "      <td>2h 28m</td>\n",
       "      <td>[Spider, Man, Way, Home, entertaining, film, fans, spider, Marvel, highlighting, script, multive...</td>\n",
       "    </tr>\n",
       "    <tr>\n",
       "      <th>4245</th>\n",
       "      <td>Fast &amp; Furious 8 (2017)</td>\n",
       "      <td>This was painful. Action? Yes, but we're talking Physics that Sharknado would be ashamed of. Fai...</td>\n",
       "      <td>2017</td>\n",
       "      <td>6,6</td>\n",
       "      <td>250000000</td>\n",
       "      <td>1236005118</td>\n",
       "      <td>2h 16m</td>\n",
       "      <td>[painful, Action, Yes, talking, Physics, Sharknado, ashamed, Failure, understand, accept, realit...</td>\n",
       "    </tr>\n",
       "  </tbody>\n",
       "</table>\n",
       "</div>"
      ],
      "text/plain": [
       "                                                   Film  \\\n",
       "4808  Le Seigneur des anneaux : Le Retour du roi (2003)   \n",
       "9551         The Dark Knight : Le Chevalier noir (2008)   \n",
       "6214                               Jurassic Park (1993)   \n",
       "1196                     Spider-Man: No Way Home (2021)   \n",
       "4245                            Fast & Furious 8 (2017)   \n",
       "\n",
       "                                                                                              Commentaire  \\\n",
       "4808  Just as Peter Jackson felt that LOTR had to be made as one large, three-part, cinematic piece, I...   \n",
       "9551  In short, The Dark Knight is everything any Batfan could have dreamed of. It is the best of 2008...   \n",
       "6214  Jurassic Park is, without a doubt, one of my favorite movies of all time. If I made a list of my...   \n",
       "1196  \"Spider-Man: No Way Home\" is an entertaining film for fans of the spider and Marvel, highlightin...   \n",
       "4245  This was painful. Action? Yes, but we're talking Physics that Sharknado would be ashamed of. Fai...   \n",
       "\n",
       "     Annee Note imdb     Budget  Box office   duree  \\\n",
       "4808  2003       9,0   94000000  1155870721  3h 21m   \n",
       "9551  2008       9,0  185000000  1029266147  2h 32m   \n",
       "6214  1993       8,2   63000000  1113138548   2h 7m   \n",
       "1196  2021       8,2  200000000  1921847111  2h 28m   \n",
       "4245  2017       6,6  250000000  1236005118  2h 16m   \n",
       "\n",
       "                                                                                                   Tokens  \n",
       "4808  [Peter, Jackson, felt, LOTR, large, cinematic, piece, decided, write, IMDb, review, movies, sing...  \n",
       "9551  [short, Dark, Knight, Batfan, dreamed, best, 2008, best, comic, book, film, time, greatest, acti...  \n",
       "6214  [Jurassic, Park, doubt, favorite, movies, time, list, favorite, movies, Jurassic, Park, amazing,...  \n",
       "1196  [Spider, Man, Way, Home, entertaining, film, fans, spider, Marvel, highlighting, script, multive...  \n",
       "4245  [painful, Action, Yes, talking, Physics, Sharknado, ashamed, Failure, understand, accept, realit...  "
      ]
     },
     "execution_count": 13,
     "metadata": {},
     "output_type": "execute_result"
    }
   ],
   "source": [
    "%%time\n",
    "# On crée une nouvelle colonne avec la liste des tokens pour chaque commentaire\n",
    "df['Tokens'] = df['Commentaire'].apply(tokenize)\n",
    "df.sample(5)"
   ]
  },
  {
   "cell_type": "markdown",
   "metadata": {},
   "source": [
    "Avec Spacy, l'algortihme s'exécute en près de  min pour l'ensemble de la base de données. Nous avons utilisé Spacy et non nltk pour la tokenization et la suppression des stopwords, puisque Spacy a un répertoire plus important de stopwords et a de meilleures performances pour les textes volumineux. Il est à noter que la fonction de tokenisation ne supprime pas les négations, donc l'analyse de sentiment ne sera pas biaisée."
   ]
  },
  {
   "cell_type": "markdown",
   "metadata": {},
   "source": [
    "#### **1.2.2** Lemmatisation des commentaires   \n",
    "Nous allons désormais procéder à la lemmatisation des commentaires pour pouvoir allèger les algorithmes de NLP plus tard."
   ]
  },
  {
   "cell_type": "code",
   "execution_count": 14,
   "metadata": {},
   "outputs": [],
   "source": [
    "# Fonction qui prend en argument une liste de tokens et qui retourne ces tokens lemmatisés\n",
    "def lemm(tokens):\n",
    "    # D'abord, on transforme la liste en doc Spacy\n",
    "    tokens_as_doc = spacy.tokens.Doc(nlp.vocab, words=tokens)\n",
    "    # Lemmatisation du doc \n",
    "    lemmatized = [token.lemma_ for token in tokens_as_doc]\n",
    "    return lemmatized\n",
    "# Le lemma_ de Spacy ne reconnait pas les tokens et renvoie des listes vides (Pourquoi ?)\n",
    "\n",
    "lemmatizer = WordNetLemmatizer()\n",
    "\n",
    "def lemm2(tokens):\n",
    "    lemmatized = [lemmatizer.lemmatize(token) for token in tokens]\n",
    "    return lemmatized\n",
    "\n"
   ]
  },
  {
   "cell_type": "code",
   "execution_count": 15,
   "metadata": {},
   "outputs": [
    {
     "data": {
      "text/html": [
       "<div>\n",
       "<style scoped>\n",
       "    .dataframe tbody tr th:only-of-type {\n",
       "        vertical-align: middle;\n",
       "    }\n",
       "\n",
       "    .dataframe tbody tr th {\n",
       "        vertical-align: top;\n",
       "    }\n",
       "\n",
       "    .dataframe thead th {\n",
       "        text-align: right;\n",
       "    }\n",
       "</style>\n",
       "<table border=\"1\" class=\"dataframe\">\n",
       "  <thead>\n",
       "    <tr style=\"text-align: right;\">\n",
       "      <th></th>\n",
       "      <th>Film</th>\n",
       "      <th>Commentaire</th>\n",
       "      <th>Annee</th>\n",
       "      <th>Note imdb</th>\n",
       "      <th>Budget</th>\n",
       "      <th>Box office</th>\n",
       "      <th>duree</th>\n",
       "      <th>Tokens</th>\n",
       "      <th>Tokens lemmatisés</th>\n",
       "    </tr>\n",
       "  </thead>\n",
       "  <tbody>\n",
       "    <tr>\n",
       "      <th>3170</th>\n",
       "      <td>Harry Potter et les Reliques de la Mort : partie 2 (2011)</td>\n",
       "      <td>Thus endeth one of the most popular - and profitable - series in movie history. And the good new...</td>\n",
       "      <td>2011</td>\n",
       "      <td>8,1</td>\n",
       "      <td>125000000</td>\n",
       "      <td>1356841356</td>\n",
       "      <td>2h 10m</td>\n",
       "      <td>[endeth, popular, profitable, series, movie, history, good, news, ends, bang, whimper, push, clu...</td>\n",
       "      <td>[endeth, popular, profitable, series, movie, history, good, news, end, bang, whimper, push, clut...</td>\n",
       "    </tr>\n",
       "    <tr>\n",
       "      <th>593</th>\n",
       "      <td>Titanic (1997)</td>\n",
       "      <td>I've never watched Titanic until now. It caught my interest when I heard the story about those 5...</td>\n",
       "      <td>1997</td>\n",
       "      <td>7,9</td>\n",
       "      <td>200000000</td>\n",
       "      <td>2264743305</td>\n",
       "      <td>3h 14m</td>\n",
       "      <td>[watched, Titanic, caught, interest, heard, story, 5, people, lost, lives, expedition, Titanic, ...</td>\n",
       "      <td>[watched, Titanic, caught, interest, heard, story, 5, people, lost, life, expedition, Titanic, I...</td>\n",
       "    </tr>\n",
       "    <tr>\n",
       "      <th>15393</th>\n",
       "      <td>Vice-versa (2015)</td>\n",
       "      <td>I was expecting a funny lighthearted animated movie, one I have come to expect from Pixar. Unfor...</td>\n",
       "      <td>2015</td>\n",
       "      <td>8,1</td>\n",
       "      <td>175000000</td>\n",
       "      <td>858848019</td>\n",
       "      <td>1h 35m</td>\n",
       "      <td>[expecting, funny, lighthearted, animated, movie, come, expect, Pixar, Unfortunately, funny, sce...</td>\n",
       "      <td>[expecting, funny, lighthearted, animated, movie, come, expect, Pixar, Unfortunately, funny, sce...</td>\n",
       "    </tr>\n",
       "    <tr>\n",
       "      <th>8142</th>\n",
       "      <td>Moi, moche et méchant 3 (2017)</td>\n",
       "      <td>I tend to be pretty easy to please with these movies but, believe it or not, the Minions carry \"...</td>\n",
       "      <td>2017</td>\n",
       "      <td>6,2</td>\n",
       "      <td>80000000</td>\n",
       "      <td>1034800131</td>\n",
       "      <td>1h 29m</td>\n",
       "      <td>[tend, pretty, easy, movies, believe, Minions, carry, Despicable, 3, Steve, Carell, pulling, dou...</td>\n",
       "      <td>[tend, pretty, easy, movie, believe, Minions, carry, Despicable, 3, Steve, Carell, pulling, doub...</td>\n",
       "    </tr>\n",
       "    <tr>\n",
       "      <th>9620</th>\n",
       "      <td>Jurassic World: Le monde d'après (2022)</td>\n",
       "      <td>Jurassic World Dominion is the third and final film in the Jurassic Park/World franchise. And wh...</td>\n",
       "      <td>2022</td>\n",
       "      <td>5,6</td>\n",
       "      <td>165000000</td>\n",
       "      <td>1001978080</td>\n",
       "      <td>2h 27m</td>\n",
       "      <td>[Jurassic, World, Dominion, final, film, Jurassic, Park, World, franchise, great, visuals, fun, ...</td>\n",
       "      <td>[Jurassic, World, Dominion, final, film, Jurassic, Park, World, franchise, great, visuals, fun, ...</td>\n",
       "    </tr>\n",
       "  </tbody>\n",
       "</table>\n",
       "</div>"
      ],
      "text/plain": [
       "                                                            Film  \\\n",
       "3170   Harry Potter et les Reliques de la Mort : partie 2 (2011)   \n",
       "593                                               Titanic (1997)   \n",
       "15393                                          Vice-versa (2015)   \n",
       "8142                              Moi, moche et méchant 3 (2017)   \n",
       "9620                     Jurassic World: Le monde d'après (2022)   \n",
       "\n",
       "                                                                                               Commentaire  \\\n",
       "3170   Thus endeth one of the most popular - and profitable - series in movie history. And the good new...   \n",
       "593    I've never watched Titanic until now. It caught my interest when I heard the story about those 5...   \n",
       "15393  I was expecting a funny lighthearted animated movie, one I have come to expect from Pixar. Unfor...   \n",
       "8142   I tend to be pretty easy to please with these movies but, believe it or not, the Minions carry \"...   \n",
       "9620   Jurassic World Dominion is the third and final film in the Jurassic Park/World franchise. And wh...   \n",
       "\n",
       "      Annee Note imdb     Budget  Box office   duree  \\\n",
       "3170   2011       8,1  125000000  1356841356  2h 10m   \n",
       "593    1997       7,9  200000000  2264743305  3h 14m   \n",
       "15393  2015       8,1  175000000   858848019  1h 35m   \n",
       "8142   2017       6,2   80000000  1034800131  1h 29m   \n",
       "9620   2022       5,6  165000000  1001978080  2h 27m   \n",
       "\n",
       "                                                                                                    Tokens  \\\n",
       "3170   [endeth, popular, profitable, series, movie, history, good, news, ends, bang, whimper, push, clu...   \n",
       "593    [watched, Titanic, caught, interest, heard, story, 5, people, lost, lives, expedition, Titanic, ...   \n",
       "15393  [expecting, funny, lighthearted, animated, movie, come, expect, Pixar, Unfortunately, funny, sce...   \n",
       "8142   [tend, pretty, easy, movies, believe, Minions, carry, Despicable, 3, Steve, Carell, pulling, dou...   \n",
       "9620   [Jurassic, World, Dominion, final, film, Jurassic, Park, World, franchise, great, visuals, fun, ...   \n",
       "\n",
       "                                                                                         Tokens lemmatisés  \n",
       "3170   [endeth, popular, profitable, series, movie, history, good, news, end, bang, whimper, push, clut...  \n",
       "593    [watched, Titanic, caught, interest, heard, story, 5, people, lost, life, expedition, Titanic, I...  \n",
       "15393  [expecting, funny, lighthearted, animated, movie, come, expect, Pixar, Unfortunately, funny, sce...  \n",
       "8142   [tend, pretty, easy, movie, believe, Minions, carry, Despicable, 3, Steve, Carell, pulling, doub...  \n",
       "9620   [Jurassic, World, Dominion, final, film, Jurassic, Park, World, franchise, great, visuals, fun, ...  "
      ]
     },
     "execution_count": 15,
     "metadata": {},
     "output_type": "execute_result"
    }
   ],
   "source": [
    "# On crée une nouvelle colonne des tokens lemmatisés\n",
    "df['Tokens lemmatisés'] = df['Tokens'].apply(lemm2)\n",
    "df.sample(5)"
   ]
  },
  {
   "cell_type": "markdown",
   "metadata": {},
   "source": [
    "### **1.3** Représentation des mots\n",
    "\n",
    "Maintenant, visualisons pour certains commentaires les mots les plus représentés après nettoyage des commentaires."
   ]
  },
  {
   "cell_type": "markdown",
   "metadata": {},
   "source": [
    "Commençons d'abord par visualiser un premier nuage de mots d'un commentaire quelconque."
   ]
  },
  {
   "cell_type": "code",
   "execution_count": 16,
   "metadata": {},
   "outputs": [],
   "source": [
    "# Fonction qui prend en argument une liste de tokens et qui retourne le nuage de mots correspondant.\n",
    "\n",
    "def cloud(tokens):\n",
    "    text = \" \".join(tokens)\n",
    "    wordcloud = WordCloud(width=800, height=400, background_color=\"white\").generate(text)\n",
    "    return wordcloud"
   ]
  },
  {
   "cell_type": "code",
   "execution_count": 96,
   "metadata": {},
   "outputs": [
    {
     "data": {
      "image/png": "[encoded data removed]",
      "text/plain": [
       "<Figure size 1000x800 with 1 Axes>"
      ]
     },
     "metadata": {},
     "output_type": "display_data"
    }
   ],
   "source": [
    "plt.figure(figsize=(10, 8))\n",
    "plt.imshow(cloud(df['Tokens lemmatisés'][0]), interpolation='bilinear')\n",
    "plt.axis(\"off\")\n",
    "plt.show()"
   ]
  },
  {
   "cell_type": "markdown",
   "metadata": {},
   "source": [
    "Par exemple, pour le premier commentaire de la bdd, on peut dès à présent avoir une idée sur son avis vis à vis du film grâce à ce nuage de mots, de par la présence de mots tels que 'masterpiece, 'magnificent', 'perfection'... qui sont assez représentés. Néanmoins, comme nous avons utilisé nltk, le lemmatiseur ne reconnait pas les entités nommés telles que 'IMAX', 'India'... . \n",
    "La présence des mots concernants le temps comme \"waiting\", \"time\", \"longest\" nous indique que la durée du film est un sujet des commentaires et nous pourrons voir par la suite s'il existe une corrélation entre la durée du film et la polarité des commentaires."
   ]
  },
  {
   "cell_type": "markdown",
   "metadata": {},
   "source": [
    "## **2.** NLP et analyse des sentiments"
   ]
  },
  {
   "cell_type": "markdown",
   "metadata": {},
   "source": [
    "Dans un premier temps nous allons appliquer les algorithmes de NLP sur les commentaires afin d'obtenir un score pour chaque commentaires puis nous allons modifier le dataset de telle sorte qu'une observation est un film."
   ]
  },
  {
   "cell_type": "markdown",
   "metadata": {},
   "source": [
    "### **2.1** application d'algorithmes d'analyses de sentiments"
   ]
  },
  {
   "cell_type": "code",
   "execution_count": 18,
   "metadata": {},
   "outputs": [],
   "source": [
    "#Convertir les commentaires en string.\n",
    "def string_function(column):\n",
    "    return column.str.lower()\n",
    "\n",
    "df['Commentaire'] =  string_function(df[\"Commentaire\"])"
   ]
  },
  {
   "cell_type": "markdown",
   "metadata": {},
   "source": [
    "Nous allons comparer les différents algorithmes proposés, notamment ceux des modules TextBlob, nltk."
   ]
  },
  {
   "cell_type": "markdown",
   "metadata": {},
   "source": [
    "On va dans un premier temps utiliser le module TextBlob"
   ]
  },
  {
   "cell_type": "code",
   "execution_count": 19,
   "metadata": {},
   "outputs": [],
   "source": [
    "def analyze_sentiment_blob(tokens):\n",
    "    text = ' '.join(tokens)\n",
    "    blob = TextBlob(text)\n",
    "    return blob.sentiment.polarity"
   ]
  },
  {
   "cell_type": "code",
   "execution_count": 20,
   "metadata": {},
   "outputs": [],
   "source": [
    "# Appliquez la fonction à la colonne 'tokens_lemmatized' du DataFrame\n",
    "df['sentiment_polarity_blob'] = df['Tokens lemmatisés'].apply(analyze_sentiment_blob)"
   ]
  },
  {
   "cell_type": "markdown",
   "metadata": {},
   "source": [
    "On essaye maintenant avec la fonction SentimentIntensityAnalyzer de nltk"
   ]
  },
  {
   "cell_type": "code",
   "execution_count": 21,
   "metadata": {
    "scrolled": true
   },
   "outputs": [],
   "source": [
    "def analyze_sentiment_nltk(tokens):\n",
    "    text = ' '.join(tokens)\n",
    "    sia = SentimentIntensityAnalyzer()\n",
    "    return sia.polarity_scores(text)['compound']"
   ]
  },
  {
   "cell_type": "code",
   "execution_count": 22,
   "metadata": {},
   "outputs": [
    {
     "name": "stdout",
     "output_type": "stream",
     "text": [
      "CPU times: user 1min 41s, sys: 660 ms, total: 1min 42s\n",
      "Wall time: 1min 42s\n"
     ]
    }
   ],
   "source": [
    "%%time\n",
    "df['sentiment_polarity_nltk'] = df[\"Tokens lemmatisés\"].apply(analyze_sentiment_nltk)"
   ]
  },
  {
   "cell_type": "markdown",
   "metadata": {},
   "source": [
    "La cellule ci-dessus prend environ 2 min à s'exécuter"
   ]
  },
  {
   "cell_type": "markdown",
   "metadata": {},
   "source": [
    "### **2.2** manipulation pour la création du nouveau dataset"
   ]
  },
  {
   "cell_type": "markdown",
   "metadata": {},
   "source": [
    "Les variables sont sous forme de string. Nous changeons cela pour pourvoir faire des statistiques avec."
   ]
  },
  {
   "cell_type": "code",
   "execution_count": 23,
   "metadata": {},
   "outputs": [
    {
     "data": {
      "text/plain": [
       "Film                        object\n",
       "Commentaire                 object\n",
       "Annee                       object\n",
       "Note imdb                   object\n",
       "Budget                      object\n",
       "Box office                  object\n",
       "duree                       object\n",
       "Tokens                      object\n",
       "Tokens lemmatisés           object\n",
       "sentiment_polarity_blob    float64\n",
       "sentiment_polarity_nltk    float64\n",
       "dtype: object"
      ]
     },
     "execution_count": 23,
     "metadata": {},
     "output_type": "execute_result"
    }
   ],
   "source": [
    "df.dtypes"
   ]
  },
  {
   "cell_type": "code",
   "execution_count": 24,
   "metadata": {},
   "outputs": [],
   "source": [
    "#change le type de la colonne 'Note imdb' en float\n",
    "df['Note imdb'] = df['Note imdb'].str.replace(',', '.').astype(float)\n",
    "df['Annee'] = df['Annee'].astype(float)\n",
    "df[\"Budget\"] = df[\"Budget\"].astype(float)\n",
    "df['Box office'] = df[\"Box office\"].astype(float)"
   ]
  },
  {
   "cell_type": "markdown",
   "metadata": {},
   "source": [
    "On groupe les observations selon le film."
   ]
  },
  {
   "cell_type": "code",
   "execution_count": 25,
   "metadata": {
    "scrolled": true
   },
   "outputs": [],
   "source": [
    "grouped = df.groupby('Film')\n",
    "df_grouped = grouped[[\"sentiment_polarity_nltk\", \"sentiment_polarity_blob\",  'Note imdb', 'Annee', \"Budget\", \"Box office\"]].mean()"
   ]
  },
  {
   "cell_type": "markdown",
   "metadata": {},
   "source": [
    "Intéressons nous à la corrélation des notes avec les scores moyens:"
   ]
  },
  {
   "cell_type": "markdown",
   "metadata": {},
   "source": [
    "On va également ajouter la durée de chaque film dans le nouveau df \"df_grouped\":"
   ]
  },
  {
   "cell_type": "code",
   "execution_count": 115,
   "metadata": {},
   "outputs": [
    {
     "data": {
      "text/plain": [
       "Film\n",
       "007 Spectre (2015)                     2h 28m\n",
       "Aladdin (2019)                          2h 8m\n",
       "Alice au pays des merveilles (2010)    1h 48m\n",
       "Aquaman (2018)                         2h 23m\n",
       "Avatar (2009)                          2h 42m\n",
       "Name: duree, dtype: object"
      ]
     },
     "execution_count": 115,
     "metadata": {},
     "output_type": "execute_result"
    }
   ],
   "source": [
    "# Définir une fonction pour sélectionner une observation pour chaque groupe\n",
    "def select_observation(group):\n",
    "    # Vous pouvez personnaliser cette fonction pour choisir une observation spécifique,\n",
    "    # par exemple, ici, nous choisissons la première observation de chaque groupe.\n",
    "    return group.iloc[0]\n",
    "\n",
    "# Appliquer la fonction à chaque groupe\n",
    "duration_serie = grouped['duree'].apply(select_observation)\n",
    "duration_serie.head()"
   ]
  },
  {
   "cell_type": "code",
   "execution_count": 116,
   "metadata": {},
   "outputs": [
    {
     "data": {
      "text/html": [
       "<div>\n",
       "<style scoped>\n",
       "    .dataframe tbody tr th:only-of-type {\n",
       "        vertical-align: middle;\n",
       "    }\n",
       "\n",
       "    .dataframe tbody tr th {\n",
       "        vertical-align: top;\n",
       "    }\n",
       "\n",
       "    .dataframe thead th {\n",
       "        text-align: right;\n",
       "    }\n",
       "</style>\n",
       "<table border=\"1\" class=\"dataframe\">\n",
       "  <thead>\n",
       "    <tr style=\"text-align: right;\">\n",
       "      <th></th>\n",
       "      <th>duree</th>\n",
       "      <th>sentiment_polarity_nltk</th>\n",
       "      <th>sentiment_polarity_blob</th>\n",
       "      <th>Note imdb</th>\n",
       "      <th>Annee</th>\n",
       "      <th>Budget</th>\n",
       "      <th>Box office</th>\n",
       "    </tr>\n",
       "    <tr>\n",
       "      <th>Film</th>\n",
       "      <th></th>\n",
       "      <th></th>\n",
       "      <th></th>\n",
       "      <th></th>\n",
       "      <th></th>\n",
       "      <th></th>\n",
       "      <th></th>\n",
       "    </tr>\n",
       "  </thead>\n",
       "  <tbody>\n",
       "    <tr>\n",
       "      <th>007 Spectre (2015)</th>\n",
       "      <td>2h 28m</td>\n",
       "      <td>0.545586</td>\n",
       "      <td>0.130661</td>\n",
       "      <td>6.8</td>\n",
       "      <td>2015.0</td>\n",
       "      <td>245000000.0</td>\n",
       "      <td>8.807053e+08</td>\n",
       "    </tr>\n",
       "    <tr>\n",
       "      <th>Aladdin (2019)</th>\n",
       "      <td>2h 8m</td>\n",
       "      <td>0.624164</td>\n",
       "      <td>0.175002</td>\n",
       "      <td>6.9</td>\n",
       "      <td>2019.0</td>\n",
       "      <td>183000000.0</td>\n",
       "      <td>1.054304e+09</td>\n",
       "    </tr>\n",
       "    <tr>\n",
       "      <th>Alice au pays des merveilles (2010)</th>\n",
       "      <td>1h 48m</td>\n",
       "      <td>0.723677</td>\n",
       "      <td>0.137034</td>\n",
       "      <td>6.4</td>\n",
       "      <td>2010.0</td>\n",
       "      <td>200000000.0</td>\n",
       "      <td>1.025468e+09</td>\n",
       "    </tr>\n",
       "    <tr>\n",
       "      <th>Aquaman (2018)</th>\n",
       "      <td>2h 23m</td>\n",
       "      <td>0.276618</td>\n",
       "      <td>0.006167</td>\n",
       "      <td>6.8</td>\n",
       "      <td>2018.0</td>\n",
       "      <td>160000000.0</td>\n",
       "      <td>1.157347e+09</td>\n",
       "    </tr>\n",
       "    <tr>\n",
       "      <th>Avatar (2009)</th>\n",
       "      <td>2h 42m</td>\n",
       "      <td>0.844516</td>\n",
       "      <td>0.213078</td>\n",
       "      <td>7.9</td>\n",
       "      <td>2009.0</td>\n",
       "      <td>237000000.0</td>\n",
       "      <td>2.923706e+09</td>\n",
       "    </tr>\n",
       "  </tbody>\n",
       "</table>\n",
       "</div>"
      ],
      "text/plain": [
       "                                      duree  sentiment_polarity_nltk  \\\n",
       "Film                                                                   \n",
       "007 Spectre (2015)                   2h 28m                 0.545586   \n",
       "Aladdin (2019)                        2h 8m                 0.624164   \n",
       "Alice au pays des merveilles (2010)  1h 48m                 0.723677   \n",
       "Aquaman (2018)                       2h 23m                 0.276618   \n",
       "Avatar (2009)                        2h 42m                 0.844516   \n",
       "\n",
       "                                     sentiment_polarity_blob  Note imdb  \\\n",
       "Film                                                                      \n",
       "007 Spectre (2015)                                  0.130661        6.8   \n",
       "Aladdin (2019)                                      0.175002        6.9   \n",
       "Alice au pays des merveilles (2010)                 0.137034        6.4   \n",
       "Aquaman (2018)                                      0.006167        6.8   \n",
       "Avatar (2009)                                       0.213078        7.9   \n",
       "\n",
       "                                      Annee       Budget    Box office  \n",
       "Film                                                                    \n",
       "007 Spectre (2015)                   2015.0  245000000.0  8.807053e+08  \n",
       "Aladdin (2019)                       2019.0  183000000.0  1.054304e+09  \n",
       "Alice au pays des merveilles (2010)  2010.0  200000000.0  1.025468e+09  \n",
       "Aquaman (2018)                       2018.0  160000000.0  1.157347e+09  \n",
       "Avatar (2009)                        2009.0  237000000.0  2.923706e+09  "
      ]
     },
     "execution_count": 116,
     "metadata": {},
     "output_type": "execute_result"
    }
   ],
   "source": [
    "df_grouped = pd.merge(duration_serie, df_grouped , on='Film', how='inner')\n",
    "df_grouped.head()"
   ]
  },
  {
   "cell_type": "markdown",
   "metadata": {},
   "source": [
    "Il peut être interessant de regarder aussi la variance des scores:"
   ]
  },
  {
   "cell_type": "code",
   "execution_count": 118,
   "metadata": {},
   "outputs": [],
   "source": [
    "var_by_group = grouped[[\"sentiment_polarity_nltk\", \"sentiment_polarity_blob\"]].var()"
   ]
  },
  {
   "cell_type": "code",
   "execution_count": 119,
   "metadata": {},
   "outputs": [],
   "source": [
    "# \"Join\" var_by_group et le df pour ajouter les variables de variance\n",
    "df_grouped_2 = pd.merge(var_by_group, df_grouped , on='Film', how='inner')"
   ]
  },
  {
   "cell_type": "code",
   "execution_count": 120,
   "metadata": {
    "scrolled": true
   },
   "outputs": [
    {
     "name": "stdout",
     "output_type": "stream",
     "text": [
      "(95, 10)\n"
     ]
    },
    {
     "data": {
      "text/html": [
       "<div>\n",
       "<style scoped>\n",
       "    .dataframe tbody tr th:only-of-type {\n",
       "        vertical-align: middle;\n",
       "    }\n",
       "\n",
       "    .dataframe tbody tr th {\n",
       "        vertical-align: top;\n",
       "    }\n",
       "\n",
       "    .dataframe thead th {\n",
       "        text-align: right;\n",
       "    }\n",
       "</style>\n",
       "<table border=\"1\" class=\"dataframe\">\n",
       "  <thead>\n",
       "    <tr style=\"text-align: right;\">\n",
       "      <th></th>\n",
       "      <th>Film</th>\n",
       "      <th>var_score_nltk</th>\n",
       "      <th>var_score_blob</th>\n",
       "      <th>duree</th>\n",
       "      <th>sentiment_polarity_nltk</th>\n",
       "      <th>sentiment_polarity_blob</th>\n",
       "      <th>Note imdb</th>\n",
       "      <th>Annee</th>\n",
       "      <th>Budget</th>\n",
       "      <th>Box office</th>\n",
       "    </tr>\n",
       "  </thead>\n",
       "  <tbody>\n",
       "    <tr>\n",
       "      <th>0</th>\n",
       "      <td>007 Spectre (2015)</td>\n",
       "      <td>0.468121</td>\n",
       "      <td>0.028772</td>\n",
       "      <td>2h 28m</td>\n",
       "      <td>0.545586</td>\n",
       "      <td>0.130661</td>\n",
       "      <td>6.8</td>\n",
       "      <td>2015.0</td>\n",
       "      <td>245000000.0</td>\n",
       "      <td>8.807053e+08</td>\n",
       "    </tr>\n",
       "    <tr>\n",
       "      <th>1</th>\n",
       "      <td>Aladdin (2019)</td>\n",
       "      <td>0.285684</td>\n",
       "      <td>0.055514</td>\n",
       "      <td>2h 8m</td>\n",
       "      <td>0.624164</td>\n",
       "      <td>0.175002</td>\n",
       "      <td>6.9</td>\n",
       "      <td>2019.0</td>\n",
       "      <td>183000000.0</td>\n",
       "      <td>1.054304e+09</td>\n",
       "    </tr>\n",
       "    <tr>\n",
       "      <th>2</th>\n",
       "      <td>Alice au pays des merveilles (2010)</td>\n",
       "      <td>0.295968</td>\n",
       "      <td>0.027473</td>\n",
       "      <td>1h 48m</td>\n",
       "      <td>0.723677</td>\n",
       "      <td>0.137034</td>\n",
       "      <td>6.4</td>\n",
       "      <td>2010.0</td>\n",
       "      <td>200000000.0</td>\n",
       "      <td>1.025468e+09</td>\n",
       "    </tr>\n",
       "    <tr>\n",
       "      <th>3</th>\n",
       "      <td>Aquaman (2018)</td>\n",
       "      <td>0.504025</td>\n",
       "      <td>0.092883</td>\n",
       "      <td>2h 23m</td>\n",
       "      <td>0.276618</td>\n",
       "      <td>0.006167</td>\n",
       "      <td>6.8</td>\n",
       "      <td>2018.0</td>\n",
       "      <td>160000000.0</td>\n",
       "      <td>1.157347e+09</td>\n",
       "    </tr>\n",
       "    <tr>\n",
       "      <th>4</th>\n",
       "      <td>Avatar (2009)</td>\n",
       "      <td>0.155810</td>\n",
       "      <td>0.022904</td>\n",
       "      <td>2h 42m</td>\n",
       "      <td>0.844516</td>\n",
       "      <td>0.213078</td>\n",
       "      <td>7.9</td>\n",
       "      <td>2009.0</td>\n",
       "      <td>237000000.0</td>\n",
       "      <td>2.923706e+09</td>\n",
       "    </tr>\n",
       "  </tbody>\n",
       "</table>\n",
       "</div>"
      ],
      "text/plain": [
       "                                  Film  var_score_nltk  var_score_blob  \\\n",
       "0                   007 Spectre (2015)        0.468121        0.028772   \n",
       "1                       Aladdin (2019)        0.285684        0.055514   \n",
       "2  Alice au pays des merveilles (2010)        0.295968        0.027473   \n",
       "3                       Aquaman (2018)        0.504025        0.092883   \n",
       "4                        Avatar (2009)        0.155810        0.022904   \n",
       "\n",
       "    duree  sentiment_polarity_nltk  sentiment_polarity_blob  Note imdb  \\\n",
       "0  2h 28m                 0.545586                 0.130661        6.8   \n",
       "1   2h 8m                 0.624164                 0.175002        6.9   \n",
       "2  1h 48m                 0.723677                 0.137034        6.4   \n",
       "3  2h 23m                 0.276618                 0.006167        6.8   \n",
       "4  2h 42m                 0.844516                 0.213078        7.9   \n",
       "\n",
       "    Annee       Budget    Box office  \n",
       "0  2015.0  245000000.0  8.807053e+08  \n",
       "1  2019.0  183000000.0  1.054304e+09  \n",
       "2  2010.0  200000000.0  1.025468e+09  \n",
       "3  2018.0  160000000.0  1.157347e+09  \n",
       "4  2009.0  237000000.0  2.923706e+09  "
      ]
     },
     "execution_count": 120,
     "metadata": {},
     "output_type": "execute_result"
    }
   ],
   "source": [
    "# Renomme les variables obtenues:\n",
    "df_grouped_2.rename(columns={'sentiment_polarity_nltk_x': 'var_score_nltk'}, inplace=True)\n",
    "df_grouped_2.rename(columns={'sentiment_polarity_blob_x': 'var_score_blob'}, inplace=True)\n",
    "df_grouped_2.rename(columns={'sentiment_polarity_nltk_y': 'sentiment_polarity_nltk'}, inplace=True)\n",
    "df_grouped_2.rename(columns={'sentiment_polarity_blob_y': 'sentiment_polarity_blob'}, inplace=True)\n",
    "\n",
    "# Rétablir l'index par défaut\n",
    "df_grouped_2.reset_index(inplace=True)\n",
    "print(df_grouped_2.shape)\n",
    "df_grouped_2.head()"
   ]
  },
  {
   "cell_type": "code",
   "execution_count": 121,
   "metadata": {},
   "outputs": [],
   "source": [
    "df_grouped_2.to_csv('data_post_process_2o2.csv', index=False)"
   ]
  },
  {
   "cell_type": "code",
   "execution_count": 122,
   "metadata": {},
   "outputs": [],
   "source": [
    "df_grouped_2 = pd.read_csv('data_post_process_2o2.csv')"
   ]
  },
  {
   "cell_type": "code",
   "execution_count": 124,
   "metadata": {},
   "outputs": [
    {
     "data": {
      "text/html": [
       "<div>\n",
       "<style scoped>\n",
       "    .dataframe tbody tr th:only-of-type {\n",
       "        vertical-align: middle;\n",
       "    }\n",
       "\n",
       "    .dataframe tbody tr th {\n",
       "        vertical-align: top;\n",
       "    }\n",
       "\n",
       "    .dataframe thead th {\n",
       "        text-align: right;\n",
       "    }\n",
       "</style>\n",
       "<table border=\"1\" class=\"dataframe\">\n",
       "  <thead>\n",
       "    <tr style=\"text-align: right;\">\n",
       "      <th></th>\n",
       "      <th>Film</th>\n",
       "      <th>var_score_nltk</th>\n",
       "      <th>var_score_blob</th>\n",
       "      <th>duree</th>\n",
       "      <th>sentiment_polarity_nltk</th>\n",
       "      <th>sentiment_polarity_blob</th>\n",
       "      <th>Note imdb</th>\n",
       "      <th>Annee</th>\n",
       "      <th>Budget</th>\n",
       "      <th>Box office</th>\n",
       "    </tr>\n",
       "  </thead>\n",
       "  <tbody>\n",
       "    <tr>\n",
       "      <th>0</th>\n",
       "      <td>007 Spectre (2015)</td>\n",
       "      <td>0.468121</td>\n",
       "      <td>0.028772</td>\n",
       "      <td>2h 28m</td>\n",
       "      <td>0.545586</td>\n",
       "      <td>0.130661</td>\n",
       "      <td>6.8</td>\n",
       "      <td>2015.0</td>\n",
       "      <td>245000000.0</td>\n",
       "      <td>8.807053e+08</td>\n",
       "    </tr>\n",
       "    <tr>\n",
       "      <th>1</th>\n",
       "      <td>Aladdin (2019)</td>\n",
       "      <td>0.285684</td>\n",
       "      <td>0.055514</td>\n",
       "      <td>2h 8m</td>\n",
       "      <td>0.624164</td>\n",
       "      <td>0.175002</td>\n",
       "      <td>6.9</td>\n",
       "      <td>2019.0</td>\n",
       "      <td>183000000.0</td>\n",
       "      <td>1.054304e+09</td>\n",
       "    </tr>\n",
       "    <tr>\n",
       "      <th>2</th>\n",
       "      <td>Alice au pays des merveilles (2010)</td>\n",
       "      <td>0.295968</td>\n",
       "      <td>0.027473</td>\n",
       "      <td>1h 48m</td>\n",
       "      <td>0.723677</td>\n",
       "      <td>0.137034</td>\n",
       "      <td>6.4</td>\n",
       "      <td>2010.0</td>\n",
       "      <td>200000000.0</td>\n",
       "      <td>1.025468e+09</td>\n",
       "    </tr>\n",
       "    <tr>\n",
       "      <th>3</th>\n",
       "      <td>Aquaman (2018)</td>\n",
       "      <td>0.504025</td>\n",
       "      <td>0.092883</td>\n",
       "      <td>2h 23m</td>\n",
       "      <td>0.276618</td>\n",
       "      <td>0.006167</td>\n",
       "      <td>6.8</td>\n",
       "      <td>2018.0</td>\n",
       "      <td>160000000.0</td>\n",
       "      <td>1.157347e+09</td>\n",
       "    </tr>\n",
       "    <tr>\n",
       "      <th>4</th>\n",
       "      <td>Avatar (2009)</td>\n",
       "      <td>0.155810</td>\n",
       "      <td>0.022904</td>\n",
       "      <td>2h 42m</td>\n",
       "      <td>0.844516</td>\n",
       "      <td>0.213078</td>\n",
       "      <td>7.9</td>\n",
       "      <td>2009.0</td>\n",
       "      <td>237000000.0</td>\n",
       "      <td>2.923706e+09</td>\n",
       "    </tr>\n",
       "  </tbody>\n",
       "</table>\n",
       "</div>"
      ],
      "text/plain": [
       "                                  Film  var_score_nltk  var_score_blob  \\\n",
       "0                   007 Spectre (2015)        0.468121        0.028772   \n",
       "1                       Aladdin (2019)        0.285684        0.055514   \n",
       "2  Alice au pays des merveilles (2010)        0.295968        0.027473   \n",
       "3                       Aquaman (2018)        0.504025        0.092883   \n",
       "4                        Avatar (2009)        0.155810        0.022904   \n",
       "\n",
       "    duree  sentiment_polarity_nltk  sentiment_polarity_blob  Note imdb  \\\n",
       "0  2h 28m                 0.545586                 0.130661        6.8   \n",
       "1   2h 8m                 0.624164                 0.175002        6.9   \n",
       "2  1h 48m                 0.723677                 0.137034        6.4   \n",
       "3  2h 23m                 0.276618                 0.006167        6.8   \n",
       "4  2h 42m                 0.844516                 0.213078        7.9   \n",
       "\n",
       "    Annee       Budget    Box office  \n",
       "0  2015.0  245000000.0  8.807053e+08  \n",
       "1  2019.0  183000000.0  1.054304e+09  \n",
       "2  2010.0  200000000.0  1.025468e+09  \n",
       "3  2018.0  160000000.0  1.157347e+09  \n",
       "4  2009.0  237000000.0  2.923706e+09  "
      ]
     },
     "execution_count": 124,
     "metadata": {},
     "output_type": "execute_result"
    }
   ],
   "source": [
    "#vérification\n",
    "df_grouped_2.head()"
   ]
  },
  {
   "cell_type": "markdown",
   "metadata": {},
   "source": [
    "Maintenant que nos data ont été traité, nous allons procéder à l'analyse statistique sur un autre notebook (\"Analyse_modelisation_3o3\") avec les \"data_post_process_2o2\" afin de faciliter la lecture du projet. En effet, l'exécution de ce notebook peut prendre une quinzaine de minute."
   ]
  }
 ],
 "metadata": {
  "kernelspec": {
   "display_name": "Python 3 (ipykernel)",
   "language": "python",
   "name": "python3"
  },
  "language_info": {
   "codemirror_mode": {
    "name": "ipython",
    "version": 3
   },
   "file_extension": ".py",
   "mimetype": "text/x-python",
   "name": "python",
   "nbconvert_exporter": "python",
   "pygments_lexer": "ipython3",
   "version": "3.10.13"
  }
 },
 "nbformat": 4,
 "nbformat_minor": 4
}

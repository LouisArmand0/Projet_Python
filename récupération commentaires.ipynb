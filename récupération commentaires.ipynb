{
 "cells": [
  {
   "cell_type": "markdown",
   "metadata": {},
   "source": [
    "## notebook pour la récupération des commentaires (Avatar)"
   ]
  },
  {
   "cell_type": "code",
   "execution_count": 59,
   "metadata": {},
   "outputs": [],
   "source": [
    "#librairies\n",
    "\n",
    "import bs4\n",
    "import lxml\n",
    "import pandas\n",
    "import urllib\n",
    "\n",
    "from urllib import request"
   ]
  },
  {
   "cell_type": "markdown",
   "metadata": {},
   "source": [
    "On récupère les commentaires sur le site imbd, sur le page des commentaires des utilisateurs sur le film Avatar: https://www.imdb.com/title/tt0499549/reviews/?ref_=tt_ov_rt"
   ]
  },
  {
   "cell_type": "code",
   "execution_count": 60,
   "metadata": {},
   "outputs": [],
   "source": [
    "url = 'https://www.imdb.com/title/tt0499549/reviews/?ref_=tt_ov_rt'   #lien du site\n",
    "response = request.urlopen(url).read()                                #récupération du code source"
   ]
  },
  {
   "cell_type": "code",
   "execution_count": 89,
   "metadata": {},
   "outputs": [
    {
     "name": "stdout",
     "output_type": "stream",
     "text": [
      "b'\\n\\n\\n\\n\\n\\n\\n\\n\\n\\n<!DOCTYPE html>\\n<html\\n    xmlns:og=\"http://ogp.me/ns#\"\\n    xmlns:fb=\"http://www.facebook.c'\n"
     ]
    }
   ],
   "source": [
    "print(response[:100])                                                #vérification"
   ]
  },
  {
   "cell_type": "code",
   "execution_count": 98,
   "metadata": {},
   "outputs": [],
   "source": [
    "page = bs4.BeautifulSoup(response, \"lxml\")  \n",
    "# Trouver les balises qui contiennent les commentaires\n",
    "comments = page.findAll(\"div\", {\"class\", \"text show-more__control\"})"
   ]
  },
  {
   "cell_type": "code",
   "execution_count": 88,
   "metadata": {},
   "outputs": [
    {
     "data": {
      "text/plain": [
       "<div class=\"text show-more__control\">I was waiting for this day for the longest time. I was a kid back in 2009 when this movie released. So never got to watch it back then. But now when it rereleased I booked the first day show to a IMAX show and oh boy was I blown away! This is nothing short of a masterpiece! It's beyond belief how a film like this could've been made. Every scene, every shot is perfection. You are transferred to a different world and become so engrossed in the film. Never have I attended a movie where at the end of it people got up from their seats and started clapping! Last time this happened was after Infinity War. That movie too was a damn brilliant one. I'm from India and this is legit rare, where people go crazy, so crazy after any English film. This was one experience that I will never forget. I'm definitely going for it again next weekend cuz just once was not enough.<br/><br/>Every human on the planet needs to experience this magnificent work of art!</div>"
      ]
     },
     "execution_count": 88,
     "metadata": {},
     "output_type": "execute_result"
    }
   ],
   "source": [
    "comments[1]                                                      #vérification"
   ]
  },
  {
   "cell_type": "markdown",
   "metadata": {},
   "source": [
    "La vérification nous confirme qu'on a bien récupéré ce qu'on voulait. IL faut malgré tout retirer les balises \"\\<b/>\",  etc:"
   ]
  },
  {
   "cell_type": "code",
   "execution_count": 83,
   "metadata": {},
   "outputs": [],
   "source": [
    "#Je n'ai pas trouvé comment condenser ces lignes en une seule mais c'est sûrement faisable.\n",
    "\n",
    "comments_propre_1 = [str(x).replace('<div class=\"text show-more__control\">', \"\") for x in comments]\n",
    "comments_propre_2 = [str(x).replace('</div>', \"\") for x in comments_propre_1]\n",
    "comments_propre_3 = [str(x).replace('<br/>', \"\") for x in comments_propre_2]\n",
    "comments_p = [str(x).replace(\"\\'\", \"\") for x in comments_propre_3]"
   ]
  },
  {
   "cell_type": "markdown",
   "metadata": {},
   "source": [
    "Le problème est que nous ne pouvons charger que 25 commentaires. En effet, sur le site, il y a un bouton \"load more\" qui permet de \"scroller\" et d'accéder à plus de commentaires. Je n'ai pas trouvé de façon assez simple pour charger ces autres commentaires pour aller au moins jusqu'à 100."
   ]
  },
  {
   "cell_type": "code",
   "execution_count": 109,
   "metadata": {},
   "outputs": [
    {
     "data": {
      "text/plain": [
       "25"
      ]
     },
     "execution_count": 109,
     "metadata": {},
     "output_type": "execute_result"
    }
   ],
   "source": [
    "len(comments_p)"
   ]
  },
  {
   "cell_type": "code",
   "execution_count": null,
   "metadata": {},
   "outputs": [],
   "source": []
  }
 ],
 "metadata": {
  "kernelspec": {
   "display_name": "Python 3",
   "language": "python",
   "name": "python3"
  },
  "language_info": {
   "codemirror_mode": {
    "name": "ipython",
    "version": 3
   },
   "file_extension": ".py",
   "mimetype": "text/x-python",
   "name": "python",
   "nbconvert_exporter": "python",
   "pygments_lexer": "ipython3",
   "version": "3.8.5"
  }
 },
 "nbformat": 4,
 "nbformat_minor": 4
}

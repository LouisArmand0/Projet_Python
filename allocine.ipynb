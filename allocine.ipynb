{
 "cells": [
  {
   "cell_type": "code",
   "execution_count": 8,
   "metadata": {},
   "outputs": [],
   "source": [
    "import requests\n",
    "import lxml.html as lh\n",
    "import pandas as pd\n",
    "import csv\n",
    "url = 'https://www.allocine.fr/film/fichefilm-61282/critiques/spectateurs/'\n",
    "uri_pages = '?page='\n",
    "nbPages = 1\n",
    "tags = ['//span[@class=\"stareval-note\"]', \\\n",
    "'//div[@class=\"content-txt review-card-content\"]' ]\n",
    "cols = ['Note', 'Description' ]\n",
    "page = requests.get(url)\n",
    "doc = lh.fromstring(page.content)\n",
    "def getPage(url):\n",
    "    page = requests.get(url)\n",
    "    doc = lh.fromstring(page.content)\n",
    "    # Get the Web data via XPath\n",
    "    content = []\n",
    "    for i in range(len(tags)):\n",
    "        content.append(doc.xpath(tags[i]))\n",
    "    # Gather the data into a Pandas DataFrame array\n",
    "    df_liste = []\n",
    "    for j in range(len(tags)):\n",
    "        tmp = pd.DataFrame([content[j][i].text_content().strip() for i in range(len(content[i]))], columns=[cols[j]])\n",
    "        tmp['key'] = tmp.index\n",
    "        df_liste.append(tmp)\n",
    "    # Build the unique Dataframe with one tag (xpath) content per column\n",
    "    liste = df_liste[0]\n",
    "    for j in range(len(tags)-1):\n",
    "        liste = liste.join(df_liste[j+1], on='key', how='left', lsuffix='_l', rsuffix='_r')\n",
    "        liste['key'] = liste.index\n",
    "    del liste['key_l']\n",
    "    del liste['key_r']\n",
    "    return liste\n",
    "def getPages(_nbPages, _url):\n",
    "    liste_finale = pd.DataFrame()\n",
    "    for i in range (_nbPages):\n",
    "        liste = getPage(_url + uri_pages + str(i+1))\n",
    "        liste_finale = pd.concat([liste_finale, liste], ignore_index=True)\n",
    "    return liste_finale\n",
    "liste_totale = getPages(nbPages, url)\n",
    "liste_totale.to_csv('allocine_inception_avis.csv', index=False, quoting=csv.QUOTE_NONNUMERIC)"
   ]
  },
  {
   "cell_type": "code",
   "execution_count": null,
   "metadata": {},
   "outputs": [],
   "source": [
    "#pip install selenium"
   ]
  },
  {
   "cell_type": "code",
   "execution_count": 3,
   "metadata": {},
   "outputs": [],
   "source": [
    "import time\n",
    "from selenium import webdriver\n",
    "from selenium.webdriver.common.keys import Keys\n",
    "from selenium.webdriver.common.by import By\n",
    "from selenium.webdriver.support.ui import WebDriverWait\n",
    "from selenium.webdriver.support import expected_conditions as EC"
   ]
  },
  {
   "cell_type": "code",
   "execution_count": 12,
   "metadata": {},
   "outputs": [
    {
     "ename": "WebDriverException",
     "evalue": "Message: no such execution context\n  (Session info: chrome=119.0.6045.159)\nStacktrace:\n0   chromedriver                        0x0000000101c53d28 chromedriver + 4795688\n1   chromedriver                        0x0000000101c4b2b3 chromedriver + 4760243\n2   chromedriver                        0x00000001018246bd chromedriver + 407229\n3   chromedriver                        0x000000010180ab16 chromedriver + 301846\n4   chromedriver                        0x00000001018089b6 chromedriver + 293302\n5   chromedriver                        0x00000001018090d9 chromedriver + 295129\n6   chromedriver                        0x000000010181a5db chromedriver + 366043\n7   chromedriver                        0x000000010183235e chromedriver + 463710\n8   chromedriver                        0x00000001018b68e4 chromedriver + 1005796\n9   chromedriver                        0x000000010189aa73 chromedriver + 891507\n10  chromedriver                        0x0000000101865143 chromedriver + 672067\n11  chromedriver                        0x000000010186631e chromedriver + 676638\n12  chromedriver                        0x0000000101c14795 chromedriver + 4536213\n13  chromedriver                        0x0000000101c19853 chromedriver + 4556883\n14  chromedriver                        0x0000000101bfa001 chromedriver + 4427777\n15  chromedriver                        0x0000000101c1a59d chromedriver + 4560285\n16  chromedriver                        0x0000000101beb48c chromedriver + 4367500\n17  chromedriver                        0x0000000101c3a0e8 chromedriver + 4690152\n18  chromedriver                        0x0000000101c3a29e chromedriver + 4690590\n19  chromedriver                        0x0000000101c4aeee chromedriver + 4759278\n20  libsystem_pthread.dylib             0x00007ff81dc9e4e1 _pthread_start + 125\n21  libsystem_pthread.dylib             0x00007ff81dc99f6b thread_start + 15\n",
     "output_type": "error",
     "traceback": [
      "\u001b[0;31m---------------------------------------------------------------------------\u001b[0m",
      "\u001b[0;31mWebDriverException\u001b[0m                        Traceback (most recent call last)",
      "\u001b[1;32m/Users/louis-armandaumont/Library/CloudStorage/OneDrive-Personal/ENSAE/2A/Projet_Python/allocine.ipynb Cellule 4\u001b[0m line \u001b[0;36m1\n\u001b[1;32m      <a href='vscode-notebook-cell:/Users/louis-armandaumont/Library/CloudStorage/OneDrive-Personal/ENSAE/2A/Projet_Python/allocine.ipynb#W4sZmlsZQ%3D%3D?line=7'>8</a>\u001b[0m wait \u001b[39m=\u001b[39m WebDriverWait(driver, \u001b[39m20\u001b[39m)\n\u001b[1;32m      <a href='vscode-notebook-cell:/Users/louis-armandaumont/Library/CloudStorage/OneDrive-Personal/ENSAE/2A/Projet_Python/allocine.ipynb#W4sZmlsZQ%3D%3D?line=8'>9</a>\u001b[0m \u001b[39m# driver.find_element(By.CLASS_NAME, \"header-search-submit\") \u001b[39;00m\n\u001b[0;32m---> <a href='vscode-notebook-cell:/Users/louis-armandaumont/Library/CloudStorage/OneDrive-Personal/ENSAE/2A/Projet_Python/allocine.ipynb#W4sZmlsZQ%3D%3D?line=9'>10</a>\u001b[0m search_button \u001b[39m=\u001b[39m wait\u001b[39m.\u001b[39;49muntil(EC\u001b[39m.\u001b[39;49melement_to_be_clickable((By\u001b[39m.\u001b[39;49mCLASS_NAME, \u001b[39m\"\u001b[39;49m\u001b[39mheader-search-submit icon\u001b[39;49m\u001b[39m\"\u001b[39;49m)))\n\u001b[1;32m     <a href='vscode-notebook-cell:/Users/louis-armandaumont/Library/CloudStorage/OneDrive-Personal/ENSAE/2A/Projet_Python/allocine.ipynb#W4sZmlsZQ%3D%3D?line=10'>11</a>\u001b[0m search_button\u001b[39m.\u001b[39mclick()\n\u001b[1;32m     <a href='vscode-notebook-cell:/Users/louis-armandaumont/Library/CloudStorage/OneDrive-Personal/ENSAE/2A/Projet_Python/allocine.ipynb#W4sZmlsZQ%3D%3D?line=11'>12</a>\u001b[0m driver\u001b[39m.\u001b[39mquit()\n",
      "File \u001b[0;32m~/Library/Python/3.9/lib/python/site-packages/selenium/webdriver/support/wait.py:92\u001b[0m, in \u001b[0;36mWebDriverWait.until\u001b[0;34m(self, method, message)\u001b[0m\n\u001b[1;32m     90\u001b[0m \u001b[39mwhile\u001b[39;00m \u001b[39mTrue\u001b[39;00m:\n\u001b[1;32m     91\u001b[0m     \u001b[39mtry\u001b[39;00m:\n\u001b[0;32m---> 92\u001b[0m         value \u001b[39m=\u001b[39m method(\u001b[39mself\u001b[39;49m\u001b[39m.\u001b[39;49m_driver)\n\u001b[1;32m     93\u001b[0m         \u001b[39mif\u001b[39;00m value:\n\u001b[1;32m     94\u001b[0m             \u001b[39mreturn\u001b[39;00m value\n",
      "File \u001b[0;32m~/Library/Python/3.9/lib/python/site-packages/selenium/webdriver/support/expected_conditions.py:355\u001b[0m, in \u001b[0;36melement_to_be_clickable.<locals>._predicate\u001b[0;34m(driver)\u001b[0m\n\u001b[1;32m    353\u001b[0m target \u001b[39m=\u001b[39m mark\n\u001b[1;32m    354\u001b[0m \u001b[39mif\u001b[39;00m \u001b[39mnot\u001b[39;00m \u001b[39misinstance\u001b[39m(target, WebElement):  \u001b[39m# if given locator instead of WebElement\u001b[39;00m\n\u001b[0;32m--> 355\u001b[0m     target \u001b[39m=\u001b[39m driver\u001b[39m.\u001b[39;49mfind_element(\u001b[39m*\u001b[39;49mtarget)  \u001b[39m# grab element at locator\u001b[39;00m\n\u001b[1;32m    356\u001b[0m element \u001b[39m=\u001b[39m visibility_of(target)(driver)\n\u001b[1;32m    357\u001b[0m \u001b[39mif\u001b[39;00m element \u001b[39mand\u001b[39;00m element\u001b[39m.\u001b[39mis_enabled():\n",
      "File \u001b[0;32m~/Library/Python/3.9/lib/python/site-packages/selenium/webdriver/remote/webdriver.py:741\u001b[0m, in \u001b[0;36mWebDriver.find_element\u001b[0;34m(self, by, value)\u001b[0m\n\u001b[1;32m    738\u001b[0m     by \u001b[39m=\u001b[39m By\u001b[39m.\u001b[39mCSS_SELECTOR\n\u001b[1;32m    739\u001b[0m     value \u001b[39m=\u001b[39m \u001b[39mf\u001b[39m\u001b[39m'\u001b[39m\u001b[39m[name=\u001b[39m\u001b[39m\"\u001b[39m\u001b[39m{\u001b[39;00mvalue\u001b[39m}\u001b[39;00m\u001b[39m\"\u001b[39m\u001b[39m]\u001b[39m\u001b[39m'\u001b[39m\n\u001b[0;32m--> 741\u001b[0m \u001b[39mreturn\u001b[39;00m \u001b[39mself\u001b[39;49m\u001b[39m.\u001b[39;49mexecute(Command\u001b[39m.\u001b[39;49mFIND_ELEMENT, {\u001b[39m\"\u001b[39;49m\u001b[39musing\u001b[39;49m\u001b[39m\"\u001b[39;49m: by, \u001b[39m\"\u001b[39;49m\u001b[39mvalue\u001b[39;49m\u001b[39m\"\u001b[39;49m: value})[\u001b[39m\"\u001b[39m\u001b[39mvalue\u001b[39m\u001b[39m\"\u001b[39m]\n",
      "File \u001b[0;32m~/Library/Python/3.9/lib/python/site-packages/selenium/webdriver/remote/webdriver.py:347\u001b[0m, in \u001b[0;36mWebDriver.execute\u001b[0;34m(self, driver_command, params)\u001b[0m\n\u001b[1;32m    345\u001b[0m response \u001b[39m=\u001b[39m \u001b[39mself\u001b[39m\u001b[39m.\u001b[39mcommand_executor\u001b[39m.\u001b[39mexecute(driver_command, params)\n\u001b[1;32m    346\u001b[0m \u001b[39mif\u001b[39;00m response:\n\u001b[0;32m--> 347\u001b[0m     \u001b[39mself\u001b[39;49m\u001b[39m.\u001b[39;49merror_handler\u001b[39m.\u001b[39;49mcheck_response(response)\n\u001b[1;32m    348\u001b[0m     response[\u001b[39m\"\u001b[39m\u001b[39mvalue\u001b[39m\u001b[39m\"\u001b[39m] \u001b[39m=\u001b[39m \u001b[39mself\u001b[39m\u001b[39m.\u001b[39m_unwrap_value(response\u001b[39m.\u001b[39mget(\u001b[39m\"\u001b[39m\u001b[39mvalue\u001b[39m\u001b[39m\"\u001b[39m, \u001b[39mNone\u001b[39;00m))\n\u001b[1;32m    349\u001b[0m     \u001b[39mreturn\u001b[39;00m response\n",
      "File \u001b[0;32m~/Library/Python/3.9/lib/python/site-packages/selenium/webdriver/remote/errorhandler.py:229\u001b[0m, in \u001b[0;36mErrorHandler.check_response\u001b[0;34m(self, response)\u001b[0m\n\u001b[1;32m    227\u001b[0m         alert_text \u001b[39m=\u001b[39m value[\u001b[39m\"\u001b[39m\u001b[39malert\u001b[39m\u001b[39m\"\u001b[39m]\u001b[39m.\u001b[39mget(\u001b[39m\"\u001b[39m\u001b[39mtext\u001b[39m\u001b[39m\"\u001b[39m)\n\u001b[1;32m    228\u001b[0m     \u001b[39mraise\u001b[39;00m exception_class(message, screen, stacktrace, alert_text)  \u001b[39m# type: ignore[call-arg]  # mypy is not smart enough here\u001b[39;00m\n\u001b[0;32m--> 229\u001b[0m \u001b[39mraise\u001b[39;00m exception_class(message, screen, stacktrace)\n",
      "\u001b[0;31mWebDriverException\u001b[0m: Message: no such execution context\n  (Session info: chrome=119.0.6045.159)\nStacktrace:\n0   chromedriver                        0x0000000101c53d28 chromedriver + 4795688\n1   chromedriver                        0x0000000101c4b2b3 chromedriver + 4760243\n2   chromedriver                        0x00000001018246bd chromedriver + 407229\n3   chromedriver                        0x000000010180ab16 chromedriver + 301846\n4   chromedriver                        0x00000001018089b6 chromedriver + 293302\n5   chromedriver                        0x00000001018090d9 chromedriver + 295129\n6   chromedriver                        0x000000010181a5db chromedriver + 366043\n7   chromedriver                        0x000000010183235e chromedriver + 463710\n8   chromedriver                        0x00000001018b68e4 chromedriver + 1005796\n9   chromedriver                        0x000000010189aa73 chromedriver + 891507\n10  chromedriver                        0x0000000101865143 chromedriver + 672067\n11  chromedriver                        0x000000010186631e chromedriver + 676638\n12  chromedriver                        0x0000000101c14795 chromedriver + 4536213\n13  chromedriver                        0x0000000101c19853 chromedriver + 4556883\n14  chromedriver                        0x0000000101bfa001 chromedriver + 4427777\n15  chromedriver                        0x0000000101c1a59d chromedriver + 4560285\n16  chromedriver                        0x0000000101beb48c chromedriver + 4367500\n17  chromedriver                        0x0000000101c3a0e8 chromedriver + 4690152\n18  chromedriver                        0x0000000101c3a29e chromedriver + 4690590\n19  chromedriver                        0x0000000101c4aeee chromedriver + 4759278\n20  libsystem_pthread.dylib             0x00007ff81dc9e4e1 _pthread_start + 125\n21  libsystem_pthread.dylib             0x00007ff81dc99f6b thread_start + 15\n"
     ]
    }
   ],
   "source": [
    "\n",
    "url = 'https://www.allocine.fr'\n",
    "driver = webdriver.Chrome()\n",
    "driver.get(url)\n",
    "\n",
    "search = driver.find_element('name','q')\n",
    "search.send_keys('Avatar')\n",
    "\n",
    "wait = WebDriverWait(driver, 20)\n",
    "# driver.find_element(By.CLASS_NAME, \"header-search-submit\") \n",
    "search_button = wait.until(EC.element_to_be_clickable((By.CLASS_NAME, \"header-search-submit icon\")))\n",
    "search_button.click()\n",
    "driver.quit()\n",
    "\n"
   ]
  },
  {
   "cell_type": "code",
   "execution_count": null,
   "metadata": {},
   "outputs": [],
   "source": []
  }
 ],
 "metadata": {
  "kernelspec": {
   "display_name": "Python 3",
   "language": "python",
   "name": "python3"
  },
  "language_info": {
   "codemirror_mode": {
    "name": "ipython",
    "version": 3
   },
   "file_extension": ".py",
   "mimetype": "text/x-python",
   "name": "python",
   "nbconvert_exporter": "python",
   "pygments_lexer": "ipython3",
   "version": "3.9.6"
  }
 },
 "nbformat": 4,
 "nbformat_minor": 2
}

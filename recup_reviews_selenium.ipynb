{
 "cells": [
  {
   "cell_type": "markdown",
   "id": "3899808c",
   "metadata": {},
   "source": [
    "## Notebook pour la récupération des commentaires des utilisateurs sur IMBD via Selenium"
   ]
  },
  {
   "cell_type": "code",
   "execution_count": 9,
   "id": "8c747c60-694e-48f6-83ab-1babf5bc4abf",
   "metadata": {},
   "outputs": [],
   "source": [
    "#pip install selenium"
   ]
  },
  {
   "cell_type": "code",
   "execution_count": 15,
   "id": "a8d5e1ee-5208-4384-86ac-9358faf41cda",
   "metadata": {},
   "outputs": [],
   "source": [
    "import time\n",
    "import numpy as np\n",
    "import pandas as pd\n",
    "from selenium import webdriver\n",
    "from selenium.webdriver.common.keys import Keys\n",
    "from selenium.webdriver.common.by import By\n",
    "from selenium.webdriver.support.ui import WebDriverWait\n",
    "from selenium.webdriver.support import expected_conditions as EC"
   ]
  },
  {
   "cell_type": "code",
   "execution_count": 16,
   "id": "de7ed82c",
   "metadata": {},
   "outputs": [],
   "source": [
    "data_bo = pd.read_csv(\"data_bo.csv\")"
   ]
  },
  {
   "cell_type": "code",
   "execution_count": 41,
   "id": "7b96510e",
   "metadata": {},
   "outputs": [
    {
     "data": {
      "text/html": [
       "<div>\n",
       "<style scoped>\n",
       "    .dataframe tbody tr th:only-of-type {\n",
       "        vertical-align: middle;\n",
       "    }\n",
       "\n",
       "    .dataframe tbody tr th {\n",
       "        vertical-align: top;\n",
       "    }\n",
       "\n",
       "    .dataframe thead th {\n",
       "        text-align: right;\n",
       "    }\n",
       "</style>\n",
       "<table border=\"1\" class=\"dataframe\">\n",
       "  <thead>\n",
       "    <tr style=\"text-align: right;\">\n",
       "      <th></th>\n",
       "      <th>Titre</th>\n",
       "      <th>Réalisateur</th>\n",
       "      <th>Année</th>\n",
       "      <th>Pays De Production</th>\n",
       "      <th>Recettes</th>\n",
       "      <th>Meilleur Rang</th>\n",
       "    </tr>\n",
       "  </thead>\n",
       "  <tbody>\n",
       "    <tr>\n",
       "      <th>0</th>\n",
       "      <td>Avatar</td>\n",
       "      <td>James Cameron</td>\n",
       "      <td>2009</td>\n",
       "      <td>États-Unis</td>\n",
       "      <td>2923706026</td>\n",
       "      <td>1</td>\n",
       "    </tr>\n",
       "    <tr>\n",
       "      <th>1</th>\n",
       "      <td>Avengers: Endgame</td>\n",
       "      <td>Anthony etJoe Russo</td>\n",
       "      <td>2019</td>\n",
       "      <td>États-Unis</td>\n",
       "      <td>2799439100</td>\n",
       "      <td>1</td>\n",
       "    </tr>\n",
       "    <tr>\n",
       "      <th>2</th>\n",
       "      <td>Avatar : La Voie de l'eau</td>\n",
       "      <td>James Cameron</td>\n",
       "      <td>2022</td>\n",
       "      <td>États-Unis</td>\n",
       "      <td>2320250281</td>\n",
       "      <td>3</td>\n",
       "    </tr>\n",
       "    <tr>\n",
       "      <th>3</th>\n",
       "      <td>Titanic</td>\n",
       "      <td>James Cameron</td>\n",
       "      <td>1997</td>\n",
       "      <td>États-Unis</td>\n",
       "      <td>2264743305</td>\n",
       "      <td>1</td>\n",
       "    </tr>\n",
       "    <tr>\n",
       "      <th>4</th>\n",
       "      <td>Star Wars, épisode VII : Le Réveil de la Force</td>\n",
       "      <td>J. J. Abrams</td>\n",
       "      <td>2015</td>\n",
       "      <td>États-Unis</td>\n",
       "      <td>2071310218</td>\n",
       "      <td>3</td>\n",
       "    </tr>\n",
       "  </tbody>\n",
       "</table>\n",
       "</div>"
      ],
      "text/plain": [
       "                                            Titre          Réalisateur  Année  \\\n",
       "0                                          Avatar        James Cameron   2009   \n",
       "1                               Avengers: Endgame  Anthony etJoe Russo   2019   \n",
       "2                       Avatar : La Voie de l'eau        James Cameron   2022   \n",
       "3                                         Titanic        James Cameron   1997   \n",
       "4  Star Wars, épisode VII : Le Réveil de la Force         J. J. Abrams   2015   \n",
       "\n",
       "  Pays De Production    Recettes  Meilleur Rang  \n",
       "0         États-Unis  2923706026              1  \n",
       "1         États-Unis  2799439100              1  \n",
       "2         États-Unis  2320250281              3  \n",
       "3         États-Unis  2264743305              1  \n",
       "4         États-Unis  2071310218              3  "
      ]
     },
     "execution_count": 41,
     "metadata": {},
     "output_type": "execute_result"
    }
   ],
   "source": [
    "data_bo.head()"
   ]
  },
  {
   "cell_type": "markdown",
   "id": "6da88a1b",
   "metadata": {},
   "source": [
    "!!! attention !!! Il faut télécharger un \"chromedriver\" de la même version que votre version chrome, et le mettre à coté de ce fichier jupyter dans les fichiers."
   ]
  },
  {
   "cell_type": "code",
   "execution_count": 11,
   "id": "451f0c6c-daaa-43ce-a5f0-dfb4deb96e7e",
   "metadata": {},
   "outputs": [],
   "source": [
    "def scrape_imdb_reviews(url, num_iterations=3, wait_time=20):\n",
    "    # Initialise le navigateur\n",
    "    driver = webdriver.Chrome()\n",
    "    driver.get(url)\n",
    "\n",
    "    wait = WebDriverWait(driver, wait_time)\n",
    "    \n",
    "    #cherche le bouton \"Hide Spoilers\"\n",
    "    spoiler_button = wait.until(EC.element_to_be_clickable((By.CLASS_NAME, \"faceter-facets-text\")))\n",
    "    # Cliquez sur le bouton\n",
    "    spoiler_button.click()\n",
    "    \n",
    "    # Clique sur le bouton \"Load More\" plusieurs fois\n",
    "    for i in range(num_iterations):\n",
    "        load_more_button = wait.until(EC.element_to_be_clickable((By.ID, \"load-more-trigger\")))\n",
    "        load_more_button.click()\n",
    "        driver.implicitly_wait(3)\n",
    "\n",
    "    time.sleep(3)\n",
    "\n",
    "    # Trouve les commentaires par classe CSS\n",
    "    reviews = driver.find_elements(By.CSS_SELECTOR, \".text.show-more__control\")\n",
    "\n",
    "    # Imprime les commentaires pour débugger (les trois premiers commentaires)\n",
    "    \n",
    "    reviews_txt = []\n",
    "    for review in reviews:\n",
    "        reviews_txt.append(review.text)\n",
    "        \n",
    "    #check\n",
    "    print(reviews_txt[:2])  \n",
    "\n",
    "    # Imprime le nombre total de commentaires récupérés\n",
    "    print(f\"Nombre total de commentaires : {len(reviews)}\")\n",
    "\n",
    "    time.sleep(5)\n",
    "\n",
    "    # Ferme le navigateur\n",
    "    driver.quit()\n",
    "    \n",
    "    return reviews_txt"
   ]
  },
  {
   "cell_type": "markdown",
   "id": "d8d8b59d",
   "metadata": {},
   "source": [
    "Les commentaires cachés avec \"warning spoil\" sont maintenant vides dans notre liste, contrairement à avant avec la méthode beautiful soupe.\n",
    "\n",
    "Le lien \"hidespoil\"ci-dessous est ce lien:https://www.imdb.com/title/tt0499549/reviews?spoiler=hide&sort=curated&dir=desc&ratingFilter=0\n",
    "où l'on a coché la case \"hide spoiler\" ce qui retire automatiquement de la liste les commentaires avec la banière warning spoil. Ce qui nous permet de ne pas avoir d'élément vide dans notre liste. \n",
    "J'ai donc modifié la fonction pour que le robot clique automatiquement sur le bouton \"hide spoilers\" ce qui permet d'aller vers le 2ème lien à partir du 1er lien automatiquement."
   ]
  },
  {
   "cell_type": "code",
   "execution_count": 12,
   "id": "f35caefe",
   "metadata": {
    "scrolled": true
   },
   "outputs": [
    {
     "name": "stdout",
     "output_type": "stream",
     "text": [
      "[\"I was waiting for this day for the longest time. I was a kid back in 2009 when this movie released. So never got to watch it back then. But now when it rereleased I booked the first day show to a IMAX show and oh boy was I blown away! This is nothing short of a masterpiece! It's beyond belief how a film like this could've been made. Every scene, every shot is perfection. You are transferred to a different world and become so engrossed in the film. Never have I attended a movie where at the end of it people got up from their seats and started clapping! Last time this happened was after Infinity War. That movie too was a damn brilliant one. I'm from India and this is legit rare, where people go crazy, so crazy after any English film. This was one experience that I will never forget. I'm definitely going for it again next weekend cuz just once was not enough.\\n\\nEvery human on the planet needs to experience this magnificent work of art!\", \"Forgive me, I'm going to jump from professional to fan boy for a while here. I haven't had the jitters after a film the way I've had for Avatar in quite sometime. James Cameron's Avatar is the most entertaining and enthralling cinematic experiences of my life. It is incredible, simply put. What Cameron has done here is the most passionate film project put out since Steven Spielberg released Schindler's List. His attention to detail and his zeal for pushing the envelope is so admirable to any filmmaker or actor who will ever do another film from this point on.\\n\\nAvatar is the story of Jake Sully, a paraplegic marine, who replaces his brother on a secret mission to infiltrate the Na' vi, the colony of beings that sit on the planet of Pandora, where there is a precious ore, that sells at a ridiculous amount. When Jake learns the ways of the Na' vi, his feelings and learnings will put him and the people he trusts in dangerous jeopardy.\\n\\nThe performances here, in the sense of reacting, becoming, and understanding what Cameron has written are astounding. Not to be confused with a sensational bravura performance from some of the centuries best such as Marion Brando, Tom Hanks, or Diane Keaton; these actors along with the director inhabit these visual transformations with special effects as if they are have lived these beings all their lives. This is all based on character movements and reactions. Sam Worthington, as Jake Sully, is an actor who's on his way to becoming a star. Though he has problems with his Aussie accent often enough in the film, he gets the job done. Zoe Saldana, who plays Neytiri, a Na' vi huntress, is thrilling and electrifying. Stephen Lang, as the rock hard Colonel Miles, takes on a villainous turn to a new level in science fiction. He offers actual emotion and emotes evil to the audience and gains our hatred easily. Sigourney Weaver as the beautiful Dr. Grace, is sufficient enough to have on screen again teamed with Cameron. She lives inside her role with effortless ease, but suffers from some of the typical James Cameron cheesy lines.\\n\\nNarratively the film works perfectly on the cinematic level. The first forty minutes or so require patience and hope as it is the weakest part of the film and offers some dreariness, but when the second act takes off, it's sky high with no limits for James Cameron. Avatar delivers the best action sequences put on film of all time. That is the boldest statement I have ever made in all my years of criticism. I sat on this for two days before charging it out, but I mean it. It is the best visual experience of my life, period.\\n\\nOther than those visuals, the film pops with all the other technical aspects thrown into one. Art Direction is killer as the two worlds blend in perfectly for an acceptable time. The Film Editing is the crowning achievement of the film as it also offers the perfect blend of the two worlds, enticing the viewer and shifting us around. Mauro Fiore is the threat for a Cinematography Oscar this year. It was if the viewer sat down in a chair, put on glasses, and was literally placed on Pandora, spaceships, and floating mountains. The viewer can feel so engulfed by the imagery, you feel like you can smell the leaves from the trees. Avatar is utterly hypnotizing. James Horner's score is some of the best work done in his career. It offers a variable of devastation that moves the viewer to near tears. It goes back to his work on Titanic, where the musical instruments lifted the material immensely. The entire sound team is also locked and loaded for Oscar recognition as the feeling of animals, machines, and arrows buzzing by your head leave you imprisoned in Cameron's exquisite film.\\n\\nJames Cameron has come back home ladies and gentlemen Cameron is back, bigger, badder, and mature in his crowning work of his career. Terminator 2: Judgment Day and Titanic do not even compare anymore. This is the film that can blend the fans of those two films together and lock Cameron into your heart. He's a definite spoiler for a directing bid for the Academy Awards. You have admire the raw, natural talent the man has. How could you ever conceive such an experience and put that much effort and work into it and have it pay off? The box office success will surely keep him in the minds of voters for various critics' awards. His screenplay, leaps and bounds better than 1997's Best Picture Winner, is primed, developed and ripe for the taking. Though, you do acquire the tacky and atypical dialogue you expect from a science fiction director of this caliber, you can appreciate the effort and the honesty of it all. James Cameron is everything Michael Bay wishes he was, to put it bluntly.\\n\\nAvatar will bring also great actors putting their best foot forward such as Giovanni Ribisi, who is as underrated as they come. Michelle Rodriguez who exudes sexy like any woman starring in a sci-fi epic. Joel Moore, showing his range outside of his comedic work in Dodgeball: An Underdog Story. And the classy veteran actors, CCH Pounder and Wes Studi, who just simply don't work enough.\\n\\nAvatar is one of the best films of the year. The most exciting, thrilling, and superb work you'll feast your eyes on in any theater this century. Cinema, forever, will remember the benchmark that James Cameron placed not only for himself, but for any man, daring to change the game, the way Cameron did. Avatar is a movie experience to be remembered, and please experience in a movie theater first.\\n\\n***½/****\"]\n",
      "Nombre total de commentaires : 100\n"
     ]
    }
   ],
   "source": [
    "url_avatar = \"https://www.imdb.com/title/tt0499549/reviews/?ref_=tt_ov_rt\"\n",
    "url_avatar_hidespoil = \"https://www.imdb.com/title/tt0499549/reviews?spoiler=hide&sort=curated&dir=desc&ratingFilter=0\"\n",
    "# Utilisation de la fonction\n",
    "reviews_avatar = scrape_imdb_reviews(url_avatar, num_iterations=3, wait_time=20)"
   ]
  },
  {
   "cell_type": "markdown",
   "id": "18ccc83b",
   "metadata": {},
   "source": [
    "Les commentaires cachés avec \"warning spoil\" sont maintenant vides dans notre liste, contrairement à avant avec la méthode beautiful soupe."
   ]
  },
  {
   "cell_type": "code",
   "execution_count": 13,
   "id": "17bc7ac4",
   "metadata": {},
   "outputs": [
    {
     "data": {
      "text/plain": [
       "0.0"
      ]
     },
     "execution_count": 13,
     "metadata": {},
     "output_type": "execute_result"
    }
   ],
   "source": [
    "#vérification que nous avons pas de commentaire \"vide\"\n",
    "X = np.array([len(review) for review in reviews_avatar])\n",
    "X = [X==0]\n",
    "np.mean(X)"
   ]
  },
  {
   "cell_type": "code",
   "execution_count": 46,
   "id": "74ecea69",
   "metadata": {},
   "outputs": [
    {
     "name": "stdout",
     "output_type": "stream",
     "text": [
      "['\"Cars didn\\'t ride on it to make great time; they rode on it to have a great time.\"\\n\\nIt\\'s not hard to make a successful movie. It\\'s simple, really. Exceed my expectations. Make me feel. Force me to care. Deliver a somewhat clichéd message, but deliver it in such a way that the meaning resounds. Teach me the same lessons that your characters learn. And above all, entertain.\\n\\nPretty easy, right? Well, at least Pixar makes it look that way because with Cars they have once again succeeded.\\n\\nI\\'ll be honest; I had my doubts about the movie. How would they be able to take a story featuring nothing but vehicles, with nary a human in sight, and keep my interest for a full two hours? Animals are one thing, but could Pixar successfully master the personification of modes of transportation?\\n\\nYes, they could, and they did.\\n\\nThanks to Director Lasseter\\'s strong attention to detail, going so far as to insist that the vehicles bend and gesture in ways that were true to their construction, every car and truck truly becomes a unique character and personality. And along with those characters and personalities comes a story which yes, contains a well-traveled theme, but it comes with so much charm that even Grouchy McKilljoy\\'s hard little heart can\\'t help but be warmed.\\n\\nDon\\'t worry if you\\'re not a racing fan; I assure you it\\'s not a requirement to enjoy the movie. I love watching muscle cars race the quarter mile (ask me about my \\'69 Camaro), but NASCAR doesn\\'t do it for me. That\\'s another aspect about the film that gave me pause. I once fell asleep at a NASCAR qualifying race, despite the 90-degree heat and ear-splitting decibel levels, so would Cars keep me awake and interested? Within five minutes my worries began to slowly subside as I happily settled in for the ride.\\n\\nAnimation should be about bringing imagination to life. Give us something that can\\'t be done in live action. Cars does this so effectively that it almost seems a redundancy to comment on how Pixar continues to raise the CGI bar. The scenery on screen is awe-inducing to the point that it\\'s getting harder to distinguish the real from the created. The filmmakers have gone so far as to perfect reflections in the cars and to pay careful attention to weeds growing out of cracks in the sidewalk. I don\\'t see any way you could not be visually stunned.\\n\\nBut impressive visuals are little comfort if I\\'m not presented with a story that I care to follow. No problems there. If you\\'re the kind of person who loves to go \"awwwww\" at movies then prepare to be satisfied. What I appreciate the most is that, at the risk of causing some youngsters to become restless, time and attention has been given to character and story development. Lasseter and his team stood their ground and resisted any pressure to trim this to a runtime more suitable to those with limited attention spans, and I thank them for it.\\n\\nAs I said earlier, Cars hit the starting line with a disadvantage. I didn\\'t greet it with a warm smile. I crossed my arms, furrowed my brow, and dared it to prove my preconceived notions wrong.\\n\\nIt proceeded to exceed my expectations. It made me feel for its characters and forced me to care about McQueen\\'s journey, both to California and to a different viewpoint on life. Sure, the \"slow down and enjoy the scenery\" message may seem a little routine, but it\\'s a message I took to heart.\\n\\nImmediately following the movie I was on the Internet looking up information regarding Route 66. I\\'m now ready for a road trip void of interstates and efforts to beat my best time. I feel like slowing down a bit and exploring the unknown. Give me the scenic route, and give me more finely-tuned, detailed movies like Cars. That\\'s all I ask. Two hours of entertainment that make me care, even if briefly, about something other than myself and what goal has to be accomplished next.\\n\\nSee? It was simple, really. At least Pixar made it look that way.', \"This is EASILY the movie I've watched most in my life. Back when I was young, I would have this on repeat. My parents said I used to HAVE to watch this movie every day for a certain period of time or I would get mad. Well, until now, I hadn't seen it in like 6 years until now. It was just as I remember, and extremely nostalgic. I can't be bothered to wonder why this movie gets the hate that it does. In fact, it's one of the best Pixar films. Idk if the nostalgia is blinding me, but for me this was (so far) one of the better Pixar films. A great character arc for Lightning McQueen, an amazing redemption for Radiator Springs, just a magical movie. I will forever hold this movie close to me and never let go. Imo, this is one of THE movies.\\n\\nFun fact: I own all 36 original car action figures from the race at the beginning.\"]\n",
      "Nombre total de commentaires : 100\n"
     ]
    }
   ],
   "source": [
    "#Test pour un autre film\n",
    "url_cars = \"https://www.imdb.com/title/tt0317219/reviews/?ref_=tt_ov_rt\"\n",
    "reviews_cars = scrape_imdb_reviews(url_cars, num_iterations=3, wait_time=20)"
   ]
  },
  {
   "cell_type": "code",
   "execution_count": 74,
   "id": "809efdd0",
   "metadata": {},
   "outputs": [],
   "source": [
    "def google_search(word, wait_time=10):\n",
    "    \n",
    "    # Initialise le navigateur\n",
    "    driver = webdriver.Chrome()\n",
    "    \n",
    "    # Ouvrir Google\n",
    "    driver.get(\"https://www.google.com\")\n",
    "    wait = WebDriverWait(driver, wait_time)\n",
    "    \n",
    "    # Attendre que le bouton soit présent\n",
    "\n",
    "    button = wait.until(EC.presence_of_element_located((By.XPATH, \"//div[@class='QS5gu sy4vM' and text()='Tout refuser']\")))\n",
    "\n",
    "     # Cliquez sur le bouton\n",
    "    button.click()\n",
    "    wait = WebDriverWait(driver, wait_time)\n",
    "    \n",
    "    search_box = driver.find_element(By.NAME, \"q\")\n",
    "    search_box.send_keys(\"imdb user review \"+word)\n",
    "    search_box.send_keys(Keys.RETURN)\n",
    "    \n",
    "    # Attente que les résultats de recherche soient chargés\n",
    "    wait = WebDriverWait(driver, wait_time)\n",
    "    wait.until(EC.presence_of_element_located((By.ID, \"search\")))\n",
    "\n",
    "    # Trouver le premier lien dans les résultats de recherche et cliquer dessus\n",
    "    first_link = driver.find_element(By.CSS_SELECTOR, \"h3\")\n",
    "    first_link.click()\n",
    "\n",
    "    # Attendre quelques secondes pour voir le résultat (à adapter selon votre besoin)\n",
    "    driver.implicitly_wait(5)\n",
    "\n",
    "    # Fermer le navigateur\n",
    "    driver.quit()\n",
    "    \n",
    "# Exemple d'utilisation\n",
    "google_search(\"Avatar\")"
   ]
  },
  {
   "cell_type": "code",
   "execution_count": 71,
   "id": "e5ad8334",
   "metadata": {},
   "outputs": [
    {
     "ename": "ElementClickInterceptedException",
     "evalue": "Message: element click intercepted: Element <a jsname=\"BKxS1e\" class=\"gyPpGe\" role=\"link\" tabindex=\"0\" jsaction=\"i3viod\" data-ved=\"0ahUKEwjRgLzL19KCAxWVRaQEHaTmCR4Q67oDCAU\">...</a> is not clickable at point (65, 80). Other element would receive the click: <div class=\"dodTBe\" id=\"sfcnt\"></div>\n  (Session info: chrome=119.0.6045.160)\nStacktrace:\n\tGetHandleVerifier [0x00B772A3+45731]\n\t(No symbol) [0x00B02D51]\n\t(No symbol) [0x009F880D]\n\t(No symbol) [0x00A307AB]\n\t(No symbol) [0x00A2F2AF]\n\t(No symbol) [0x00A2D89B]\n\t(No symbol) [0x00A2CBA1]\n\t(No symbol) [0x00A24FC0]\n\t(No symbol) [0x00A47FDC]\n\t(No symbol) [0x00A24A4E]\n\t(No symbol) [0x00A48254]\n\t(No symbol) [0x00A5B7A2]\n\t(No symbol) [0x00A47DD6]\n\t(No symbol) [0x00A231F6]\n\t(No symbol) [0x00A2439D]\n\tGetHandleVerifier [0x00E80716+3229462]\n\tGetHandleVerifier [0x00EC84C8+3523784]\n\tGetHandleVerifier [0x00EC214C+3498316]\n\tGetHandleVerifier [0x00C01680+611968]\n\t(No symbol) [0x00B0CCCC]\n\t(No symbol) [0x00B08DF8]\n\t(No symbol) [0x00B08F1D]\n\t(No symbol) [0x00AFB2C7]\n\tBaseThreadInitThunk [0x76C57BA9+25]\n\tRtlInitializeExceptionChain [0x779CBD3B+107]\n\tRtlClearBits [0x779CBCBF+191]\n",
     "output_type": "error",
     "traceback": [
      "\u001b[1;31m---------------------------------------------------------------------------\u001b[0m",
      "\u001b[1;31mElementClickInterceptedException\u001b[0m          Traceback (most recent call last)",
      "Cell \u001b[1;32mIn[71], line 40\u001b[0m\n\u001b[0;32m     37\u001b[0m     driver\u001b[38;5;241m.\u001b[39mquit()\n\u001b[0;32m     39\u001b[0m \u001b[38;5;66;03m# Exemple d'utilisation\u001b[39;00m\n\u001b[1;32m---> 40\u001b[0m google_search(\u001b[38;5;124m\"\u001b[39m\u001b[38;5;124mHarry Potter\u001b[39m\u001b[38;5;124m\"\u001b[39m)\n",
      "Cell \u001b[1;32mIn[71], line 31\u001b[0m, in \u001b[0;36mgoogle_search\u001b[1;34m(word, wait_time)\u001b[0m\n\u001b[0;32m     29\u001b[0m first_link \u001b[38;5;241m=\u001b[39m driver\u001b[38;5;241m.\u001b[39mfind_element(By\u001b[38;5;241m.\u001b[39mCSS_SELECTOR, \u001b[38;5;124m\"\u001b[39m\u001b[38;5;124ma\u001b[39m\u001b[38;5;124m\"\u001b[39m)\n\u001b[0;32m     30\u001b[0m wait \u001b[38;5;241m=\u001b[39m WebDriverWait(driver, wait_time)\n\u001b[1;32m---> 31\u001b[0m first_link\u001b[38;5;241m.\u001b[39mclick()\n\u001b[0;32m     33\u001b[0m \u001b[38;5;66;03m# Attendre quelques secondes pour voir le résultat (à adapter selon votre besoin)\u001b[39;00m\n\u001b[0;32m     34\u001b[0m driver\u001b[38;5;241m.\u001b[39mimplicitly_wait(\u001b[38;5;241m5\u001b[39m)\n",
      "File \u001b[1;32m~\\anaconda3\\Lib\\site-packages\\selenium\\webdriver\\remote\\webelement.py:93\u001b[0m, in \u001b[0;36mWebElement.click\u001b[1;34m(self)\u001b[0m\n\u001b[0;32m     91\u001b[0m \u001b[38;5;28;01mdef\u001b[39;00m \u001b[38;5;21mclick\u001b[39m(\u001b[38;5;28mself\u001b[39m) \u001b[38;5;241m-\u001b[39m\u001b[38;5;241m>\u001b[39m \u001b[38;5;28;01mNone\u001b[39;00m:\n\u001b[0;32m     92\u001b[0m \u001b[38;5;250m    \u001b[39m\u001b[38;5;124;03m\"\"\"Clicks the element.\"\"\"\u001b[39;00m\n\u001b[1;32m---> 93\u001b[0m     \u001b[38;5;28mself\u001b[39m\u001b[38;5;241m.\u001b[39m_execute(Command\u001b[38;5;241m.\u001b[39mCLICK_ELEMENT)\n",
      "File \u001b[1;32m~\\anaconda3\\Lib\\site-packages\\selenium\\webdriver\\remote\\webelement.py:394\u001b[0m, in \u001b[0;36mWebElement._execute\u001b[1;34m(self, command, params)\u001b[0m\n\u001b[0;32m    392\u001b[0m     params \u001b[38;5;241m=\u001b[39m {}\n\u001b[0;32m    393\u001b[0m params[\u001b[38;5;124m\"\u001b[39m\u001b[38;5;124mid\u001b[39m\u001b[38;5;124m\"\u001b[39m] \u001b[38;5;241m=\u001b[39m \u001b[38;5;28mself\u001b[39m\u001b[38;5;241m.\u001b[39m_id\n\u001b[1;32m--> 394\u001b[0m \u001b[38;5;28;01mreturn\u001b[39;00m \u001b[38;5;28mself\u001b[39m\u001b[38;5;241m.\u001b[39m_parent\u001b[38;5;241m.\u001b[39mexecute(command, params)\n",
      "File \u001b[1;32m~\\anaconda3\\Lib\\site-packages\\selenium\\webdriver\\remote\\webdriver.py:347\u001b[0m, in \u001b[0;36mWebDriver.execute\u001b[1;34m(self, driver_command, params)\u001b[0m\n\u001b[0;32m    345\u001b[0m response \u001b[38;5;241m=\u001b[39m \u001b[38;5;28mself\u001b[39m\u001b[38;5;241m.\u001b[39mcommand_executor\u001b[38;5;241m.\u001b[39mexecute(driver_command, params)\n\u001b[0;32m    346\u001b[0m \u001b[38;5;28;01mif\u001b[39;00m response:\n\u001b[1;32m--> 347\u001b[0m     \u001b[38;5;28mself\u001b[39m\u001b[38;5;241m.\u001b[39merror_handler\u001b[38;5;241m.\u001b[39mcheck_response(response)\n\u001b[0;32m    348\u001b[0m     response[\u001b[38;5;124m\"\u001b[39m\u001b[38;5;124mvalue\u001b[39m\u001b[38;5;124m\"\u001b[39m] \u001b[38;5;241m=\u001b[39m \u001b[38;5;28mself\u001b[39m\u001b[38;5;241m.\u001b[39m_unwrap_value(response\u001b[38;5;241m.\u001b[39mget(\u001b[38;5;124m\"\u001b[39m\u001b[38;5;124mvalue\u001b[39m\u001b[38;5;124m\"\u001b[39m, \u001b[38;5;28;01mNone\u001b[39;00m))\n\u001b[0;32m    349\u001b[0m     \u001b[38;5;28;01mreturn\u001b[39;00m response\n",
      "File \u001b[1;32m~\\anaconda3\\Lib\\site-packages\\selenium\\webdriver\\remote\\errorhandler.py:229\u001b[0m, in \u001b[0;36mErrorHandler.check_response\u001b[1;34m(self, response)\u001b[0m\n\u001b[0;32m    227\u001b[0m         alert_text \u001b[38;5;241m=\u001b[39m value[\u001b[38;5;124m\"\u001b[39m\u001b[38;5;124malert\u001b[39m\u001b[38;5;124m\"\u001b[39m]\u001b[38;5;241m.\u001b[39mget(\u001b[38;5;124m\"\u001b[39m\u001b[38;5;124mtext\u001b[39m\u001b[38;5;124m\"\u001b[39m)\n\u001b[0;32m    228\u001b[0m     \u001b[38;5;28;01mraise\u001b[39;00m exception_class(message, screen, stacktrace, alert_text)  \u001b[38;5;66;03m# type: ignore[call-arg]  # mypy is not smart enough here\u001b[39;00m\n\u001b[1;32m--> 229\u001b[0m \u001b[38;5;28;01mraise\u001b[39;00m exception_class(message, screen, stacktrace)\n",
      "\u001b[1;31mElementClickInterceptedException\u001b[0m: Message: element click intercepted: Element <a jsname=\"BKxS1e\" class=\"gyPpGe\" role=\"link\" tabindex=\"0\" jsaction=\"i3viod\" data-ved=\"0ahUKEwjRgLzL19KCAxWVRaQEHaTmCR4Q67oDCAU\">...</a> is not clickable at point (65, 80). Other element would receive the click: <div class=\"dodTBe\" id=\"sfcnt\"></div>\n  (Session info: chrome=119.0.6045.160)\nStacktrace:\n\tGetHandleVerifier [0x00B772A3+45731]\n\t(No symbol) [0x00B02D51]\n\t(No symbol) [0x009F880D]\n\t(No symbol) [0x00A307AB]\n\t(No symbol) [0x00A2F2AF]\n\t(No symbol) [0x00A2D89B]\n\t(No symbol) [0x00A2CBA1]\n\t(No symbol) [0x00A24FC0]\n\t(No symbol) [0x00A47FDC]\n\t(No symbol) [0x00A24A4E]\n\t(No symbol) [0x00A48254]\n\t(No symbol) [0x00A5B7A2]\n\t(No symbol) [0x00A47DD6]\n\t(No symbol) [0x00A231F6]\n\t(No symbol) [0x00A2439D]\n\tGetHandleVerifier [0x00E80716+3229462]\n\tGetHandleVerifier [0x00EC84C8+3523784]\n\tGetHandleVerifier [0x00EC214C+3498316]\n\tGetHandleVerifier [0x00C01680+611968]\n\t(No symbol) [0x00B0CCCC]\n\t(No symbol) [0x00B08DF8]\n\t(No symbol) [0x00B08F1D]\n\t(No symbol) [0x00AFB2C7]\n\tBaseThreadInitThunk [0x76C57BA9+25]\n\tRtlInitializeExceptionChain [0x779CBD3B+107]\n\tRtlClearBits [0x779CBCBF+191]\n"
     ]
    }
   ],
   "source": [
    "def google_search(word, wait_time=10):\n",
    "    # Initialise le navigateur\n",
    "    driver = webdriver.Chrome()\n",
    "\n",
    "    # Ouvrir Google\n",
    "    driver.get(\"https://www.google.com\")\n",
    "    wait = WebDriverWait(driver, wait_time)\n",
    "\n",
    "    # Attendre que le bouton soit présent\n",
    "    button = wait.until(EC.presence_of_element_located((By.XPATH, \"//div[@class='QS5gu sy4vM' and text()='Tout refuser']\")))\n",
    "\n",
    "    # Cliquez sur le bouton\n",
    "    button.click()\n",
    "    wait = WebDriverWait(driver, 20)\n",
    "\n",
    "    # Actualiser la page pour que le cookie prenne effet\n",
    "    driver.refresh()\n",
    "\n",
    "    search_box = driver.find_element(By.NAME, \"q\")\n",
    "    search_box.send_keys(\"imdb user review \" + word)\n",
    "    search_box.send_keys(Keys.RETURN)\n",
    "\n",
    "    # Attente que les résultats de recherche soient chargés\n",
    "    wait = WebDriverWait(driver, wait_time)\n",
    "    wait.until(EC.presence_of_element_located((By.ID, \"search\")))\n",
    "\n",
    "    # Trouver le premier lien dans les résultats de recherche et cliquer dessus\n",
    "    wait = WebDriverWait(driver, wait_time)\n",
    "    first_link = driver.find_element(By.CSS_SELECTOR, \"a\")\n",
    "    wait = WebDriverWait(driver, wait_time)\n",
    "    first_link.click()\n",
    "\n",
    "    # Attendre quelques secondes pour voir le résultat (à adapter selon votre besoin)\n",
    "    driver.implicitly_wait(5)\n",
    "\n",
    "    # Fermer le navigateur\n",
    "    driver.quit()\n",
    "\n",
    "# Exemple d'utilisation\n",
    "google_search(\"Harry Potter\")\n"
   ]
  },
  {
   "cell_type": "code",
   "execution_count": 69,
   "id": "32b35fce",
   "metadata": {},
   "outputs": [
    {
     "ename": "ElementNotInteractableException",
     "evalue": "Message: element not interactable\n  (Session info: chrome=119.0.6045.160)\nStacktrace:\n\tGetHandleVerifier [0x00B772A3+45731]\n\t(No symbol) [0x00B02D51]\n\t(No symbol) [0x009F86D0]\n\t(No symbol) [0x00A2CAC4]\n\t(No symbol) [0x00A24FC0]\n\t(No symbol) [0x00A47FDC]\n\t(No symbol) [0x00A24A4E]\n\t(No symbol) [0x00A48254]\n\t(No symbol) [0x00A5B7A2]\n\t(No symbol) [0x00A47DD6]\n\t(No symbol) [0x00A231F6]\n\t(No symbol) [0x00A2439D]\n\tGetHandleVerifier [0x00E80716+3229462]\n\tGetHandleVerifier [0x00EC84C8+3523784]\n\tGetHandleVerifier [0x00EC214C+3498316]\n\tGetHandleVerifier [0x00C01680+611968]\n\t(No symbol) [0x00B0CCCC]\n\t(No symbol) [0x00B08DF8]\n\t(No symbol) [0x00B08F1D]\n\t(No symbol) [0x00AFB2C7]\n\tBaseThreadInitThunk [0x76C57BA9+25]\n\tRtlInitializeExceptionChain [0x779CBD3B+107]\n\tRtlClearBits [0x779CBCBF+191]\n",
     "output_type": "error",
     "traceback": [
      "\u001b[1;31m---------------------------------------------------------------------------\u001b[0m",
      "\u001b[1;31mElementNotInteractableException\u001b[0m           Traceback (most recent call last)",
      "Cell \u001b[1;32mIn[69], line 1\u001b[0m\n\u001b[1;32m----> 1\u001b[0m google_search(\u001b[38;5;124m\"\u001b[39m\u001b[38;5;124mHarry Potter\u001b[39m\u001b[38;5;124m\"\u001b[39m)\n",
      "Cell \u001b[1;32mIn[68], line 32\u001b[0m, in \u001b[0;36mgoogle_search\u001b[1;34m(word, wait_time)\u001b[0m\n\u001b[0;32m     30\u001b[0m \u001b[38;5;66;03m# Trouver le premier lien dans les résultats de recherche et cliquer dessus\u001b[39;00m\n\u001b[0;32m     31\u001b[0m first_link \u001b[38;5;241m=\u001b[39m driver\u001b[38;5;241m.\u001b[39mfind_element(By\u001b[38;5;241m.\u001b[39mCSS_SELECTOR, \u001b[38;5;124m\"\u001b[39m\u001b[38;5;124mh3 > span\u001b[39m\u001b[38;5;124m\"\u001b[39m)\n\u001b[1;32m---> 32\u001b[0m first_link\u001b[38;5;241m.\u001b[39mclick()\n\u001b[0;32m     34\u001b[0m \u001b[38;5;66;03m# Attendre quelques secondes pour voir le résultat (à adapter selon votre besoin)\u001b[39;00m\n\u001b[0;32m     35\u001b[0m driver\u001b[38;5;241m.\u001b[39mimplicitly_wait(\u001b[38;5;241m5\u001b[39m)\n",
      "File \u001b[1;32m~\\anaconda3\\Lib\\site-packages\\selenium\\webdriver\\remote\\webelement.py:93\u001b[0m, in \u001b[0;36mWebElement.click\u001b[1;34m(self)\u001b[0m\n\u001b[0;32m     91\u001b[0m \u001b[38;5;28;01mdef\u001b[39;00m \u001b[38;5;21mclick\u001b[39m(\u001b[38;5;28mself\u001b[39m) \u001b[38;5;241m-\u001b[39m\u001b[38;5;241m>\u001b[39m \u001b[38;5;28;01mNone\u001b[39;00m:\n\u001b[0;32m     92\u001b[0m \u001b[38;5;250m    \u001b[39m\u001b[38;5;124;03m\"\"\"Clicks the element.\"\"\"\u001b[39;00m\n\u001b[1;32m---> 93\u001b[0m     \u001b[38;5;28mself\u001b[39m\u001b[38;5;241m.\u001b[39m_execute(Command\u001b[38;5;241m.\u001b[39mCLICK_ELEMENT)\n",
      "File \u001b[1;32m~\\anaconda3\\Lib\\site-packages\\selenium\\webdriver\\remote\\webelement.py:394\u001b[0m, in \u001b[0;36mWebElement._execute\u001b[1;34m(self, command, params)\u001b[0m\n\u001b[0;32m    392\u001b[0m     params \u001b[38;5;241m=\u001b[39m {}\n\u001b[0;32m    393\u001b[0m params[\u001b[38;5;124m\"\u001b[39m\u001b[38;5;124mid\u001b[39m\u001b[38;5;124m\"\u001b[39m] \u001b[38;5;241m=\u001b[39m \u001b[38;5;28mself\u001b[39m\u001b[38;5;241m.\u001b[39m_id\n\u001b[1;32m--> 394\u001b[0m \u001b[38;5;28;01mreturn\u001b[39;00m \u001b[38;5;28mself\u001b[39m\u001b[38;5;241m.\u001b[39m_parent\u001b[38;5;241m.\u001b[39mexecute(command, params)\n",
      "File \u001b[1;32m~\\anaconda3\\Lib\\site-packages\\selenium\\webdriver\\remote\\webdriver.py:347\u001b[0m, in \u001b[0;36mWebDriver.execute\u001b[1;34m(self, driver_command, params)\u001b[0m\n\u001b[0;32m    345\u001b[0m response \u001b[38;5;241m=\u001b[39m \u001b[38;5;28mself\u001b[39m\u001b[38;5;241m.\u001b[39mcommand_executor\u001b[38;5;241m.\u001b[39mexecute(driver_command, params)\n\u001b[0;32m    346\u001b[0m \u001b[38;5;28;01mif\u001b[39;00m response:\n\u001b[1;32m--> 347\u001b[0m     \u001b[38;5;28mself\u001b[39m\u001b[38;5;241m.\u001b[39merror_handler\u001b[38;5;241m.\u001b[39mcheck_response(response)\n\u001b[0;32m    348\u001b[0m     response[\u001b[38;5;124m\"\u001b[39m\u001b[38;5;124mvalue\u001b[39m\u001b[38;5;124m\"\u001b[39m] \u001b[38;5;241m=\u001b[39m \u001b[38;5;28mself\u001b[39m\u001b[38;5;241m.\u001b[39m_unwrap_value(response\u001b[38;5;241m.\u001b[39mget(\u001b[38;5;124m\"\u001b[39m\u001b[38;5;124mvalue\u001b[39m\u001b[38;5;124m\"\u001b[39m, \u001b[38;5;28;01mNone\u001b[39;00m))\n\u001b[0;32m    349\u001b[0m     \u001b[38;5;28;01mreturn\u001b[39;00m response\n",
      "File \u001b[1;32m~\\anaconda3\\Lib\\site-packages\\selenium\\webdriver\\remote\\errorhandler.py:229\u001b[0m, in \u001b[0;36mErrorHandler.check_response\u001b[1;34m(self, response)\u001b[0m\n\u001b[0;32m    227\u001b[0m         alert_text \u001b[38;5;241m=\u001b[39m value[\u001b[38;5;124m\"\u001b[39m\u001b[38;5;124malert\u001b[39m\u001b[38;5;124m\"\u001b[39m]\u001b[38;5;241m.\u001b[39mget(\u001b[38;5;124m\"\u001b[39m\u001b[38;5;124mtext\u001b[39m\u001b[38;5;124m\"\u001b[39m)\n\u001b[0;32m    228\u001b[0m     \u001b[38;5;28;01mraise\u001b[39;00m exception_class(message, screen, stacktrace, alert_text)  \u001b[38;5;66;03m# type: ignore[call-arg]  # mypy is not smart enough here\u001b[39;00m\n\u001b[1;32m--> 229\u001b[0m \u001b[38;5;28;01mraise\u001b[39;00m exception_class(message, screen, stacktrace)\n",
      "\u001b[1;31mElementNotInteractableException\u001b[0m: Message: element not interactable\n  (Session info: chrome=119.0.6045.160)\nStacktrace:\n\tGetHandleVerifier [0x00B772A3+45731]\n\t(No symbol) [0x00B02D51]\n\t(No symbol) [0x009F86D0]\n\t(No symbol) [0x00A2CAC4]\n\t(No symbol) [0x00A24FC0]\n\t(No symbol) [0x00A47FDC]\n\t(No symbol) [0x00A24A4E]\n\t(No symbol) [0x00A48254]\n\t(No symbol) [0x00A5B7A2]\n\t(No symbol) [0x00A47DD6]\n\t(No symbol) [0x00A231F6]\n\t(No symbol) [0x00A2439D]\n\tGetHandleVerifier [0x00E80716+3229462]\n\tGetHandleVerifier [0x00EC84C8+3523784]\n\tGetHandleVerifier [0x00EC214C+3498316]\n\tGetHandleVerifier [0x00C01680+611968]\n\t(No symbol) [0x00B0CCCC]\n\t(No symbol) [0x00B08DF8]\n\t(No symbol) [0x00B08F1D]\n\t(No symbol) [0x00AFB2C7]\n\tBaseThreadInitThunk [0x76C57BA9+25]\n\tRtlInitializeExceptionChain [0x779CBD3B+107]\n\tRtlClearBits [0x779CBCBF+191]\n"
     ]
    }
   ],
   "source": [
    "google_search(\"Harry Potter\")"
   ]
  },
  {
   "cell_type": "code",
   "execution_count": 93,
   "id": "ec6ca08b",
   "metadata": {},
   "outputs": [],
   "source": [
    "def scrap_review_all(movies, wait_time=10, num_iterations=3):\n",
    "    # Initialise le navigateur\n",
    "    driver = webdriver.Chrome()\n",
    "    dico_all_comments = {}\n",
    "    \n",
    "    for movie in movies:\n",
    "        # Ouvrir Google\n",
    "        driver.get(\"https://www.google.com\")\n",
    "        wait = WebDriverWait(driver, wait_time)\n",
    "        \n",
    "        # Attendre que le bouton soit présent\n",
    "        button = wait.until(EC.presence_of_element_located((By.XPATH, \"//div[@class='QS5gu sy4vM' and text()='Tout refuser']\")))\n",
    "        \n",
    "        # Cliquez sur le bouton\n",
    "        button.click()\n",
    "        \n",
    "        search_box = driver.find_element(By.NAME, \"q\")\n",
    "        search_box.send_keys(\"imdb  \" + movie + \" reviews\")\n",
    "        search_box.send_keys(Keys.RETURN)\n",
    "        \n",
    "        # Attente que les résultats de recherche soient chargés\n",
    "        wait.until(EC.presence_of_element_located((By.ID, \"search\")))\n",
    "        \n",
    "        time.sleep(2)\n",
    "        \n",
    "        # Trouver le premier lien dans les résultats de recherche et cliquer dessus\n",
    "        first_link = driver.find_element(By.CSS_SELECTOR, \"h3\")\n",
    "        first_link.click()\n",
    "        \n",
    "        time.sleep(2)\n",
    "        \n",
    "        wait = WebDriverWait(driver, wait_time)\n",
    "        \n",
    "        user_comments_button = WebDriverWait(driver, 10).until(EC.presence_of_element_located((By.CSS_SELECTOR, \"span.three-Elements > span.label\")))\n",
    "\n",
    "         # Cliquez sur le bouton\n",
    "        user_comments_button.click()\n",
    "        \n",
    "        wait = WebDriverWait(driver, wait_time)\n",
    "    \n",
    "        # Cherche le bouton \"Hide Spoilers\"\n",
    "        spoiler_button = wait.until(EC.element_to_be_clickable((By.XPATH, \"//span[@class='faceter-facets-text' and text()='Hide Spoilers']\")))\n",
    "        \n",
    "        # Cliquez sur le bouton \"Hide Spoilers\"\n",
    "        spoiler_button.click()\n",
    "    \n",
    "        # Clique sur le bouton \"Load More\" plusieurs fois\n",
    "        for i in range(num_iterations):\n",
    "            load_more_button = wait.until(EC.element_to_be_clickable((By.ID, \"load-more-trigger\")))\n",
    "            load_more_button.click()\n",
    "            driver.implicitly_wait(3)\n",
    "            time.sleep(2)\n",
    "\n",
    "        time.sleep(2)\n",
    "\n",
    "        # Trouve les commentaires par classe CSS\n",
    "        reviews = driver.find_elements(By.CSS_SELECTOR, \".text.show-more__control\")\n",
    "\n",
    "        \n",
    "        reviews_txt = [review.text for review in reviews]\n",
    "        dico_all_comments[movie] = reviews_txt\n",
    "        \n",
    "        time.sleep(2)\n",
    "    \n",
    "    return dico_all_comments"
   ]
  },
  {
   "cell_type": "code",
   "execution_count": 95,
   "id": "ebef8924",
   "metadata": {},
   "outputs": [
    {
     "ename": "TimeoutException",
     "evalue": "Message: \nStacktrace:\n\tGetHandleVerifier [0x00B772A3+45731]\n\t(No symbol) [0x00B02D51]\n\t(No symbol) [0x009F880D]\n\t(No symbol) [0x00A2B940]\n\t(No symbol) [0x00A2BE0B]\n\t(No symbol) [0x00A5D1F2]\n\t(No symbol) [0x00A48024]\n\t(No symbol) [0x00A5B7A2]\n\t(No symbol) [0x00A47DD6]\n\t(No symbol) [0x00A231F6]\n\t(No symbol) [0x00A2439D]\n\tGetHandleVerifier [0x00E80716+3229462]\n\tGetHandleVerifier [0x00EC84C8+3523784]\n\tGetHandleVerifier [0x00EC214C+3498316]\n\tGetHandleVerifier [0x00C01680+611968]\n\t(No symbol) [0x00B0CCCC]\n\t(No symbol) [0x00B08DF8]\n\t(No symbol) [0x00B08F1D]\n\t(No symbol) [0x00AFB2C7]\n\tBaseThreadInitThunk [0x76C57BA9+25]\n\tRtlInitializeExceptionChain [0x779CBD3B+107]\n\tRtlClearBits [0x779CBCBF+191]\n",
     "output_type": "error",
     "traceback": [
      "\u001b[1;31m---------------------------------------------------------------------------\u001b[0m",
      "\u001b[1;31mTimeoutException\u001b[0m                          Traceback (most recent call last)",
      "Cell \u001b[1;32mIn[95], line 1\u001b[0m\n\u001b[1;32m----> 1\u001b[0m comments_all \u001b[38;5;241m=\u001b[39m scrap_review_all(\u001b[38;5;28mlist\u001b[39m(data_bo\u001b[38;5;241m.\u001b[39miloc[:\u001b[38;5;241m5\u001b[39m,\u001b[38;5;241m0\u001b[39m]), wait_time\u001b[38;5;241m=\u001b[39m\u001b[38;5;241m20\u001b[39m)\n",
      "Cell \u001b[1;32mIn[93], line 12\u001b[0m, in \u001b[0;36mscrap_review_all\u001b[1;34m(movies, wait_time, num_iterations)\u001b[0m\n\u001b[0;32m      9\u001b[0m wait \u001b[38;5;241m=\u001b[39m WebDriverWait(driver, wait_time)\n\u001b[0;32m     11\u001b[0m \u001b[38;5;66;03m# Attendre que le bouton soit présent\u001b[39;00m\n\u001b[1;32m---> 12\u001b[0m button \u001b[38;5;241m=\u001b[39m wait\u001b[38;5;241m.\u001b[39muntil(EC\u001b[38;5;241m.\u001b[39mpresence_of_element_located((By\u001b[38;5;241m.\u001b[39mXPATH, \u001b[38;5;124m\"\u001b[39m\u001b[38;5;124m//div[@class=\u001b[39m\u001b[38;5;124m'\u001b[39m\u001b[38;5;124mQS5gu sy4vM\u001b[39m\u001b[38;5;124m'\u001b[39m\u001b[38;5;124m and text()=\u001b[39m\u001b[38;5;124m'\u001b[39m\u001b[38;5;124mTout refuser\u001b[39m\u001b[38;5;124m'\u001b[39m\u001b[38;5;124m]\u001b[39m\u001b[38;5;124m\"\u001b[39m)))\n\u001b[0;32m     14\u001b[0m \u001b[38;5;66;03m# Cliquez sur le bouton\u001b[39;00m\n\u001b[0;32m     15\u001b[0m button\u001b[38;5;241m.\u001b[39mclick()\n",
      "File \u001b[1;32m~\\anaconda3\\Lib\\site-packages\\selenium\\webdriver\\support\\wait.py:101\u001b[0m, in \u001b[0;36mWebDriverWait.until\u001b[1;34m(self, method, message)\u001b[0m\n\u001b[0;32m     99\u001b[0m     \u001b[38;5;28;01mif\u001b[39;00m time\u001b[38;5;241m.\u001b[39mmonotonic() \u001b[38;5;241m>\u001b[39m end_time:\n\u001b[0;32m    100\u001b[0m         \u001b[38;5;28;01mbreak\u001b[39;00m\n\u001b[1;32m--> 101\u001b[0m \u001b[38;5;28;01mraise\u001b[39;00m TimeoutException(message, screen, stacktrace)\n",
      "\u001b[1;31mTimeoutException\u001b[0m: Message: \nStacktrace:\n\tGetHandleVerifier [0x00B772A3+45731]\n\t(No symbol) [0x00B02D51]\n\t(No symbol) [0x009F880D]\n\t(No symbol) [0x00A2B940]\n\t(No symbol) [0x00A2BE0B]\n\t(No symbol) [0x00A5D1F2]\n\t(No symbol) [0x00A48024]\n\t(No symbol) [0x00A5B7A2]\n\t(No symbol) [0x00A47DD6]\n\t(No symbol) [0x00A231F6]\n\t(No symbol) [0x00A2439D]\n\tGetHandleVerifier [0x00E80716+3229462]\n\tGetHandleVerifier [0x00EC84C8+3523784]\n\tGetHandleVerifier [0x00EC214C+3498316]\n\tGetHandleVerifier [0x00C01680+611968]\n\t(No symbol) [0x00B0CCCC]\n\t(No symbol) [0x00B08DF8]\n\t(No symbol) [0x00B08F1D]\n\t(No symbol) [0x00AFB2C7]\n\tBaseThreadInitThunk [0x76C57BA9+25]\n\tRtlInitializeExceptionChain [0x779CBD3B+107]\n\tRtlClearBits [0x779CBCBF+191]\n"
     ]
    }
   ],
   "source": [
    "comments_all = scrap_review_all(list(data_bo.iloc[:5,0]), wait_time=20)"
   ]
  },
  {
   "cell_type": "code",
   "execution_count": 52,
   "id": "e6029282",
   "metadata": {},
   "outputs": [
    {
     "data": {
      "text/plain": [
       "['A',\n",
       " 'v',\n",
       " 'e',\n",
       " 'n',\n",
       " 'g',\n",
       " 'e',\n",
       " 'r',\n",
       " 's',\n",
       " ':',\n",
       " ' ',\n",
       " 'I',\n",
       " 'n',\n",
       " 'f',\n",
       " 'i',\n",
       " 'n',\n",
       " 'i',\n",
       " 't',\n",
       " 'y',\n",
       " ' ',\n",
       " 'W',\n",
       " 'a',\n",
       " 'r']"
      ]
     },
     "execution_count": 52,
     "metadata": {},
     "output_type": "execute_result"
    }
   ],
   "source": [
    "list(data_bo.iloc[5,0])"
   ]
  }
 ],
 "metadata": {
  "kernelspec": {
   "display_name": "Python 3 (ipykernel)",
   "language": "python",
   "name": "python3"
  },
  "language_info": {
   "codemirror_mode": {
    "name": "ipython",
    "version": 3
   },
   "file_extension": ".py",
   "mimetype": "text/x-python",
   "name": "python",
   "nbconvert_exporter": "python",
   "pygments_lexer": "ipython3",
   "version": "3.11.5"
  }
 },
 "nbformat": 4,
 "nbformat_minor": 5
}

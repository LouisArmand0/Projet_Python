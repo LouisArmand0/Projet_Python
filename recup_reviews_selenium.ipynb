{
 "cells": [
  {
   "cell_type": "markdown",
   "id": "6b0c0972",
   "metadata": {},
   "source": [
    "## Notebook pour la récupération des commentaires des utilisateurs sur IMBD via Selenium"
   ]
  },
  {
   "cell_type": "code",
   "execution_count": 9,
   "id": "8c747c60-694e-48f6-83ab-1babf5bc4abf",
   "metadata": {},
   "outputs": [],
   "source": [
    "#pip install selenium"
   ]
  },
  {
   "cell_type": "code",
   "execution_count": 10,
   "id": "a8d5e1ee-5208-4384-86ac-9358faf41cda",
   "metadata": {},
   "outputs": [],
   "source": [
    "import time\n",
    "import numpy as np\n",
    "from selenium import webdriver\n",
    "from selenium.webdriver.common.keys import Keys\n",
    "from selenium.webdriver.common.by import By\n",
    "from selenium.webdriver.support.ui import WebDriverWait\n",
    "from selenium.webdriver.support import expected_conditions as EC"
   ]
  },
  {
   "cell_type": "markdown",
   "id": "676ba184",
   "metadata": {},
   "source": [
    "!!! attention !!! Il faut télécharger un \"chromedriver\" de la même version que votre version chrome, et le mettre à coté de ce fichier jupyter dans les fichiers."
   ]
  },
  {
   "cell_type": "code",
   "execution_count": 11,
   "id": "451f0c6c-daaa-43ce-a5f0-dfb4deb96e7e",
   "metadata": {},
   "outputs": [],
   "source": [
    "def scrape_imdb_reviews(url, num_iterations=3, wait_time=20):\n",
    "    # Initialise le navigateur\n",
    "    driver = webdriver.Chrome()\n",
    "    driver.get(url)\n",
    "\n",
    "    wait = WebDriverWait(driver, wait_time)\n",
    "    \n",
    "    #cherche le bouton \"Hide Spoilers\"\n",
    "    spoiler_button = wait.until(EC.element_to_be_clickable((By.CLASS_NAME, \"faceter-facets-text\")))\n",
    "    # Cliquez sur le bouton\n",
    "    spoiler_button.click()\n",
    "    \n",
    "    # Clique sur le bouton \"Load More\" plusieurs fois\n",
    "    for i in range(num_iterations):\n",
    "        load_more_button = wait.until(EC.element_to_be_clickable((By.ID, \"load-more-trigger\")))\n",
    "        load_more_button.click()\n",
    "        driver.implicitly_wait(3)\n",
    "\n",
    "    time.sleep(3)\n",
    "\n",
    "    # Trouve les commentaires par classe CSS\n",
    "    reviews = driver.find_elements(By.CSS_SELECTOR, \".text.show-more__control\")\n",
    "\n",
    "    # Imprime les commentaires pour débugger (les trois premiers commentaires)\n",
    "    \n",
    "    reviews_txt = []\n",
    "    for review in reviews:\n",
    "        reviews_txt.append(review.text)\n",
    "        \n",
    "    #check\n",
    "    print(reviews_txt[:2])  \n",
    "\n",
    "    # Imprime le nombre total de commentaires récupérés\n",
    "    print(f\"Nombre total de commentaires : {len(reviews)}\")\n",
    "\n",
    "    time.sleep(5)\n",
    "\n",
    "    # Ferme le navigateur\n",
    "    driver.quit()\n",
    "    \n",
    "    return reviews_txt"
   ]
  },
  {
   "cell_type": "markdown",
   "id": "2da281ae",
   "metadata": {},
   "source": [
    "Les commentaires cachés avec \"warning spoil\" sont maintenant vides dans notre liste, contrairement à avant avec la méthode beautiful soupe.\n",
    "\n",
    "Le lien \"hidespoil\"ci-dessous est ce lien:https://www.imdb.com/title/tt0499549/reviews?spoiler=hide&sort=curated&dir=desc&ratingFilter=0\n",
    "où l'on a coché la case \"hide spoiler\" ce qui retire automatiquement de la liste les commentaires avec la banière warning spoil. Ce qui nous permet de ne pas avoir d'élément vide dans notre liste. \n",
    "J'ai donc modifié la fonction pour que le robot clique automatiquement sur le bouton \"hide spoilers\" ce qui permet d'aller vers le 2ème lien à partir du 1er lien automatiquement."
   ]
  },
  {
   "cell_type": "code",
   "execution_count": 12,
   "id": "f35caefe",
   "metadata": {
    "scrolled": true
   },
   "outputs": [
    {
     "name": "stdout",
     "output_type": "stream",
     "text": [
      "[\"I was waiting for this day for the longest time. I was a kid back in 2009 when this movie released. So never got to watch it back then. But now when it rereleased I booked the first day show to a IMAX show and oh boy was I blown away! This is nothing short of a masterpiece! It's beyond belief how a film like this could've been made. Every scene, every shot is perfection. You are transferred to a different world and become so engrossed in the film. Never have I attended a movie where at the end of it people got up from their seats and started clapping! Last time this happened was after Infinity War. That movie too was a damn brilliant one. I'm from India and this is legit rare, where people go crazy, so crazy after any English film. This was one experience that I will never forget. I'm definitely going for it again next weekend cuz just once was not enough.\\n\\nEvery human on the planet needs to experience this magnificent work of art!\", \"Forgive me, I'm going to jump from professional to fan boy for a while here. I haven't had the jitters after a film the way I've had for Avatar in quite sometime. James Cameron's Avatar is the most entertaining and enthralling cinematic experiences of my life. It is incredible, simply put. What Cameron has done here is the most passionate film project put out since Steven Spielberg released Schindler's List. His attention to detail and his zeal for pushing the envelope is so admirable to any filmmaker or actor who will ever do another film from this point on.\\n\\nAvatar is the story of Jake Sully, a paraplegic marine, who replaces his brother on a secret mission to infiltrate the Na' vi, the colony of beings that sit on the planet of Pandora, where there is a precious ore, that sells at a ridiculous amount. When Jake learns the ways of the Na' vi, his feelings and learnings will put him and the people he trusts in dangerous jeopardy.\\n\\nThe performances here, in the sense of reacting, becoming, and understanding what Cameron has written are astounding. Not to be confused with a sensational bravura performance from some of the centuries best such as Marion Brando, Tom Hanks, or Diane Keaton; these actors along with the director inhabit these visual transformations with special effects as if they are have lived these beings all their lives. This is all based on character movements and reactions. Sam Worthington, as Jake Sully, is an actor who's on his way to becoming a star. Though he has problems with his Aussie accent often enough in the film, he gets the job done. Zoe Saldana, who plays Neytiri, a Na' vi huntress, is thrilling and electrifying. Stephen Lang, as the rock hard Colonel Miles, takes on a villainous turn to a new level in science fiction. He offers actual emotion and emotes evil to the audience and gains our hatred easily. Sigourney Weaver as the beautiful Dr. Grace, is sufficient enough to have on screen again teamed with Cameron. She lives inside her role with effortless ease, but suffers from some of the typical James Cameron cheesy lines.\\n\\nNarratively the film works perfectly on the cinematic level. The first forty minutes or so require patience and hope as it is the weakest part of the film and offers some dreariness, but when the second act takes off, it's sky high with no limits for James Cameron. Avatar delivers the best action sequences put on film of all time. That is the boldest statement I have ever made in all my years of criticism. I sat on this for two days before charging it out, but I mean it. It is the best visual experience of my life, period.\\n\\nOther than those visuals, the film pops with all the other technical aspects thrown into one. Art Direction is killer as the two worlds blend in perfectly for an acceptable time. The Film Editing is the crowning achievement of the film as it also offers the perfect blend of the two worlds, enticing the viewer and shifting us around. Mauro Fiore is the threat for a Cinematography Oscar this year. It was if the viewer sat down in a chair, put on glasses, and was literally placed on Pandora, spaceships, and floating mountains. The viewer can feel so engulfed by the imagery, you feel like you can smell the leaves from the trees. Avatar is utterly hypnotizing. James Horner's score is some of the best work done in his career. It offers a variable of devastation that moves the viewer to near tears. It goes back to his work on Titanic, where the musical instruments lifted the material immensely. The entire sound team is also locked and loaded for Oscar recognition as the feeling of animals, machines, and arrows buzzing by your head leave you imprisoned in Cameron's exquisite film.\\n\\nJames Cameron has come back home ladies and gentlemen Cameron is back, bigger, badder, and mature in his crowning work of his career. Terminator 2: Judgment Day and Titanic do not even compare anymore. This is the film that can blend the fans of those two films together and lock Cameron into your heart. He's a definite spoiler for a directing bid for the Academy Awards. You have admire the raw, natural talent the man has. How could you ever conceive such an experience and put that much effort and work into it and have it pay off? The box office success will surely keep him in the minds of voters for various critics' awards. His screenplay, leaps and bounds better than 1997's Best Picture Winner, is primed, developed and ripe for the taking. Though, you do acquire the tacky and atypical dialogue you expect from a science fiction director of this caliber, you can appreciate the effort and the honesty of it all. James Cameron is everything Michael Bay wishes he was, to put it bluntly.\\n\\nAvatar will bring also great actors putting their best foot forward such as Giovanni Ribisi, who is as underrated as they come. Michelle Rodriguez who exudes sexy like any woman starring in a sci-fi epic. Joel Moore, showing his range outside of his comedic work in Dodgeball: An Underdog Story. And the classy veteran actors, CCH Pounder and Wes Studi, who just simply don't work enough.\\n\\nAvatar is one of the best films of the year. The most exciting, thrilling, and superb work you'll feast your eyes on in any theater this century. Cinema, forever, will remember the benchmark that James Cameron placed not only for himself, but for any man, daring to change the game, the way Cameron did. Avatar is a movie experience to be remembered, and please experience in a movie theater first.\\n\\n***½/****\"]\n",
      "Nombre total de commentaires : 100\n"
     ]
    }
   ],
   "source": [
    "url_avatar = \"https://www.imdb.com/title/tt0499549/reviews/?ref_=tt_ov_rt\"\n",
    "url_avatar_hidespoil = \"https://www.imdb.com/title/tt0499549/reviews?spoiler=hide&sort=curated&dir=desc&ratingFilter=0\"\n",
    "# Utilisation de la fonction\n",
    "reviews_avatar = scrape_imdb_reviews(url_avatar, num_iterations=3, wait_time=20)"
   ]
  },
  {
   "cell_type": "markdown",
   "id": "18ccc83b",
   "metadata": {},
   "source": [
    "Les commentaires cachés avec \"warning spoil\" sont maintenant vides dans notre liste, contrairement à avant avec la méthode beautiful soupe."
   ]
  },
  {
   "cell_type": "code",
   "execution_count": 13,
   "id": "17bc7ac4",
   "metadata": {},
   "outputs": [
    {
     "data": {
      "text/plain": [
       "0.0"
      ]
     },
     "execution_count": 13,
     "metadata": {},
     "output_type": "execute_result"
    }
   ],
   "source": [
    "#vérification que nous avons pas de commentaire \"vide\"\n",
    "X = np.array([len(review) for review in reviews_avatar])\n",
    "X = [X==0]\n",
    "np.mean(X)"
   ]
  },
  {
   "cell_type": "code",
   "execution_count": 46,
   "id": "74ecea69",
   "metadata": {},
   "outputs": [
    {
     "name": "stdout",
     "output_type": "stream",
     "text": [
      "['\"Cars didn\\'t ride on it to make great time; they rode on it to have a great time.\"\\n\\nIt\\'s not hard to make a successful movie. It\\'s simple, really. Exceed my expectations. Make me feel. Force me to care. Deliver a somewhat clichéd message, but deliver it in such a way that the meaning resounds. Teach me the same lessons that your characters learn. And above all, entertain.\\n\\nPretty easy, right? Well, at least Pixar makes it look that way because with Cars they have once again succeeded.\\n\\nI\\'ll be honest; I had my doubts about the movie. How would they be able to take a story featuring nothing but vehicles, with nary a human in sight, and keep my interest for a full two hours? Animals are one thing, but could Pixar successfully master the personification of modes of transportation?\\n\\nYes, they could, and they did.\\n\\nThanks to Director Lasseter\\'s strong attention to detail, going so far as to insist that the vehicles bend and gesture in ways that were true to their construction, every car and truck truly becomes a unique character and personality. And along with those characters and personalities comes a story which yes, contains a well-traveled theme, but it comes with so much charm that even Grouchy McKilljoy\\'s hard little heart can\\'t help but be warmed.\\n\\nDon\\'t worry if you\\'re not a racing fan; I assure you it\\'s not a requirement to enjoy the movie. I love watching muscle cars race the quarter mile (ask me about my \\'69 Camaro), but NASCAR doesn\\'t do it for me. That\\'s another aspect about the film that gave me pause. I once fell asleep at a NASCAR qualifying race, despite the 90-degree heat and ear-splitting decibel levels, so would Cars keep me awake and interested? Within five minutes my worries began to slowly subside as I happily settled in for the ride.\\n\\nAnimation should be about bringing imagination to life. Give us something that can\\'t be done in live action. Cars does this so effectively that it almost seems a redundancy to comment on how Pixar continues to raise the CGI bar. The scenery on screen is awe-inducing to the point that it\\'s getting harder to distinguish the real from the created. The filmmakers have gone so far as to perfect reflections in the cars and to pay careful attention to weeds growing out of cracks in the sidewalk. I don\\'t see any way you could not be visually stunned.\\n\\nBut impressive visuals are little comfort if I\\'m not presented with a story that I care to follow. No problems there. If you\\'re the kind of person who loves to go \"awwwww\" at movies then prepare to be satisfied. What I appreciate the most is that, at the risk of causing some youngsters to become restless, time and attention has been given to character and story development. Lasseter and his team stood their ground and resisted any pressure to trim this to a runtime more suitable to those with limited attention spans, and I thank them for it.\\n\\nAs I said earlier, Cars hit the starting line with a disadvantage. I didn\\'t greet it with a warm smile. I crossed my arms, furrowed my brow, and dared it to prove my preconceived notions wrong.\\n\\nIt proceeded to exceed my expectations. It made me feel for its characters and forced me to care about McQueen\\'s journey, both to California and to a different viewpoint on life. Sure, the \"slow down and enjoy the scenery\" message may seem a little routine, but it\\'s a message I took to heart.\\n\\nImmediately following the movie I was on the Internet looking up information regarding Route 66. I\\'m now ready for a road trip void of interstates and efforts to beat my best time. I feel like slowing down a bit and exploring the unknown. Give me the scenic route, and give me more finely-tuned, detailed movies like Cars. That\\'s all I ask. Two hours of entertainment that make me care, even if briefly, about something other than myself and what goal has to be accomplished next.\\n\\nSee? It was simple, really. At least Pixar made it look that way.', \"This is EASILY the movie I've watched most in my life. Back when I was young, I would have this on repeat. My parents said I used to HAVE to watch this movie every day for a certain period of time or I would get mad. Well, until now, I hadn't seen it in like 6 years until now. It was just as I remember, and extremely nostalgic. I can't be bothered to wonder why this movie gets the hate that it does. In fact, it's one of the best Pixar films. Idk if the nostalgia is blinding me, but for me this was (so far) one of the better Pixar films. A great character arc for Lightning McQueen, an amazing redemption for Radiator Springs, just a magical movie. I will forever hold this movie close to me and never let go. Imo, this is one of THE movies.\\n\\nFun fact: I own all 36 original car action figures from the race at the beginning.\"]\n",
      "Nombre total de commentaires : 100\n"
     ]
    }
   ],
   "source": [
    "#Test pour un autre film\n",
    "url_cars = \"https://www.imdb.com/title/tt0317219/reviews/?ref_=tt_ov_rt\"\n",
    "reviews_cars = scrape_imdb_reviews(url_cars, num_iterations=3, wait_time=20)"
   ]
  }
 ],
 "metadata": {
  "kernelspec": {
   "display_name": "Python 3 (ipykernel)",
   "language": "python",
   "name": "python3"
  },
  "language_info": {
   "codemirror_mode": {
    "name": "ipython",
    "version": 3
   },
   "file_extension": ".py",
   "mimetype": "text/x-python",
   "name": "python",
   "nbconvert_exporter": "python",
   "pygments_lexer": "ipython3",
   "version": "3.11.5"
  }
 },
 "nbformat": 4,
 "nbformat_minor": 5
}

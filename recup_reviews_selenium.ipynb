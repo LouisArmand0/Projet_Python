{
 "cells": [
  {
   "cell_type": "code",
   "execution_count": 1,
   "id": "8c747c60-694e-48f6-83ab-1babf5bc4abf",
   "metadata": {},
   "outputs": [],
   "source": [
    "#pip install selenium"
   ]
  },
  {
   "cell_type": "code",
   "execution_count": 49,
   "id": "a8d5e1ee-5208-4384-86ac-9358faf41cda",
   "metadata": {},
   "outputs": [],
   "source": [
    "import time\n",
    "from selenium import webdriver\n",
    "from selenium.webdriver.common.keys import Keys\n",
    "from selenium.webdriver.common.by import By\n",
    "from selenium.webdriver.support.ui import WebDriverWait\n",
    "from selenium.webdriver.support import expected_conditions as EC"
   ]
  },
  {
   "cell_type": "code",
   "execution_count": 24,
   "id": "451f0c6c-daaa-43ce-a5f0-dfb4deb96e7e",
   "metadata": {},
   "outputs": [],
   "source": [
    "def scrape_imdb_reviews(url, num_iterations=3, wait_time=20):\n",
    "    # Initialise le navigateur\n",
    "    driver = webdriver.Chrome()\n",
    "    driver.get(url)\n",
    "\n",
    "    wait = WebDriverWait(driver, wait_time)\n",
    "    \n",
    "    # Clique sur le bouton \"Load More\" plusieurs fois\n",
    "    for i in range(num_iterations):\n",
    "        load_more_button = wait.until(EC.element_to_be_clickable((By.ID, \"load-more-trigger\")))\n",
    "        load_more_button.click()\n",
    "        driver.implicitly_wait(3)\n",
    "\n",
    "    time.sleep(3)\n",
    "\n",
    "    # Trouve les commentaires par classe CSS\n",
    "    reviews = driver.find_elements(By.CSS_SELECTOR, \".text.show-more__control\")\n",
    "\n",
    "    # Imprime les commentaires pour débugger (les trois premiers commentaires)\n",
    "    \n",
    "    reviews_txt = []\n",
    "    for review in reviews:\n",
    "        reviews_txt.append(review.text)\n",
    "        \n",
    "        \n",
    "    print(reviews_txt[:2])  \n",
    "\n",
    "    # Imprime le nombre total de commentaires récupérés\n",
    "    print(f\"Nombre total de commentaires : {len(comments)}\")\n",
    "\n",
    "    time.sleep(5)\n",
    "\n",
    "    # Ferme le navigateur\n",
    "    driver.quit()\n",
    "    \n",
    "    return reviews_txt"
   ]
  },
  {
   "cell_type": "code",
   "execution_count": 25,
   "id": "f35caefe",
   "metadata": {
    "scrolled": true
   },
   "outputs": [
    {
     "name": "stdout",
     "output_type": "stream",
     "text": [
      "['', \"I was waiting for this day for the longest time. I was a kid back in 2009 when this movie released. So never got to watch it back then. But now when it rereleased I booked the first day show to a IMAX show and oh boy was I blown away! This is nothing short of a masterpiece! It's beyond belief how a film like this could've been made. Every scene, every shot is perfection. You are transferred to a different world and become so engrossed in the film. Never have I attended a movie where at the end of it people got up from their seats and started clapping! Last time this happened was after Infinity War. That movie too was a damn brilliant one. I'm from India and this is legit rare, where people go crazy, so crazy after any English film. This was one experience that I will never forget. I'm definitely going for it again next weekend cuz just once was not enough.\\n\\nEvery human on the planet needs to experience this magnificent work of art!\"]\n",
      "Nombre total de commentaires : 100\n"
     ]
    }
   ],
   "source": [
    "url_avatar = \"https://www.imdb.com/title/tt0499549/reviews/?ref_=tt_ov_rt\"\n",
    "# Utilisation de la fonction\n",
    "reviews_avatar = scrape_imdb_reviews(url_avatar, num_iterations=3, wait_time=20)"
   ]
  },
  {
   "cell_type": "markdown",
   "id": "18ccc83b",
   "metadata": {},
   "source": [
    "Les commentaires cachés avec \"warning spoil\" sont maintenant vides dans notre liste, contrairement à avant avec la méthode beautiful soupe"
   ]
  },
  {
   "cell_type": "code",
   "execution_count": 42,
   "id": "17bc7ac4",
   "metadata": {},
   "outputs": [],
   "source": [
    "import numpy as np\n",
    "X = np.array([len(review) for review in reviews_avatar])\n",
    "X = [X==0]\n",
    "np.mean(X)"
   ]
  },
  {
   "cell_type": "code",
   "execution_count": 46,
   "id": "74ecea69",
   "metadata": {},
   "outputs": [
    {
     "name": "stdout",
     "output_type": "stream",
     "text": [
      "['\"Cars didn\\'t ride on it to make great time; they rode on it to have a great time.\"\\n\\nIt\\'s not hard to make a successful movie. It\\'s simple, really. Exceed my expectations. Make me feel. Force me to care. Deliver a somewhat clichéd message, but deliver it in such a way that the meaning resounds. Teach me the same lessons that your characters learn. And above all, entertain.\\n\\nPretty easy, right? Well, at least Pixar makes it look that way because with Cars they have once again succeeded.\\n\\nI\\'ll be honest; I had my doubts about the movie. How would they be able to take a story featuring nothing but vehicles, with nary a human in sight, and keep my interest for a full two hours? Animals are one thing, but could Pixar successfully master the personification of modes of transportation?\\n\\nYes, they could, and they did.\\n\\nThanks to Director Lasseter\\'s strong attention to detail, going so far as to insist that the vehicles bend and gesture in ways that were true to their construction, every car and truck truly becomes a unique character and personality. And along with those characters and personalities comes a story which yes, contains a well-traveled theme, but it comes with so much charm that even Grouchy McKilljoy\\'s hard little heart can\\'t help but be warmed.\\n\\nDon\\'t worry if you\\'re not a racing fan; I assure you it\\'s not a requirement to enjoy the movie. I love watching muscle cars race the quarter mile (ask me about my \\'69 Camaro), but NASCAR doesn\\'t do it for me. That\\'s another aspect about the film that gave me pause. I once fell asleep at a NASCAR qualifying race, despite the 90-degree heat and ear-splitting decibel levels, so would Cars keep me awake and interested? Within five minutes my worries began to slowly subside as I happily settled in for the ride.\\n\\nAnimation should be about bringing imagination to life. Give us something that can\\'t be done in live action. Cars does this so effectively that it almost seems a redundancy to comment on how Pixar continues to raise the CGI bar. The scenery on screen is awe-inducing to the point that it\\'s getting harder to distinguish the real from the created. The filmmakers have gone so far as to perfect reflections in the cars and to pay careful attention to weeds growing out of cracks in the sidewalk. I don\\'t see any way you could not be visually stunned.\\n\\nBut impressive visuals are little comfort if I\\'m not presented with a story that I care to follow. No problems there. If you\\'re the kind of person who loves to go \"awwwww\" at movies then prepare to be satisfied. What I appreciate the most is that, at the risk of causing some youngsters to become restless, time and attention has been given to character and story development. Lasseter and his team stood their ground and resisted any pressure to trim this to a runtime more suitable to those with limited attention spans, and I thank them for it.\\n\\nAs I said earlier, Cars hit the starting line with a disadvantage. I didn\\'t greet it with a warm smile. I crossed my arms, furrowed my brow, and dared it to prove my preconceived notions wrong.\\n\\nIt proceeded to exceed my expectations. It made me feel for its characters and forced me to care about McQueen\\'s journey, both to California and to a different viewpoint on life. Sure, the \"slow down and enjoy the scenery\" message may seem a little routine, but it\\'s a message I took to heart.\\n\\nImmediately following the movie I was on the Internet looking up information regarding Route 66. I\\'m now ready for a road trip void of interstates and efforts to beat my best time. I feel like slowing down a bit and exploring the unknown. Give me the scenic route, and give me more finely-tuned, detailed movies like Cars. That\\'s all I ask. Two hours of entertainment that make me care, even if briefly, about something other than myself and what goal has to be accomplished next.\\n\\nSee? It was simple, really. At least Pixar made it look that way.', \"This is EASILY the movie I've watched most in my life. Back when I was young, I would have this on repeat. My parents said I used to HAVE to watch this movie every day for a certain period of time or I would get mad. Well, until now, I hadn't seen it in like 6 years until now. It was just as I remember, and extremely nostalgic. I can't be bothered to wonder why this movie gets the hate that it does. In fact, it's one of the best Pixar films. Idk if the nostalgia is blinding me, but for me this was (so far) one of the better Pixar films. A great character arc for Lightning McQueen, an amazing redemption for Radiator Springs, just a magical movie. I will forever hold this movie close to me and never let go. Imo, this is one of THE movies.\\n\\nFun fact: I own all 36 original car action figures from the race at the beginning.\"]\n",
      "Nombre total de commentaires : 100\n"
     ]
    }
   ],
   "source": [
    "#Test pour un autre film\n",
    "url_cars = \"https://www.imdb.com/title/tt0317219/reviews/?ref_=tt_ov_rt\"\n",
    "reviews_cars = scrape_imdb_reviews(url_cars, num_iterations=3, wait_time=20)"
   ]
  }
 ],
 "metadata": {
  "kernelspec": {
   "display_name": "Python 3 (ipykernel)",
   "language": "python",
   "name": "python3"
  },
  "language_info": {
   "codemirror_mode": {
    "name": "ipython",
    "version": 3
   },
   "file_extension": ".py",
   "mimetype": "text/x-python",
   "name": "python",
   "nbconvert_exporter": "python",
   "pygments_lexer": "ipython3",
   "version": "3.11.5"
  }
 },
 "nbformat": 4,
 "nbformat_minor": 5
}

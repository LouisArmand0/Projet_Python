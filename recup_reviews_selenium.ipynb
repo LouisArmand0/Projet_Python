{
 "cells": [
  {
   "cell_type": "markdown",
   "id": "3899808c",
   "metadata": {},
   "source": [
    "## Notebook pour la récupération des commentaires des utilisateurs sur IMBD via Selenium"
   ]
  },
  {
   "cell_type": "code",
   "execution_count": 9,
   "id": "8c747c60-694e-48f6-83ab-1babf5bc4abf",
   "metadata": {},
   "outputs": [],
   "source": [
    "#pip install selenium"
   ]
  },
  {
   "cell_type": "code",
   "execution_count": 1,
   "id": "a8d5e1ee-5208-4384-86ac-9358faf41cda",
   "metadata": {},
   "outputs": [],
   "source": [
    "import time\n",
    "import requests\n",
    "import numpy as np\n",
    "import pandas as pd\n",
    "from selenium import webdriver\n",
    "from selenium.webdriver.common.keys import Keys\n",
    "from selenium.webdriver.common.by import By\n",
    "from selenium.webdriver.support.ui import WebDriverWait\n",
    "from selenium.webdriver.support import expected_conditions as EC"
   ]
  },
  {
   "cell_type": "code",
   "execution_count": 9,
   "id": "de7ed82c",
   "metadata": {},
   "outputs": [],
   "source": [
    "data_bo = pd.read_csv(\"data_bo.csv\")"
   ]
  },
  {
   "cell_type": "code",
   "execution_count": null,
   "id": "60ab66f2",
   "metadata": {},
   "outputs": [],
   "source": [
    "data_bo['Titre']"
   ]
  },
  {
   "cell_type": "code",
   "execution_count": 77,
   "id": "7b96510e",
   "metadata": {},
   "outputs": [],
   "source": [
    "data_bo.iloc[0,0] = 'Avatar (2009)'\n",
    "data_bo.iloc[8,0] = \"Le Roi lion (1994)\"\n",
    "data_bo.iloc[9,0] = \"Avengers (2012)\""
   ]
  },
  {
   "cell_type": "code",
   "execution_count": 72,
   "id": "1b1ba1c8",
   "metadata": {},
   "outputs": [
    {
     "data": {
      "text/plain": [
       "0                                         Avatar (2009)\n",
       "1                                     Avengers: Endgame\n",
       "2                             Avatar : La Voie de l'eau\n",
       "3                                               Titanic\n",
       "4        Star Wars, épisode VII : Le Réveil de la Force\n",
       "5                                Avengers: Infinity War\n",
       "6                               Spider-Man: No Way Home\n",
       "7                                        Jurassic World\n",
       "8                                           Le Roi lion\n",
       "9                                              Avengers\n",
       "10                                   Fast and Furious 7\n",
       "11                                   Top Gun : Maverick\n",
       "12                                La Reine des neiges 2\n",
       "13                                               Barbie\n",
       "14                            Avengers : L'Ère d'Ultron\n",
       "15                            Super Mario Bros. le film\n",
       "16                                        Black Panther\n",
       "17    Harry Potter et les Reliques de la Mort : Part...\n",
       "18          Star Wars, épisode VIII : Les Derniers Jedi\n",
       "19                                  La Reine des neiges\n",
       "20                       Jurassic World: Fallen Kingdom\n",
       "21                                  La Belle et la Bête\n",
       "22                                Les Indestructibles 2\n",
       "23                                   Fast and Furious 8\n",
       "24                                           Iron Man 3\n",
       "25                                          Les Minions\n",
       "26           Le Seigneur des anneaux : Le Retour du roi\n",
       "27                           Captain America: Civil War\n",
       "28                                              Aquaman\n",
       "29                                              Skyfall\n",
       "30                            Spider-Man: Far From Home\n",
       "31                                       Captain Marvel\n",
       "32           Transformers 3 : La Face cachée de la Lune\n",
       "33                                        Jurassic Park\n",
       "34                 Transformers : L'Âge de l'extinction\n",
       "35                                The Dark Knight Rises\n",
       "36                                                Joker\n",
       "37     Star Wars, épisode IX : L'Ascension de Skywalker\n",
       "38                                          Toy Story 4\n",
       "39                                          Toy Story 3\n",
       "40    Pirates des Caraïbes : Le Secret du coffre maudit\n",
       "41                         Rogue One: A Star Wars Story\n",
       "42                                              Aladdin\n",
       "43       Pirates des Caraïbes : La Fontaine de Jouvence\n",
       "44                              Moi, moche et méchant 3\n",
       "45                                     Le Monde de Dory\n",
       "46             Star Wars, épisode I : La Menace fantôme\n",
       "47                                             Zootopie\n",
       "48                         Alice au pays des merveilles\n",
       "49                  Harry Potter à l'école des sorciers\n",
       "Name: Titre, dtype: object"
      ]
     },
     "execution_count": 72,
     "metadata": {},
     "output_type": "execute_result"
    }
   ],
   "source": []
  },
  {
   "cell_type": "markdown",
   "id": "6da88a1b",
   "metadata": {},
   "source": [
    "!!! attention !!! Il faut télécharger un \"chromedriver\" de la même version que votre version chrome, et le mettre à coté de ce fichier jupyter dans les fichiers."
   ]
  },
  {
   "cell_type": "code",
   "execution_count": 60,
   "id": "451f0c6c-daaa-43ce-a5f0-dfb4deb96e7e",
   "metadata": {},
   "outputs": [],
   "source": [
    "def scrape_imdb_reviews(url, num_iterations=3, wait_time=20):\n",
    "    # Initialise le navigateur\n",
    "    driver = webdriver.Chrome()\n",
    "    driver.get(url)\n",
    "\n",
    "    wait = WebDriverWait(driver, wait_time)\n",
    "    \n",
    "    # Locate the span element with the specified class\n",
    "    span_element = wait.until(EC.presence_of_element_located((By.CLASS_NAME, \"sc-bde20123-1\")))\n",
    "\n",
    "    # Get the text content of the span element\n",
    "    note = span_element.text\n",
    "\n",
    "    #  Print or use the extracted text\n",
    "    print(note)\n",
    "    \n",
    "    time.sleep(4)\n",
    "\n",
    "    # Get the current scroll position\n",
    "    current_scroll_position = driver.execute_script(\"return window.scrollY;\")\n",
    "\n",
    "    # Scroll down by 200 pixels from the current position\n",
    "    scroll_by_pixels = 400\n",
    "    new_scroll_position = current_scroll_position + scroll_by_pixels\n",
    "    driver.execute_script(f\"window.scrollTo(0, {new_scroll_position});\")\n",
    "    \n",
    "    time.sleep(2)\n",
    "    \n",
    "    user_comments_button = WebDriverWait(driver, 10).until(EC.presence_of_element_located((By.CSS_SELECTOR, \"span.three-Elements > span.label\")))\n",
    "\n",
    "    # Cliquez sur le bouton\n",
    "    user_comments_button.click()\n",
    "    wait = WebDriverWait(driver, wait_time)\n",
    "    \n",
    "    \n",
    "    #cherche le bouton \"Hide Spoilers\"\n",
    "    spoiler_button = wait.until(EC.element_to_be_clickable((By.CLASS_NAME, \"faceter-facets-text\")))\n",
    "    # Cliquez sur le bouton\n",
    "    spoiler_button.click()\n",
    "    \n",
    "    # Clique sur le bouton \"Load More\" plusieurs fois\n",
    "    for i in range(num_iterations):\n",
    "        load_more_button = wait.until(EC.element_to_be_clickable((By.ID, \"load-more-trigger\")))\n",
    "        load_more_button.click()\n",
    "        driver.implicitly_wait(3)\n",
    "\n",
    "    time.sleep(3)\n",
    "\n",
    "    # Trouve les commentaires par classe CSS\n",
    "    reviews = driver.find_elements(By.CSS_SELECTOR, \".text.show-more__control\")\n",
    "\n",
    "    # Imprime les commentaires pour débugger (les trois premiers commentaires)\n",
    "    \n",
    "    reviews_txt = []\n",
    "    for review in reviews:\n",
    "        reviews_txt.append(review.text) \n",
    "\n",
    "    # Imprime le nombre total de commentaires récupérés\n",
    "    print(f\"Nombre total de commentaires : {len(reviews)}\")\n",
    "\n",
    "    time.sleep(2)\n",
    "\n",
    "    # Ferme le navigateur\n",
    "    driver.quit()\n",
    "    \n",
    "    return reviews_txt, note"
   ]
  },
  {
   "cell_type": "markdown",
   "id": "d8d8b59d",
   "metadata": {},
   "source": [
    "Les commentaires cachés avec \"warning spoil\" sont maintenant vides dans notre liste, contrairement à avant avec la méthode beautiful soupe.\n",
    "\n",
    "Le lien \"hidespoil\"ci-dessous est ce lien:https://www.imdb.com/title/tt0499549/reviews?spoiler=hide&sort=curated&dir=desc&ratingFilter=0\n",
    "où l'on a coché la case \"hide spoiler\" ce qui retire automatiquement de la liste les commentaires avec la banière warning spoil. Ce qui nous permet de ne pas avoir d'élément vide dans notre liste. \n",
    "J'ai donc modifié la fonction pour que le robot clique automatiquement sur le bouton \"hide spoilers\" ce qui permet d'aller vers le 2ème lien à partir du 1er lien automatiquement."
   ]
  },
  {
   "cell_type": "code",
   "execution_count": 59,
   "id": "a23afa7a",
   "metadata": {},
   "outputs": [
    {
     "name": "stdout",
     "output_type": "stream",
     "text": [
      "7,9\n",
      "[\"I was waiting for this day for the longest time. I was a kid back in 2009 when this movie released. So never got to watch it back then. But now when it rereleased I booked the first day show to a IMAX show and oh boy was I blown away! This is nothing short of a masterpiece! It's beyond belief how a film like this could've been made. Every scene, every shot is perfection. You are transferred to a different world and become so engrossed in the film. Never have I attended a movie where at the end of it people got up from their seats and started clapping! Last time this happened was after Infinity War. That movie too was a damn brilliant one. I'm from India and this is legit rare, where people go crazy, so crazy after any English film. This was one experience that I will never forget. I'm definitely going for it again next weekend cuz just once was not enough.\\n\\nEvery human on the planet needs to experience this magnificent work of art!\", \"Forgive me, I'm going to jump from professional to fan boy for a while here. I haven't had the jitters after a film the way I've had for Avatar in quite sometime. James Cameron's Avatar is the most entertaining and enthralling cinematic experiences of my life. It is incredible, simply put. What Cameron has done here is the most passionate film project put out since Steven Spielberg released Schindler's List. His attention to detail and his zeal for pushing the envelope is so admirable to any filmmaker or actor who will ever do another film from this point on.\\n\\nAvatar is the story of Jake Sully, a paraplegic marine, who replaces his brother on a secret mission to infiltrate the Na' vi, the colony of beings that sit on the planet of Pandora, where there is a precious ore, that sells at a ridiculous amount. When Jake learns the ways of the Na' vi, his feelings and learnings will put him and the people he trusts in dangerous jeopardy.\\n\\nThe performances here, in the sense of reacting, becoming, and understanding what Cameron has written are astounding. Not to be confused with a sensational bravura performance from some of the centuries best such as Marion Brando, Tom Hanks, or Diane Keaton; these actors along with the director inhabit these visual transformations with special effects as if they are have lived these beings all their lives. This is all based on character movements and reactions. Sam Worthington, as Jake Sully, is an actor who's on his way to becoming a star. Though he has problems with his Aussie accent often enough in the film, he gets the job done. Zoe Saldana, who plays Neytiri, a Na' vi huntress, is thrilling and electrifying. Stephen Lang, as the rock hard Colonel Miles, takes on a villainous turn to a new level in science fiction. He offers actual emotion and emotes evil to the audience and gains our hatred easily. Sigourney Weaver as the beautiful Dr. Grace, is sufficient enough to have on screen again teamed with Cameron. She lives inside her role with effortless ease, but suffers from some of the typical James Cameron cheesy lines.\\n\\nNarratively the film works perfectly on the cinematic level. The first forty minutes or so require patience and hope as it is the weakest part of the film and offers some dreariness, but when the second act takes off, it's sky high with no limits for James Cameron. Avatar delivers the best action sequences put on film of all time. That is the boldest statement I have ever made in all my years of criticism. I sat on this for two days before charging it out, but I mean it. It is the best visual experience of my life, period.\\n\\nOther than those visuals, the film pops with all the other technical aspects thrown into one. Art Direction is killer as the two worlds blend in perfectly for an acceptable time. The Film Editing is the crowning achievement of the film as it also offers the perfect blend of the two worlds, enticing the viewer and shifting us around. Mauro Fiore is the threat for a Cinematography Oscar this year. It was if the viewer sat down in a chair, put on glasses, and was literally placed on Pandora, spaceships, and floating mountains. The viewer can feel so engulfed by the imagery, you feel like you can smell the leaves from the trees. Avatar is utterly hypnotizing. James Horner's score is some of the best work done in his career. It offers a variable of devastation that moves the viewer to near tears. It goes back to his work on Titanic, where the musical instruments lifted the material immensely. The entire sound team is also locked and loaded for Oscar recognition as the feeling of animals, machines, and arrows buzzing by your head leave you imprisoned in Cameron's exquisite film.\\n\\nJames Cameron has come back home ladies and gentlemen Cameron is back, bigger, badder, and mature in his crowning work of his career. Terminator 2: Judgment Day and Titanic do not even compare anymore. This is the film that can blend the fans of those two films together and lock Cameron into your heart. He's a definite spoiler for a directing bid for the Academy Awards. You have admire the raw, natural talent the man has. How could you ever conceive such an experience and put that much effort and work into it and have it pay off? The box office success will surely keep him in the minds of voters for various critics' awards. His screenplay, leaps and bounds better than 1997's Best Picture Winner, is primed, developed and ripe for the taking. Though, you do acquire the tacky and atypical dialogue you expect from a science fiction director of this caliber, you can appreciate the effort and the honesty of it all. James Cameron is everything Michael Bay wishes he was, to put it bluntly.\\n\\nAvatar will bring also great actors putting their best foot forward such as Giovanni Ribisi, who is as underrated as they come. Michelle Rodriguez who exudes sexy like any woman starring in a sci-fi epic. Joel Moore, showing his range outside of his comedic work in Dodgeball: An Underdog Story. And the classy veteran actors, CCH Pounder and Wes Studi, who just simply don't work enough.\\n\\nAvatar is one of the best films of the year. The most exciting, thrilling, and superb work you'll feast your eyes on in any theater this century. Cinema, forever, will remember the benchmark that James Cameron placed not only for himself, but for any man, daring to change the game, the way Cameron did. Avatar is a movie experience to be remembered, and please experience in a movie theater first.\\n\\n***½/****\"]\n",
      "Nombre total de commentaires : 100\n"
     ]
    }
   ],
   "source": [
    "url_avatar = \"https://www.imdb.com/title/tt0499549/\"\n",
    "reviews_avatar = scrape_imdb_reviews(url_avatar, num_iterations=3, wait_time=20)"
   ]
  },
  {
   "cell_type": "markdown",
   "id": "18ccc83b",
   "metadata": {},
   "source": [
    "Les commentaires cachés avec \"warning spoil\" sont maintenant vides dans notre liste, contrairement à avant avec la méthode beautiful soupe."
   ]
  },
  {
   "cell_type": "code",
   "execution_count": 63,
   "id": "17bc7ac4",
   "metadata": {},
   "outputs": [
    {
     "data": {
      "text/plain": [
       "array([ 945, 5506, 2389, 4167, 1033, 2754, 5675, 1922, 2022, 1352, 3585,\n",
       "       3852, 2429,  850,  997, 1305,  715, 1047,  184, 1724,  824, 1275,\n",
       "       2433, 4197, 1014, 5140, 1856, 2332, 2867, 2324, 5172, 1030, 4866,\n",
       "       2689,  184, 2714, 2715, 4956, 1662, 2300,  820, 4488,  767, 2884,\n",
       "       2559, 4741, 2492, 1159, 1759, 1268, 5574, 1679, 3027,  765,  992,\n",
       "       4081,  426, 1418, 5216, 1440,  820,  753,  397,  296,  550, 1259,\n",
       "        802,  743, 1211, 2292,  792, 1416, 1578, 2094, 3903,  403,  972,\n",
       "       1263, 5415, 1049, 3298,  903,  484, 2565,  781,  477, 1482, 1119,\n",
       "        719, 2289, 3680,  817, 2203, 1361,  769,  254, 1792, 1039, 3628,\n",
       "        227])"
      ]
     },
     "execution_count": 63,
     "metadata": {},
     "output_type": "execute_result"
    }
   ],
   "source": [
    "#vérification que nous avons pas de commentaire \"vide\"\n",
    "X = np.array([len(review) for review in reviews_avatar_2])\n",
    "len(X)\n",
    "X"
   ]
  },
  {
   "cell_type": "code",
   "execution_count": 61,
   "id": "74ecea69",
   "metadata": {},
   "outputs": [
    {
     "name": "stdout",
     "output_type": "stream",
     "text": [
      "7,2\n",
      "Nombre total de commentaires : 100\n"
     ]
    }
   ],
   "source": [
    "#Test pour un autre film\n",
    "url_cars = \"https://www.imdb.com/title/tt0317219/?ref_=nv_sr_srsg_0_tt_8_nm_0_q_cars\"\n",
    "reviews_cars = scrape_imdb_reviews(url_cars, num_iterations=3, wait_time=20)"
   ]
  },
  {
   "cell_type": "code",
   "execution_count": 23,
   "id": "ec6ca08b",
   "metadata": {},
   "outputs": [],
   "source": []
  },
  {
   "cell_type": "code",
   "execution_count": null,
   "id": "ebef8924",
   "metadata": {
    "scrolled": true
   },
   "outputs": [],
   "source": []
  },
  {
   "cell_type": "code",
   "execution_count": 75,
   "id": "925c99ca",
   "metadata": {},
   "outputs": [],
   "source": [
    "def scrap_review_all(movies, wait_time=10, num_iterations=3):\n",
    "    # Initialise le navigateur\n",
    "    driver = webdriver.Chrome()\n",
    "    dico_all_comments = {}\n",
    "    driver.get(\"https://www.google.com\")\n",
    "    wait = WebDriverWait(driver, wait_time)\n",
    "    # Attendre que le bouton soit présent\n",
    "    button = wait.until(EC.presence_of_element_located((By.XPATH, \"//div[@class='QS5gu sy4vM' and text()='Tout refuser']\")))\n",
    "        \n",
    "    # Cliquez sur le bouton\n",
    "    button.click()\n",
    "    \n",
    "    for movie in movies:\n",
    "        # Ouvrir Google\n",
    "        driver.get(\"https://www.google.com\")\n",
    "        wait = WebDriverWait(driver, wait_time)\n",
    "        \n",
    "        \n",
    "        \n",
    "        search_box = driver.find_element(By.NAME, \"q\")\n",
    "        search_box.send_keys(\"imdb title \" + movie )\n",
    "        search_box.send_keys(Keys.RETURN)\n",
    "        \n",
    "        # Attente que les résultats de recherche soient chargés\n",
    "        wait.until(EC.presence_of_element_located((By.ID, \"search\")))\n",
    "        \n",
    "        time.sleep(2)\n",
    "        \n",
    "        # Trouver le premier lien dans les résultats de recherche et cliquer dessus\n",
    "        first_link = driver.find_element(By.CSS_SELECTOR, \"h3\")\n",
    "        first_link.click()\n",
    "        \n",
    "        time.sleep(2)\n",
    "        \n",
    "        # Locate the span element with the specified class\n",
    "        span_element = wait.until(EC.presence_of_element_located((By.CLASS_NAME, \"sc-bde20123-1\")))\n",
    "\n",
    "        # Get the text content of the span element\n",
    "        note = span_element.text\n",
    "\n",
    "        #  Print or use the extracted text\n",
    "        print(note)\n",
    "    \n",
    "        time.sleep(4)\n",
    "\n",
    "        # Get the current scroll position\n",
    "        current_scroll_position = driver.execute_script(\"return window.scrollY;\")\n",
    "\n",
    "           # Scroll down by 200 pixels from the current position\n",
    "        scroll_by_pixels = 400\n",
    "        new_scroll_position = current_scroll_position + scroll_by_pixels\n",
    "        driver.execute_script(f\"window.scrollTo(0, {new_scroll_position});\")\n",
    "    \n",
    "        time.sleep(2)\n",
    "    \n",
    "        user_comments_button = WebDriverWait(driver, 10).until(EC.presence_of_element_located((By.CSS_SELECTOR, \"span.three-Elements > span.label\")))\n",
    "\n",
    "         # Cliquez sur le bouton\n",
    "        user_comments_button.click()\n",
    "        wait = WebDriverWait(driver, wait_time)\n",
    "        \n",
    "        time.sleep(1)\n",
    "    \n",
    "    \n",
    "         #cherche le bouton \"Hide Spoilers\"\n",
    "        spoiler_button = wait.until(EC.element_to_be_clickable((By.CLASS_NAME, \"faceter-facets-text\")))\n",
    "        # Cliquez sur le bouton\n",
    "        spoiler_button.click()\n",
    "        \n",
    " \n",
    "    \n",
    "        # Clique sur le bouton \"Load More\" plusieurs fois\n",
    "        for i in range(num_iterations):\n",
    "            load_more_button = wait.until(EC.element_to_be_clickable((By.ID, \"load-more-trigger\")))\n",
    "            load_more_button.click()\n",
    "            time.sleep(2)\n",
    "\n",
    "        time.sleep(4)\n",
    "\n",
    "        # Trouve les commentaires par classe CSS\n",
    "        reviews = driver.find_elements(By.CSS_SELECTOR, \".text.show-more__control\")\n",
    "\n",
    "        \n",
    "        reviews_txt = [review.text for review in reviews]\n",
    "        dico_all_comments[movie] = [reviews_txt, note]\n",
    "        \n",
    "        time.sleep(4)\n",
    "    \n",
    "    return dico_all_comments"
   ]
  },
  {
   "cell_type": "code",
   "execution_count": 76,
   "id": "8dbacb52",
   "metadata": {},
   "outputs": [
    {
     "name": "stdout",
     "output_type": "stream",
     "text": [
      "7,9\n",
      "8,4\n",
      "7,6\n",
      "7,9\n",
      "7,8\n",
      "8,4\n",
      "8,2\n",
      "6,9\n",
      "6,8\n",
      "8,0\n",
      "7,1\n",
      "8,3\n",
      "6,8\n",
      "7,0\n",
      "7,3\n",
      "7,1\n",
      "7,3\n",
      "8,1\n",
      "6,9\n",
      "7,4\n",
      "6,1\n",
      "6,4\n"
     ]
    },
    {
     "ename": "TimeoutException",
     "evalue": "Message: \n",
     "output_type": "error",
     "traceback": [
      "\u001b[1;31m---------------------------------------------------------------------------\u001b[0m",
      "\u001b[1;31mTimeoutException\u001b[0m                          Traceback (most recent call last)",
      "Cell \u001b[1;32mIn[76], line 1\u001b[0m\n\u001b[1;32m----> 1\u001b[0m comments_all \u001b[38;5;241m=\u001b[39m scrap_review_all(\u001b[38;5;28mlist\u001b[39m(data_bo\u001b[38;5;241m.\u001b[39miloc[:,\u001b[38;5;241m0\u001b[39m]), wait_time\u001b[38;5;241m=\u001b[39m\u001b[38;5;241m20\u001b[39m)\n",
      "Cell \u001b[1;32mIn[75], line 74\u001b[0m, in \u001b[0;36mscrap_review_all\u001b[1;34m(movies, wait_time, num_iterations)\u001b[0m\n\u001b[0;32m     72\u001b[0m \u001b[38;5;66;03m# Clique sur le bouton \"Load More\" plusieurs fois\u001b[39;00m\n\u001b[0;32m     73\u001b[0m \u001b[38;5;28;01mfor\u001b[39;00m i \u001b[38;5;129;01min\u001b[39;00m \u001b[38;5;28mrange\u001b[39m(num_iterations):\n\u001b[1;32m---> 74\u001b[0m     load_more_button \u001b[38;5;241m=\u001b[39m wait\u001b[38;5;241m.\u001b[39muntil(EC\u001b[38;5;241m.\u001b[39melement_to_be_clickable((By\u001b[38;5;241m.\u001b[39mID, \u001b[38;5;124m\"\u001b[39m\u001b[38;5;124mload-more-trigger\u001b[39m\u001b[38;5;124m\"\u001b[39m)))\n\u001b[0;32m     75\u001b[0m     load_more_button\u001b[38;5;241m.\u001b[39mclick()\n\u001b[0;32m     76\u001b[0m     driver\u001b[38;5;241m.\u001b[39mimplicitly_wait(\u001b[38;5;241m3\u001b[39m)\n",
      "File \u001b[1;32m~\\anaconda3\\Lib\\site-packages\\selenium\\webdriver\\support\\wait.py:101\u001b[0m, in \u001b[0;36mWebDriverWait.until\u001b[1;34m(self, method, message)\u001b[0m\n\u001b[0;32m     99\u001b[0m     \u001b[38;5;28;01mif\u001b[39;00m time\u001b[38;5;241m.\u001b[39mmonotonic() \u001b[38;5;241m>\u001b[39m end_time:\n\u001b[0;32m    100\u001b[0m         \u001b[38;5;28;01mbreak\u001b[39;00m\n\u001b[1;32m--> 101\u001b[0m \u001b[38;5;28;01mraise\u001b[39;00m TimeoutException(message, screen, stacktrace)\n",
      "\u001b[1;31mTimeoutException\u001b[0m: Message: \n"
     ]
    }
   ],
   "source": [
    "comments_all = scrap_review_all(list(data_bo.iloc[:,0]), wait_time=20)"
   ]
  },
  {
   "cell_type": "code",
   "execution_count": null,
   "id": "f195d89d",
   "metadata": {},
   "outputs": [],
   "source": []
  },
  {
   "cell_type": "code",
   "execution_count": null,
   "id": "057c9bcd",
   "metadata": {},
   "outputs": [],
   "source": []
  },
  {
   "cell_type": "code",
   "execution_count": null,
   "id": "f03e4241",
   "metadata": {},
   "outputs": [],
   "source": []
  },
  {
   "cell_type": "code",
   "execution_count": null,
   "id": "7b4ffe44",
   "metadata": {},
   "outputs": [],
   "source": []
  },
  {
   "cell_type": "code",
   "execution_count": null,
   "id": "04ff365d",
   "metadata": {},
   "outputs": [],
   "source": []
  },
  {
   "cell_type": "code",
   "execution_count": null,
   "id": "c0805e4b",
   "metadata": {},
   "outputs": [],
   "source": []
  }
 ],
 "metadata": {
  "kernelspec": {
   "display_name": "Python 3 (ipykernel)",
   "language": "python",
   "name": "python3"
  },
  "language_info": {
   "codemirror_mode": {
    "name": "ipython",
    "version": 3
   },
   "file_extension": ".py",
   "mimetype": "text/x-python",
   "name": "python",
   "nbconvert_exporter": "python",
   "pygments_lexer": "ipython3",
   "version": "3.11.5"
  }
 },
 "nbformat": 4,
 "nbformat_minor": 5
}
